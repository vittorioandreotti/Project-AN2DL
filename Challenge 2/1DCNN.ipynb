{
 "cells": [
  {
   "cell_type": "markdown",
   "id": "c770765c",
   "metadata": {
    "papermill": {
     "duration": 0.005952,
     "end_time": "2022-12-15T19:41:08.553370",
     "exception": false,
     "start_time": "2022-12-15T19:41:08.547418",
     "status": "completed"
    },
    "tags": []
   },
   "source": [
    "### Import libraries"
   ]
  },
  {
   "cell_type": "code",
   "execution_count": 1,
   "id": "9a85a2f5",
   "metadata": {
    "execution": {
     "iopub.execute_input": "2022-12-15T19:41:08.565553Z",
     "iopub.status.busy": "2022-12-15T19:41:08.564541Z",
     "iopub.status.idle": "2022-12-15T19:41:20.504981Z",
     "shell.execute_reply": "2022-12-15T19:41:20.503915Z"
    },
    "papermill": {
     "duration": 11.949306,
     "end_time": "2022-12-15T19:41:20.507737",
     "exception": false,
     "start_time": "2022-12-15T19:41:08.558431",
     "status": "completed"
    },
    "tags": []
   },
   "outputs": [
    {
     "name": "stdout",
     "output_type": "stream",
     "text": [
      "2.6.4\n"
     ]
    }
   ],
   "source": [
    "import tensorflow as tf\n",
    "import numpy as np\n",
    "import os\n",
    "import random\n",
    "import pandas as pd\n",
    "import seaborn as sns\n",
    "import matplotlib.pyplot as plt\n",
    "plt.rc('font', size=16) \n",
    "from sklearn.metrics import accuracy_score, f1_score, precision_score, recall_score\n",
    "from sklearn.metrics import confusion_matrix\n",
    "from sklearn.preprocessing import MinMaxScaler, StandardScaler, RobustScaler\n",
    "from sklearn.model_selection import train_test_split\n",
    "import warnings\n",
    "import logging\n",
    "from pickle import dump\n",
    "from sklearn.utils import class_weight\n",
    "\n",
    "tfk = tf.keras\n",
    "tfkl = tf.keras.layers\n",
    "print(tf.__version__)"
   ]
  },
  {
   "cell_type": "markdown",
   "id": "2c7acc0a",
   "metadata": {
    "papermill": {
     "duration": 0.004781,
     "end_time": "2022-12-15T19:41:20.517686",
     "exception": false,
     "start_time": "2022-12-15T19:41:20.512905",
     "status": "completed"
    },
    "tags": []
   },
   "source": [
    "### Set seed for reproducibility"
   ]
  },
  {
   "cell_type": "code",
   "execution_count": 2,
   "id": "440e1ec7",
   "metadata": {
    "execution": {
     "iopub.execute_input": "2022-12-15T19:41:20.531168Z",
     "iopub.status.busy": "2022-12-15T19:41:20.529103Z",
     "iopub.status.idle": "2022-12-15T19:41:20.535665Z",
     "shell.execute_reply": "2022-12-15T19:41:20.534716Z"
    },
    "papermill": {
     "duration": 0.014806,
     "end_time": "2022-12-15T19:41:20.537743",
     "exception": false,
     "start_time": "2022-12-15T19:41:20.522937",
     "status": "completed"
    },
    "tags": []
   },
   "outputs": [],
   "source": [
    "# Random seed for reproducibility\n",
    "seed = 42\n",
    "\n",
    "random.seed(seed)\n",
    "os.environ['PYTHONHASHSEED'] = str(seed)\n",
    "np.random.seed(seed)\n",
    "tf.random.set_seed(seed)\n",
    "tf.compat.v1.set_random_seed(seed)"
   ]
  },
  {
   "cell_type": "markdown",
   "id": "6611ccf7",
   "metadata": {
    "papermill": {
     "duration": 0.004882,
     "end_time": "2022-12-15T19:41:20.548083",
     "exception": false,
     "start_time": "2022-12-15T19:41:20.543201",
     "status": "completed"
    },
    "tags": []
   },
   "source": [
    "## Dataset"
   ]
  },
  {
   "cell_type": "code",
   "execution_count": 3,
   "id": "85fd3e03",
   "metadata": {
    "execution": {
     "iopub.execute_input": "2022-12-15T19:41:20.560050Z",
     "iopub.status.busy": "2022-12-15T19:41:20.559154Z",
     "iopub.status.idle": "2022-12-15T19:41:20.564198Z",
     "shell.execute_reply": "2022-12-15T19:41:20.563321Z"
    },
    "papermill": {
     "duration": 0.013267,
     "end_time": "2022-12-15T19:41:20.566247",
     "exception": false,
     "start_time": "2022-12-15T19:41:20.552980",
     "status": "completed"
    },
    "tags": []
   },
   "outputs": [],
   "source": [
    "dataset_dir = \"/kaggle/input/dataset-homework2\""
   ]
  },
  {
   "cell_type": "code",
   "execution_count": 4,
   "id": "b11d792b",
   "metadata": {
    "execution": {
     "iopub.execute_input": "2022-12-15T19:41:20.578203Z",
     "iopub.status.busy": "2022-12-15T19:41:20.577388Z",
     "iopub.status.idle": "2022-12-15T19:41:20.583310Z",
     "shell.execute_reply": "2022-12-15T19:41:20.582398Z"
    },
    "papermill": {
     "duration": 0.013896,
     "end_time": "2022-12-15T19:41:20.585304",
     "exception": false,
     "start_time": "2022-12-15T19:41:20.571408",
     "status": "completed"
    },
    "tags": []
   },
   "outputs": [],
   "source": [
    "label_mapping = {\n",
    "    0: \"Wish\",\n",
    "    1: \"Another\",\n",
    "    2: \"Comfortably\",\n",
    "    3: \"Money\",\n",
    "    4: \"Breathe\",\n",
    "    5: \"Time\",\n",
    "    6: \"Brain\",\n",
    "    7: \"Echoes\",\n",
    "    8: \"Wearing\",\n",
    "    9: \"Sorrow\",\n",
    "    10: \"Hey\",\n",
    "    11: \"Shine\"\n",
    "}"
   ]
  },
  {
   "cell_type": "code",
   "execution_count": 5,
   "id": "89592300",
   "metadata": {
    "execution": {
     "iopub.execute_input": "2022-12-15T19:41:20.598528Z",
     "iopub.status.busy": "2022-12-15T19:41:20.597683Z",
     "iopub.status.idle": "2022-12-15T19:41:20.715179Z",
     "shell.execute_reply": "2022-12-15T19:41:20.714222Z"
    },
    "papermill": {
     "duration": 0.126953,
     "end_time": "2022-12-15T19:41:20.717308",
     "exception": false,
     "start_time": "2022-12-15T19:41:20.590355",
     "status": "completed"
    },
    "tags": []
   },
   "outputs": [
    {
     "data": {
      "text/plain": [
       "((2429, 36, 6), (2429,))"
      ]
     },
     "execution_count": 5,
     "metadata": {},
     "output_type": "execute_result"
    }
   ],
   "source": [
    "X_train_val = np.load(dataset_dir + '/x_train.npy')\n",
    "y_train_val = np.load(dataset_dir + '/y_train.npy')\n",
    "X_train_val.shape, y_train_val.shape"
   ]
  },
  {
   "cell_type": "code",
   "execution_count": 6,
   "id": "c83a36ea",
   "metadata": {
    "execution": {
     "iopub.execute_input": "2022-12-15T19:41:20.729660Z",
     "iopub.status.busy": "2022-12-15T19:41:20.729310Z",
     "iopub.status.idle": "2022-12-15T19:41:20.738079Z",
     "shell.execute_reply": "2022-12-15T19:41:20.736945Z"
    },
    "papermill": {
     "duration": 0.017664,
     "end_time": "2022-12-15T19:41:20.740696",
     "exception": false,
     "start_time": "2022-12-15T19:41:20.723032",
     "status": "completed"
    },
    "tags": []
   },
   "outputs": [
    {
     "name": "stdout",
     "output_type": "stream",
     "text": [
      "Wish: 34\n",
      "Another: 123\n",
      "Comfortably: 270\n",
      "Money: 381\n",
      "Breathe: 62\n",
      "Time: 153\n",
      "Brain: 313\n",
      "Echoes: 68\n",
      "Wearing: 120\n",
      "Sorrow: 777\n",
      "Hey: 77\n",
      "Shine: 51\n"
     ]
    }
   ],
   "source": [
    "count = {\n",
    "    0: 0,\n",
    "    1: 0,\n",
    "    2: 0,\n",
    "    3: 0,\n",
    "    4: 0,\n",
    "    5: 0,\n",
    "    6: 0,\n",
    "    7: 0,\n",
    "    8: 0,\n",
    "    9: 0,\n",
    "    10: 0,\n",
    "    11: 0\n",
    "}\n",
    "for i in range(0,12):\n",
    "    count[i] = (y_train_val == i).sum()\n",
    "\n",
    "for i in range(0,12):\n",
    "    print(str(label_mapping[i]) + \": \" + str(count[i]))"
   ]
  },
  {
   "cell_type": "code",
   "execution_count": 7,
   "id": "30adcb9c",
   "metadata": {
    "execution": {
     "iopub.execute_input": "2022-12-15T19:41:20.754320Z",
     "iopub.status.busy": "2022-12-15T19:41:20.753416Z",
     "iopub.status.idle": "2022-12-15T19:41:20.769252Z",
     "shell.execute_reply": "2022-12-15T19:41:20.768140Z"
    },
    "papermill": {
     "duration": 0.024631,
     "end_time": "2022-12-15T19:41:20.771601",
     "exception": false,
     "start_time": "2022-12-15T19:41:20.746970",
     "status": "completed"
    },
    "tags": []
   },
   "outputs": [
    {
     "data": {
      "text/plain": [
       "((2307, 36, 6), (2307,), (122, 36, 6), (122,))"
      ]
     },
     "execution_count": 7,
     "metadata": {},
     "output_type": "execute_result"
    }
   ],
   "source": [
    "# Split in train and validation\n",
    "X_train, X_val, y_train, y_val = train_test_split(X_train_val, y_train_val, random_state=seed, test_size=.05, stratify=y_train_val)\n",
    "X_train.shape, y_train.shape, X_val.shape, y_val.shape"
   ]
  },
  {
   "cell_type": "code",
   "execution_count": 8,
   "id": "3efd8684",
   "metadata": {
    "execution": {
     "iopub.execute_input": "2022-12-15T19:41:20.784331Z",
     "iopub.status.busy": "2022-12-15T19:41:20.783436Z",
     "iopub.status.idle": "2022-12-15T19:41:20.791491Z",
     "shell.execute_reply": "2022-12-15T19:41:20.790371Z"
    },
    "papermill": {
     "duration": 0.016872,
     "end_time": "2022-12-15T19:41:20.793745",
     "exception": false,
     "start_time": "2022-12-15T19:41:20.776873",
     "status": "completed"
    },
    "tags": []
   },
   "outputs": [
    {
     "data": {
      "text/plain": [
       "((2307, 12), (122, 12))"
      ]
     },
     "execution_count": 8,
     "metadata": {},
     "output_type": "execute_result"
    }
   ],
   "source": [
    "# Convert the sparse labels to categorical values\n",
    "y_train = tfk.utils.to_categorical(y_train)\n",
    "y_val = tfk.utils.to_categorical(y_val)\n",
    "y_train.shape, y_val.shape"
   ]
  },
  {
   "cell_type": "code",
   "execution_count": 9,
   "id": "b475c74b",
   "metadata": {
    "execution": {
     "iopub.execute_input": "2022-12-15T19:41:20.807638Z",
     "iopub.status.busy": "2022-12-15T19:41:20.805837Z",
     "iopub.status.idle": "2022-12-15T19:41:20.844621Z",
     "shell.execute_reply": "2022-12-15T19:41:20.843618Z"
    },
    "papermill": {
     "duration": 0.047327,
     "end_time": "2022-12-15T19:41:20.846661",
     "exception": false,
     "start_time": "2022-12-15T19:41:20.799334",
     "status": "completed"
    },
    "tags": []
   },
   "outputs": [
    {
     "data": {
      "text/plain": [
       "((2307, 36, 6), (122, 36, 6))"
      ]
     },
     "execution_count": 9,
     "metadata": {},
     "output_type": "execute_result"
    }
   ],
   "source": [
    "# Reshape in 2d for normalization of features\n",
    "shape_train = X_train.shape\n",
    "shape_val = X_val.shape\n",
    "X_train = X_train.reshape(-1, X_train.shape[-1])\n",
    "X_val = X_val.reshape(-1, X_val.shape[-1])\n",
    "\n",
    "# RobustScaler()\n",
    "scaler = RobustScaler()\n",
    "scaler = scaler.fit(X_train)\n",
    "X_train = scaler.transform(X_train)\n",
    "X_val = scaler.transform(X_val)\n",
    "\n",
    "# Reshape in 3d\n",
    "X_train = X_train.reshape(shape_train)\n",
    "X_val = X_val.reshape(shape_val)\n",
    "X_train.shape, X_val.shape"
   ]
  },
  {
   "cell_type": "markdown",
   "id": "3b614d11",
   "metadata": {
    "papermill": {
     "duration": 0.005216,
     "end_time": "2022-12-15T19:41:20.857477",
     "exception": false,
     "start_time": "2022-12-15T19:41:20.852261",
     "status": "completed"
    },
    "tags": []
   },
   "source": [
    "### Model metadata"
   ]
  },
  {
   "cell_type": "code",
   "execution_count": 10,
   "id": "e7effaec",
   "metadata": {
    "execution": {
     "iopub.execute_input": "2022-12-15T19:41:20.870300Z",
     "iopub.status.busy": "2022-12-15T19:41:20.869430Z",
     "iopub.status.idle": "2022-12-15T19:41:20.874510Z",
     "shell.execute_reply": "2022-12-15T19:41:20.873628Z"
    },
    "papermill": {
     "duration": 0.013379,
     "end_time": "2022-12-15T19:41:20.876492",
     "exception": false,
     "start_time": "2022-12-15T19:41:20.863113",
     "status": "completed"
    },
    "tags": []
   },
   "outputs": [],
   "source": [
    "input_shape = (36,6)\n",
    "classes = 12\n",
    "batch_size = 64\n",
    "epochs = 200"
   ]
  },
  {
   "cell_type": "markdown",
   "id": "28674e07",
   "metadata": {
    "papermill": {
     "duration": 0.00522,
     "end_time": "2022-12-15T19:41:20.887051",
     "exception": false,
     "start_time": "2022-12-15T19:41:20.881831",
     "status": "completed"
    },
    "tags": []
   },
   "source": [
    "### 1D Convolutional Neural Network"
   ]
  },
  {
   "cell_type": "code",
   "execution_count": 11,
   "id": "7d1c4568",
   "metadata": {
    "execution": {
     "iopub.execute_input": "2022-12-15T19:41:20.899970Z",
     "iopub.status.busy": "2022-12-15T19:41:20.898963Z",
     "iopub.status.idle": "2022-12-15T19:41:20.907734Z",
     "shell.execute_reply": "2022-12-15T19:41:20.906851Z"
    },
    "papermill": {
     "duration": 0.017357,
     "end_time": "2022-12-15T19:41:20.909780",
     "exception": false,
     "start_time": "2022-12-15T19:41:20.892423",
     "status": "completed"
    },
    "tags": []
   },
   "outputs": [],
   "source": [
    "def build_1DCNN_classifier(input_shape, classes):\n",
    "    # Build the neural network layer by layer\n",
    "    input_layer = tfkl.Input(shape=input_shape, name='Input')\n",
    "\n",
    "    # Feature extractor\n",
    "    cnn = tfkl.Conv1D(256,3,padding='same',activation='relu')(input_layer)\n",
    "    cnn = tfkl.MaxPooling1D()(cnn)\n",
    "    cnn = tfkl.Conv1D(512,3,padding='same',activation='relu')(cnn)\n",
    "    gap = tfkl.GlobalAveragePooling1D()(cnn)\n",
    "    dropout = tfkl.Dropout(.1, seed=seed)(gap)\n",
    "\n",
    "    # Classifier\n",
    "    classifier = tfkl.Dense(512, activation='relu')(dropout)\n",
    "    #classifier = tfkl.Dropout(.1, seed=seed)(classifier)\n",
    "    classifier = tfkl.Dense(128, activation='relu')(classifier)\n",
    "    classifier = tfkl.Dropout(.5, seed=seed)(classifier)\n",
    "    output_layer = tfkl.Dense(classes, activation='softmax')(classifier)\n",
    "\n",
    "    # Connect input and output through the Model class\n",
    "    model = tfk.Model(inputs=input_layer, outputs=output_layer, name='model')\n",
    "\n",
    "    # Compile the model\n",
    "    model.compile(loss=tfk.losses.CategoricalCrossentropy(), optimizer=tfk.optimizers.Adam(), metrics='accuracy')\n",
    "\n",
    "    # Return the model\n",
    "    return model"
   ]
  },
  {
   "cell_type": "code",
   "execution_count": 12,
   "id": "90db8d51",
   "metadata": {
    "execution": {
     "iopub.execute_input": "2022-12-15T19:41:20.922627Z",
     "iopub.status.busy": "2022-12-15T19:41:20.921574Z",
     "iopub.status.idle": "2022-12-15T19:41:26.516681Z",
     "shell.execute_reply": "2022-12-15T19:41:26.513333Z"
    },
    "papermill": {
     "duration": 5.60512,
     "end_time": "2022-12-15T19:41:26.520310",
     "exception": false,
     "start_time": "2022-12-15T19:41:20.915190",
     "status": "completed"
    },
    "tags": []
   },
   "outputs": [
    {
     "name": "stderr",
     "output_type": "stream",
     "text": [
      "2022-12-15 19:41:21.089652: I tensorflow/stream_executor/cuda/cuda_gpu_executor.cc:937] successful NUMA node read from SysFS had negative value (-1), but there must be at least one NUMA node, so returning NUMA node zero\n"
     ]
    },
    {
     "name": "stdout",
     "output_type": "stream",
     "text": [
      "Model: \"model\"\n",
      "_________________________________________________________________\n",
      "Layer (type)                 Output Shape              Param #   \n",
      "=================================================================\n",
      "Input (InputLayer)           [(None, 36, 6)]           0         \n",
      "_________________________________________________________________\n",
      "conv1d (Conv1D)              (None, 36, 256)           4864      \n",
      "_________________________________________________________________\n",
      "max_pooling1d (MaxPooling1D) (None, 18, 256)           0         \n",
      "_________________________________________________________________\n",
      "conv1d_1 (Conv1D)            (None, 18, 512)           393728    \n",
      "_________________________________________________________________\n",
      "global_average_pooling1d (Gl (None, 512)               0         \n",
      "_________________________________________________________________\n",
      "dropout (Dropout)            (None, 512)               0         \n",
      "_________________________________________________________________\n",
      "dense (Dense)                (None, 512)               262656    \n",
      "_________________________________________________________________\n",
      "dense_1 (Dense)              (None, 128)               65664     \n",
      "_________________________________________________________________\n",
      "dropout_1 (Dropout)          (None, 128)               0         \n",
      "_________________________________________________________________\n",
      "dense_2 (Dense)              (None, 12)                1548      \n",
      "=================================================================\n",
      "Total params: 728,460\n",
      "Trainable params: 728,460\n",
      "Non-trainable params: 0\n",
      "_________________________________________________________________\n"
     ]
    },
    {
     "name": "stderr",
     "output_type": "stream",
     "text": [
      "2022-12-15 19:41:21.090648: I tensorflow/stream_executor/cuda/cuda_gpu_executor.cc:937] successful NUMA node read from SysFS had negative value (-1), but there must be at least one NUMA node, so returning NUMA node zero\n",
      "2022-12-15 19:41:21.396565: I tensorflow/stream_executor/cuda/cuda_gpu_executor.cc:937] successful NUMA node read from SysFS had negative value (-1), but there must be at least one NUMA node, so returning NUMA node zero\n",
      "2022-12-15 19:41:21.397479: I tensorflow/stream_executor/cuda/cuda_gpu_executor.cc:937] successful NUMA node read from SysFS had negative value (-1), but there must be at least one NUMA node, so returning NUMA node zero\n",
      "2022-12-15 19:41:21.398272: I tensorflow/stream_executor/cuda/cuda_gpu_executor.cc:937] successful NUMA node read from SysFS had negative value (-1), but there must be at least one NUMA node, so returning NUMA node zero\n",
      "2022-12-15 19:41:21.399089: I tensorflow/stream_executor/cuda/cuda_gpu_executor.cc:937] successful NUMA node read from SysFS had negative value (-1), but there must be at least one NUMA node, so returning NUMA node zero\n",
      "2022-12-15 19:41:21.400465: I tensorflow/core/platform/cpu_feature_guard.cc:142] This TensorFlow binary is optimized with oneAPI Deep Neural Network Library (oneDNN) to use the following CPU instructions in performance-critical operations:  AVX2 AVX512F FMA\n",
      "To enable them in other operations, rebuild TensorFlow with the appropriate compiler flags.\n",
      "2022-12-15 19:41:21.659875: I tensorflow/stream_executor/cuda/cuda_gpu_executor.cc:937] successful NUMA node read from SysFS had negative value (-1), but there must be at least one NUMA node, so returning NUMA node zero\n",
      "2022-12-15 19:41:21.660810: I tensorflow/stream_executor/cuda/cuda_gpu_executor.cc:937] successful NUMA node read from SysFS had negative value (-1), but there must be at least one NUMA node, so returning NUMA node zero\n",
      "2022-12-15 19:41:21.661619: I tensorflow/stream_executor/cuda/cuda_gpu_executor.cc:937] successful NUMA node read from SysFS had negative value (-1), but there must be at least one NUMA node, so returning NUMA node zero\n",
      "2022-12-15 19:41:21.662366: I tensorflow/stream_executor/cuda/cuda_gpu_executor.cc:937] successful NUMA node read from SysFS had negative value (-1), but there must be at least one NUMA node, so returning NUMA node zero\n",
      "2022-12-15 19:41:21.663058: I tensorflow/stream_executor/cuda/cuda_gpu_executor.cc:937] successful NUMA node read from SysFS had negative value (-1), but there must be at least one NUMA node, so returning NUMA node zero\n",
      "2022-12-15 19:41:21.663729: I tensorflow/stream_executor/cuda/cuda_gpu_executor.cc:937] successful NUMA node read from SysFS had negative value (-1), but there must be at least one NUMA node, so returning NUMA node zero\n",
      "2022-12-15 19:41:25.963558: I tensorflow/stream_executor/cuda/cuda_gpu_executor.cc:937] successful NUMA node read from SysFS had negative value (-1), but there must be at least one NUMA node, so returning NUMA node zero\n",
      "2022-12-15 19:41:25.964494: I tensorflow/stream_executor/cuda/cuda_gpu_executor.cc:937] successful NUMA node read from SysFS had negative value (-1), but there must be at least one NUMA node, so returning NUMA node zero\n",
      "2022-12-15 19:41:25.965243: I tensorflow/stream_executor/cuda/cuda_gpu_executor.cc:937] successful NUMA node read from SysFS had negative value (-1), but there must be at least one NUMA node, so returning NUMA node zero\n",
      "2022-12-15 19:41:25.965993: I tensorflow/stream_executor/cuda/cuda_gpu_executor.cc:937] successful NUMA node read from SysFS had negative value (-1), but there must be at least one NUMA node, so returning NUMA node zero\n",
      "2022-12-15 19:41:25.966692: I tensorflow/stream_executor/cuda/cuda_gpu_executor.cc:937] successful NUMA node read from SysFS had negative value (-1), but there must be at least one NUMA node, so returning NUMA node zero\n",
      "2022-12-15 19:41:25.967355: I tensorflow/core/common_runtime/gpu/gpu_device.cc:1510] Created device /job:localhost/replica:0/task:0/device:GPU:0 with 13789 MB memory:  -> device: 0, name: Tesla T4, pci bus id: 0000:00:04.0, compute capability: 7.5\n",
      "2022-12-15 19:41:25.971705: I tensorflow/stream_executor/cuda/cuda_gpu_executor.cc:937] successful NUMA node read from SysFS had negative value (-1), but there must be at least one NUMA node, so returning NUMA node zero\n",
      "2022-12-15 19:41:25.972445: I tensorflow/core/common_runtime/gpu/gpu_device.cc:1510] Created device /job:localhost/replica:0/task:0/device:GPU:1 with 13789 MB memory:  -> device: 1, name: Tesla T4, pci bus id: 0000:00:05.0, compute capability: 7.5\n"
     ]
    }
   ],
   "source": [
    "model = build_1DCNN_classifier(input_shape, classes)\n",
    "model.summary()"
   ]
  },
  {
   "cell_type": "code",
   "execution_count": 14,
   "id": "ba55647d",
   "metadata": {
    "execution": {
     "iopub.execute_input": "2022-12-15T19:41:26.567146Z",
     "iopub.status.busy": "2022-12-15T19:41:26.566796Z",
     "iopub.status.idle": "2022-12-15T19:42:03.896121Z",
     "shell.execute_reply": "2022-12-15T19:42:03.895158Z"
    },
    "papermill": {
     "duration": 37.3412,
     "end_time": "2022-12-15T19:42:03.898390",
     "exception": false,
     "start_time": "2022-12-15T19:41:26.557190",
     "status": "completed"
    },
    "tags": []
   },
   "outputs": [
    {
     "name": "stderr",
     "output_type": "stream",
     "text": [
      "2022-12-15 19:41:26.678857: I tensorflow/compiler/mlir/mlir_graph_optimization_pass.cc:185] None of the MLIR Optimization Passes are enabled (registered 2)\n"
     ]
    },
    {
     "name": "stdout",
     "output_type": "stream",
     "text": [
      "Epoch 1/200\n"
     ]
    },
    {
     "name": "stderr",
     "output_type": "stream",
     "text": [
      "2022-12-15 19:41:29.131616: I tensorflow/stream_executor/cuda/cuda_dnn.cc:369] Loaded cuDNN version 8005\n"
     ]
    },
    {
     "name": "stdout",
     "output_type": "stream",
     "text": [
      "37/37 [==============================] - 13s 15ms/step - loss: 3.5563 - accuracy: 0.1725 - val_loss: 2.4177 - val_accuracy: 0.2787\n",
      "Epoch 2/200\n",
      "37/37 [==============================] - 0s 8ms/step - loss: 2.5074 - accuracy: 0.3255 - val_loss: 2.1684 - val_accuracy: 0.3607\n",
      "Epoch 3/200\n",
      "37/37 [==============================] - 0s 7ms/step - loss: 2.4887 - accuracy: 0.3286 - val_loss: 1.8746 - val_accuracy: 0.3934\n",
      "Epoch 4/200\n",
      "37/37 [==============================] - 0s 7ms/step - loss: 2.0002 - accuracy: 0.3775 - val_loss: 1.7489 - val_accuracy: 0.4016\n",
      "Epoch 5/200\n",
      "37/37 [==============================] - 0s 7ms/step - loss: 1.8851 - accuracy: 0.3988 - val_loss: 1.7047 - val_accuracy: 0.4180\n",
      "Epoch 6/200\n",
      "37/37 [==============================] - 0s 5ms/step - loss: 1.8154 - accuracy: 0.4239 - val_loss: 1.5672 - val_accuracy: 0.5000\n",
      "Epoch 7/200\n",
      "37/37 [==============================] - 0s 5ms/step - loss: 1.7507 - accuracy: 0.4556 - val_loss: 1.4651 - val_accuracy: 0.5410\n",
      "Epoch 8/200\n",
      "37/37 [==============================] - 0s 5ms/step - loss: 1.6488 - accuracy: 0.4911 - val_loss: 1.4313 - val_accuracy: 0.5328\n",
      "Epoch 9/200\n",
      "37/37 [==============================] - 0s 5ms/step - loss: 1.5530 - accuracy: 0.5033 - val_loss: 1.3901 - val_accuracy: 0.5082\n",
      "Epoch 10/200\n",
      "37/37 [==============================] - 0s 5ms/step - loss: 1.4996 - accuracy: 0.5184 - val_loss: 1.2709 - val_accuracy: 0.5984\n",
      "Epoch 11/200\n",
      "37/37 [==============================] - 0s 5ms/step - loss: 1.4173 - accuracy: 0.5449 - val_loss: 1.2554 - val_accuracy: 0.5656\n",
      "Epoch 12/200\n",
      "37/37 [==============================] - 0s 5ms/step - loss: 1.4095 - accuracy: 0.5501 - val_loss: 1.2322 - val_accuracy: 0.6148\n",
      "Epoch 13/200\n",
      "37/37 [==============================] - 0s 5ms/step - loss: 1.3649 - accuracy: 0.5735 - val_loss: 1.3483 - val_accuracy: 0.5656\n",
      "Epoch 14/200\n",
      "37/37 [==============================] - 0s 5ms/step - loss: 1.4728 - accuracy: 0.5323 - val_loss: 1.3135 - val_accuracy: 0.5246\n",
      "Epoch 15/200\n",
      "37/37 [==============================] - 0s 5ms/step - loss: 1.4348 - accuracy: 0.5479 - val_loss: 1.2444 - val_accuracy: 0.5820\n",
      "Epoch 16/200\n",
      "37/37 [==============================] - 0s 5ms/step - loss: 1.3194 - accuracy: 0.5964 - val_loss: 1.2231 - val_accuracy: 0.5984\n",
      "Epoch 17/200\n",
      "37/37 [==============================] - 0s 5ms/step - loss: 1.2303 - accuracy: 0.5999 - val_loss: 1.1480 - val_accuracy: 0.5902\n",
      "Epoch 18/200\n",
      "37/37 [==============================] - 0s 5ms/step - loss: 1.2186 - accuracy: 0.6112 - val_loss: 1.0833 - val_accuracy: 0.6311\n",
      "Epoch 19/200\n",
      "37/37 [==============================] - 0s 5ms/step - loss: 1.3058 - accuracy: 0.5977 - val_loss: 1.0516 - val_accuracy: 0.6311\n",
      "Epoch 20/200\n",
      "37/37 [==============================] - 0s 5ms/step - loss: 1.1618 - accuracy: 0.6181 - val_loss: 1.0559 - val_accuracy: 0.6803\n",
      "Epoch 21/200\n",
      "37/37 [==============================] - 0s 5ms/step - loss: 1.1026 - accuracy: 0.6446 - val_loss: 1.1861 - val_accuracy: 0.6230\n",
      "Epoch 22/200\n",
      "37/37 [==============================] - 0s 5ms/step - loss: 1.1437 - accuracy: 0.6355 - val_loss: 1.0100 - val_accuracy: 0.6475\n",
      "Epoch 23/200\n",
      "37/37 [==============================] - 0s 5ms/step - loss: 1.0858 - accuracy: 0.6441 - val_loss: 0.9895 - val_accuracy: 0.6639\n",
      "Epoch 24/200\n",
      "37/37 [==============================] - 0s 5ms/step - loss: 1.0472 - accuracy: 0.6567 - val_loss: 0.9991 - val_accuracy: 0.6475\n",
      "Epoch 25/200\n",
      "37/37 [==============================] - 0s 5ms/step - loss: 0.9942 - accuracy: 0.6688 - val_loss: 0.9131 - val_accuracy: 0.6721\n",
      "Epoch 26/200\n",
      "37/37 [==============================] - 0s 5ms/step - loss: 1.1099 - accuracy: 0.6580 - val_loss: 1.1971 - val_accuracy: 0.6639\n",
      "Epoch 27/200\n",
      "37/37 [==============================] - 0s 5ms/step - loss: 1.0132 - accuracy: 0.6641 - val_loss: 0.9823 - val_accuracy: 0.6885\n",
      "Epoch 28/200\n",
      "37/37 [==============================] - 0s 5ms/step - loss: 0.9991 - accuracy: 0.6593 - val_loss: 0.9496 - val_accuracy: 0.6803\n",
      "Epoch 29/200\n",
      "37/37 [==============================] - 0s 5ms/step - loss: 0.9993 - accuracy: 0.6723 - val_loss: 0.9127 - val_accuracy: 0.6967\n",
      "Epoch 30/200\n",
      "37/37 [==============================] - 0s 5ms/step - loss: 0.9794 - accuracy: 0.6823 - val_loss: 1.1277 - val_accuracy: 0.6557\n",
      "Epoch 31/200\n",
      "37/37 [==============================] - 0s 5ms/step - loss: 0.9791 - accuracy: 0.6849 - val_loss: 0.9507 - val_accuracy: 0.6639\n",
      "Epoch 32/200\n",
      "37/37 [==============================] - 0s 5ms/step - loss: 0.8927 - accuracy: 0.7000 - val_loss: 0.9415 - val_accuracy: 0.6639\n",
      "Epoch 33/200\n",
      "37/37 [==============================] - 0s 5ms/step - loss: 0.9367 - accuracy: 0.6888 - val_loss: 0.9415 - val_accuracy: 0.6639\n",
      "Epoch 34/200\n",
      "37/37 [==============================] - 0s 5ms/step - loss: 0.9283 - accuracy: 0.7035 - val_loss: 0.9982 - val_accuracy: 0.6393\n",
      "Epoch 35/200\n",
      "37/37 [==============================] - 0s 5ms/step - loss: 0.8642 - accuracy: 0.7100 - val_loss: 0.9168 - val_accuracy: 0.6721\n",
      "Epoch 36/200\n",
      "37/37 [==============================] - 0s 5ms/step - loss: 0.8607 - accuracy: 0.7100 - val_loss: 0.9183 - val_accuracy: 0.6885\n",
      "Epoch 37/200\n",
      "37/37 [==============================] - 0s 5ms/step - loss: 0.8097 - accuracy: 0.7347 - val_loss: 0.8170 - val_accuracy: 0.7377\n",
      "Epoch 38/200\n",
      "37/37 [==============================] - 0s 5ms/step - loss: 0.8202 - accuracy: 0.7425 - val_loss: 0.9190 - val_accuracy: 0.6967\n",
      "Epoch 39/200\n",
      "37/37 [==============================] - 0s 5ms/step - loss: 0.8043 - accuracy: 0.7304 - val_loss: 0.9438 - val_accuracy: 0.6557\n",
      "Epoch 40/200\n",
      "37/37 [==============================] - 0s 5ms/step - loss: 0.7707 - accuracy: 0.7443 - val_loss: 0.8709 - val_accuracy: 0.6885\n",
      "Epoch 41/200\n",
      "37/37 [==============================] - 0s 5ms/step - loss: 0.8995 - accuracy: 0.7143 - val_loss: 0.9355 - val_accuracy: 0.6393\n",
      "Epoch 42/200\n",
      "37/37 [==============================] - 0s 5ms/step - loss: 0.9459 - accuracy: 0.6927 - val_loss: 0.8614 - val_accuracy: 0.6475\n",
      "Epoch 43/200\n",
      "37/37 [==============================] - 0s 6ms/step - loss: 0.7743 - accuracy: 0.7330 - val_loss: 0.8007 - val_accuracy: 0.7131\n",
      "Epoch 44/200\n",
      "37/37 [==============================] - 0s 6ms/step - loss: 0.7347 - accuracy: 0.7508 - val_loss: 0.8049 - val_accuracy: 0.6967\n",
      "Epoch 45/200\n",
      "37/37 [==============================] - 0s 5ms/step - loss: 0.7284 - accuracy: 0.7516 - val_loss: 0.7771 - val_accuracy: 0.7213\n",
      "Epoch 46/200\n",
      "37/37 [==============================] - 0s 6ms/step - loss: 0.7874 - accuracy: 0.7547 - val_loss: 0.8833 - val_accuracy: 0.6475\n",
      "Epoch 47/200\n",
      "37/37 [==============================] - 0s 5ms/step - loss: 0.8087 - accuracy: 0.7226 - val_loss: 0.8342 - val_accuracy: 0.7131\n",
      "Epoch 48/200\n",
      "37/37 [==============================] - 0s 5ms/step - loss: 0.6827 - accuracy: 0.7716 - val_loss: 0.8181 - val_accuracy: 0.7131\n",
      "Epoch 49/200\n",
      "37/37 [==============================] - 0s 5ms/step - loss: 0.7648 - accuracy: 0.7339 - val_loss: 0.8861 - val_accuracy: 0.7377\n",
      "Epoch 50/200\n",
      "37/37 [==============================] - 0s 5ms/step - loss: 0.6937 - accuracy: 0.7815 - val_loss: 0.8274 - val_accuracy: 0.7131\n",
      "Epoch 51/200\n",
      "37/37 [==============================] - 0s 5ms/step - loss: 0.6391 - accuracy: 0.7876 - val_loss: 0.8149 - val_accuracy: 0.7213\n",
      "Epoch 52/200\n",
      "37/37 [==============================] - 0s 5ms/step - loss: 0.5955 - accuracy: 0.7993 - val_loss: 0.8351 - val_accuracy: 0.7213\n",
      "Epoch 53/200\n",
      "37/37 [==============================] - 0s 5ms/step - loss: 0.5891 - accuracy: 0.7963 - val_loss: 0.7908 - val_accuracy: 0.7459\n",
      "Epoch 54/200\n",
      "37/37 [==============================] - 0s 5ms/step - loss: 0.5892 - accuracy: 0.8002 - val_loss: 0.7849 - val_accuracy: 0.7377\n",
      "Epoch 55/200\n",
      "37/37 [==============================] - 0s 5ms/step - loss: 0.5682 - accuracy: 0.8132 - val_loss: 0.8866 - val_accuracy: 0.7213\n",
      "Epoch 56/200\n",
      "37/37 [==============================] - 0s 5ms/step - loss: 0.5564 - accuracy: 0.8201 - val_loss: 0.8018 - val_accuracy: 0.7377\n",
      "Epoch 57/200\n",
      "37/37 [==============================] - 0s 5ms/step - loss: 0.6195 - accuracy: 0.8010 - val_loss: 0.8485 - val_accuracy: 0.7459\n",
      "Epoch 58/200\n",
      "37/37 [==============================] - 0s 5ms/step - loss: 0.5443 - accuracy: 0.8149 - val_loss: 0.7689 - val_accuracy: 0.7705\n",
      "Epoch 59/200\n",
      "37/37 [==============================] - 0s 5ms/step - loss: 0.5070 - accuracy: 0.8266 - val_loss: 0.8107 - val_accuracy: 0.7377\n",
      "Epoch 60/200\n",
      "37/37 [==============================] - 0s 5ms/step - loss: 0.5220 - accuracy: 0.8305 - val_loss: 0.8769 - val_accuracy: 0.7295\n",
      "Epoch 61/200\n",
      "37/37 [==============================] - 0s 5ms/step - loss: 0.4956 - accuracy: 0.8322 - val_loss: 0.7923 - val_accuracy: 0.7787\n",
      "Epoch 62/200\n",
      "37/37 [==============================] - 0s 5ms/step - loss: 0.5448 - accuracy: 0.8288 - val_loss: 0.8263 - val_accuracy: 0.7377\n",
      "Epoch 63/200\n",
      "37/37 [==============================] - 0s 5ms/step - loss: 0.5356 - accuracy: 0.8244 - val_loss: 0.7963 - val_accuracy: 0.7377\n",
      "Epoch 64/200\n",
      "37/37 [==============================] - 0s 5ms/step - loss: 0.4881 - accuracy: 0.8349 - val_loss: 0.7720 - val_accuracy: 0.7459\n",
      "Epoch 65/200\n",
      "37/37 [==============================] - 0s 5ms/step - loss: 0.4530 - accuracy: 0.8444 - val_loss: 0.8499 - val_accuracy: 0.7213\n",
      "Epoch 66/200\n",
      "37/37 [==============================] - 0s 5ms/step - loss: 0.4715 - accuracy: 0.8444 - val_loss: 0.7251 - val_accuracy: 0.7869\n",
      "Epoch 67/200\n",
      "37/37 [==============================] - 0s 5ms/step - loss: 0.4321 - accuracy: 0.8531 - val_loss: 0.7909 - val_accuracy: 0.7787\n",
      "Epoch 68/200\n",
      "37/37 [==============================] - 0s 5ms/step - loss: 0.4185 - accuracy: 0.8630 - val_loss: 0.8331 - val_accuracy: 0.7623\n",
      "Epoch 69/200\n",
      "37/37 [==============================] - 0s 5ms/step - loss: 0.8089 - accuracy: 0.7928 - val_loss: 0.8318 - val_accuracy: 0.7459\n",
      "Epoch 70/200\n",
      "37/37 [==============================] - 0s 5ms/step - loss: 0.5245 - accuracy: 0.8314 - val_loss: 0.8009 - val_accuracy: 0.7623\n",
      "Epoch 71/200\n",
      "37/37 [==============================] - 0s 5ms/step - loss: 0.4964 - accuracy: 0.8336 - val_loss: 0.7888 - val_accuracy: 0.7623\n",
      "Epoch 72/200\n",
      "37/37 [==============================] - 0s 5ms/step - loss: 0.4225 - accuracy: 0.8609 - val_loss: 0.8086 - val_accuracy: 0.7869\n",
      "Epoch 73/200\n",
      "37/37 [==============================] - 0s 5ms/step - loss: 0.3917 - accuracy: 0.8756 - val_loss: 0.7884 - val_accuracy: 0.7541\n",
      "Epoch 74/200\n",
      "37/37 [==============================] - 0s 5ms/step - loss: 0.4170 - accuracy: 0.8648 - val_loss: 0.9186 - val_accuracy: 0.7541\n",
      "Epoch 75/200\n",
      "37/37 [==============================] - 0s 5ms/step - loss: 0.4005 - accuracy: 0.8687 - val_loss: 0.9138 - val_accuracy: 0.7623\n",
      "Epoch 76/200\n",
      "37/37 [==============================] - 0s 5ms/step - loss: 0.4436 - accuracy: 0.8531 - val_loss: 0.7766 - val_accuracy: 0.7541\n",
      "Epoch 77/200\n",
      "37/37 [==============================] - 0s 5ms/step - loss: 0.3657 - accuracy: 0.8886 - val_loss: 0.8105 - val_accuracy: 0.7623\n",
      "Epoch 78/200\n",
      "37/37 [==============================] - 0s 5ms/step - loss: 0.3358 - accuracy: 0.8938 - val_loss: 0.8197 - val_accuracy: 0.8033\n",
      "Epoch 79/200\n",
      "37/37 [==============================] - 0s 5ms/step - loss: 0.3339 - accuracy: 0.8921 - val_loss: 0.8713 - val_accuracy: 0.8115\n",
      "Epoch 80/200\n",
      "37/37 [==============================] - 0s 5ms/step - loss: 0.3250 - accuracy: 0.8929 - val_loss: 0.8553 - val_accuracy: 0.7787\n",
      "Epoch 81/200\n",
      "37/37 [==============================] - 0s 5ms/step - loss: 0.3285 - accuracy: 0.8934 - val_loss: 0.8851 - val_accuracy: 0.7869\n",
      "Epoch 82/200\n",
      "37/37 [==============================] - 0s 5ms/step - loss: 0.3081 - accuracy: 0.9033 - val_loss: 0.7961 - val_accuracy: 0.7869\n",
      "Epoch 83/200\n",
      "37/37 [==============================] - 0s 5ms/step - loss: 0.3226 - accuracy: 0.9038 - val_loss: 0.8264 - val_accuracy: 0.7951\n",
      "Epoch 84/200\n",
      "37/37 [==============================] - 0s 5ms/step - loss: 0.3090 - accuracy: 0.9055 - val_loss: 0.8849 - val_accuracy: 0.7541\n",
      "Epoch 85/200\n",
      "37/37 [==============================] - 0s 5ms/step - loss: 0.3000 - accuracy: 0.8960 - val_loss: 0.8309 - val_accuracy: 0.7787\n",
      "Epoch 86/200\n",
      "37/37 [==============================] - 0s 5ms/step - loss: 0.2941 - accuracy: 0.9042 - val_loss: 0.8979 - val_accuracy: 0.7869\n",
      "Epoch 87/200\n",
      "37/37 [==============================] - 0s 5ms/step - loss: 0.2772 - accuracy: 0.9163 - val_loss: 0.8509 - val_accuracy: 0.7869\n",
      "Epoch 88/200\n",
      "37/37 [==============================] - 0s 5ms/step - loss: 0.2949 - accuracy: 0.9133 - val_loss: 0.8756 - val_accuracy: 0.7541\n",
      "Epoch 89/200\n",
      "37/37 [==============================] - 0s 5ms/step - loss: 0.2915 - accuracy: 0.9077 - val_loss: 0.8614 - val_accuracy: 0.7787\n",
      "Epoch 90/200\n",
      "37/37 [==============================] - 0s 5ms/step - loss: 0.2696 - accuracy: 0.9155 - val_loss: 0.8613 - val_accuracy: 0.7623\n",
      "Epoch 91/200\n",
      "37/37 [==============================] - 0s 5ms/step - loss: 0.2717 - accuracy: 0.9124 - val_loss: 0.8939 - val_accuracy: 0.7705\n",
      "Epoch 92/200\n",
      "37/37 [==============================] - 0s 5ms/step - loss: 0.2537 - accuracy: 0.9168 - val_loss: 0.8608 - val_accuracy: 0.7787\n",
      "Epoch 93/200\n",
      "37/37 [==============================] - 0s 5ms/step - loss: 0.2727 - accuracy: 0.9159 - val_loss: 0.8417 - val_accuracy: 0.8033\n",
      "Epoch 94/200\n",
      "37/37 [==============================] - 0s 5ms/step - loss: 0.2645 - accuracy: 0.9146 - val_loss: 0.8800 - val_accuracy: 0.7459\n",
      "Epoch 95/200\n",
      "37/37 [==============================] - 0s 5ms/step - loss: 0.2662 - accuracy: 0.9181 - val_loss: 0.8750 - val_accuracy: 0.7951\n",
      "Epoch 96/200\n",
      "37/37 [==============================] - 0s 5ms/step - loss: 0.2698 - accuracy: 0.9194 - val_loss: 0.9625 - val_accuracy: 0.7705\n",
      "Epoch 97/200\n",
      "37/37 [==============================] - 0s 5ms/step - loss: 0.2709 - accuracy: 0.9116 - val_loss: 0.9395 - val_accuracy: 0.7869\n",
      "Epoch 98/200\n",
      "37/37 [==============================] - 0s 5ms/step - loss: 0.2703 - accuracy: 0.9176 - val_loss: 0.8696 - val_accuracy: 0.7705\n",
      "Epoch 99/200\n",
      "37/37 [==============================] - 0s 5ms/step - loss: 0.2491 - accuracy: 0.9181 - val_loss: 0.9109 - val_accuracy: 0.7869\n",
      "Epoch 100/200\n",
      "37/37 [==============================] - 0s 5ms/step - loss: 0.2336 - accuracy: 0.9276 - val_loss: 0.9070 - val_accuracy: 0.7705\n",
      "Epoch 101/200\n",
      "37/37 [==============================] - 0s 5ms/step - loss: 0.2369 - accuracy: 0.9246 - val_loss: 0.8889 - val_accuracy: 0.7787\n",
      "Epoch 102/200\n",
      "37/37 [==============================] - 0s 5ms/step - loss: 0.2318 - accuracy: 0.9246 - val_loss: 0.9115 - val_accuracy: 0.7869\n",
      "Epoch 103/200\n",
      "37/37 [==============================] - 0s 5ms/step - loss: 0.2402 - accuracy: 0.9259 - val_loss: 0.9438 - val_accuracy: 0.7705\n",
      "Epoch 104/200\n",
      "37/37 [==============================] - 0s 8ms/step - loss: 0.2387 - accuracy: 0.9263 - val_loss: 0.8860 - val_accuracy: 0.7541\n",
      "Epoch 105/200\n",
      "37/37 [==============================] - 0s 6ms/step - loss: 0.2324 - accuracy: 0.9241 - val_loss: 0.9244 - val_accuracy: 0.7787\n",
      "Epoch 106/200\n",
      "37/37 [==============================] - 0s 6ms/step - loss: 0.2250 - accuracy: 0.9298 - val_loss: 0.9261 - val_accuracy: 0.7869\n",
      "Epoch 107/200\n",
      "37/37 [==============================] - 0s 5ms/step - loss: 0.2389 - accuracy: 0.9202 - val_loss: 0.9239 - val_accuracy: 0.7705\n",
      "Epoch 108/200\n",
      "37/37 [==============================] - 0s 4ms/step - loss: 0.2355 - accuracy: 0.9246 - val_loss: 0.9193 - val_accuracy: 0.7787\n",
      "Epoch 109/200\n",
      "37/37 [==============================] - 0s 5ms/step - loss: 0.2335 - accuracy: 0.9241 - val_loss: 0.9438 - val_accuracy: 0.7787\n",
      "Epoch 110/200\n",
      "37/37 [==============================] - 0s 5ms/step - loss: 0.2272 - accuracy: 0.9311 - val_loss: 0.9504 - val_accuracy: 0.7951\n",
      "Epoch 111/200\n",
      "37/37 [==============================] - 0s 5ms/step - loss: 0.2397 - accuracy: 0.9233 - val_loss: 0.9360 - val_accuracy: 0.7869\n",
      "Epoch 112/200\n",
      "37/37 [==============================] - 0s 5ms/step - loss: 0.2316 - accuracy: 0.9272 - val_loss: 0.9328 - val_accuracy: 0.7951\n",
      "Epoch 113/200\n",
      "37/37 [==============================] - 0s 4ms/step - loss: 0.2173 - accuracy: 0.9350 - val_loss: 0.9360 - val_accuracy: 0.7869\n",
      "Epoch 114/200\n",
      "37/37 [==============================] - 0s 5ms/step - loss: 0.2289 - accuracy: 0.9259 - val_loss: 0.9315 - val_accuracy: 0.7869\n",
      "Epoch 115/200\n",
      "37/37 [==============================] - 0s 5ms/step - loss: 0.2211 - accuracy: 0.9315 - val_loss: 0.9222 - val_accuracy: 0.7705\n",
      "Epoch 116/200\n",
      "37/37 [==============================] - 0s 6ms/step - loss: 0.2227 - accuracy: 0.9289 - val_loss: 0.9359 - val_accuracy: 0.7705\n",
      "Epoch 117/200\n",
      "37/37 [==============================] - 0s 5ms/step - loss: 0.2299 - accuracy: 0.9263 - val_loss: 0.9348 - val_accuracy: 0.7787\n",
      "Epoch 118/200\n",
      "37/37 [==============================] - 0s 5ms/step - loss: 0.2083 - accuracy: 0.9384 - val_loss: 0.9245 - val_accuracy: 0.7705\n",
      "Epoch 119/200\n",
      "37/37 [==============================] - 0s 5ms/step - loss: 0.2172 - accuracy: 0.9293 - val_loss: 0.9402 - val_accuracy: 0.7787\n",
      "Epoch 120/200\n",
      "37/37 [==============================] - 0s 5ms/step - loss: 0.2236 - accuracy: 0.9289 - val_loss: 0.9355 - val_accuracy: 0.7787\n",
      "Epoch 121/200\n",
      "37/37 [==============================] - 0s 5ms/step - loss: 0.2154 - accuracy: 0.9376 - val_loss: 0.9527 - val_accuracy: 0.7787\n",
      "Epoch 122/200\n",
      "37/37 [==============================] - 0s 5ms/step - loss: 0.2197 - accuracy: 0.9280 - val_loss: 0.9414 - val_accuracy: 0.7623\n",
      "Epoch 123/200\n",
      "37/37 [==============================] - 0s 5ms/step - loss: 0.2175 - accuracy: 0.9354 - val_loss: 0.9374 - val_accuracy: 0.7705\n",
      "Epoch 124/200\n",
      "37/37 [==============================] - 0s 5ms/step - loss: 0.2135 - accuracy: 0.9384 - val_loss: 0.9263 - val_accuracy: 0.7705\n",
      "Epoch 125/200\n",
      "37/37 [==============================] - 0s 5ms/step - loss: 0.2287 - accuracy: 0.9298 - val_loss: 0.9321 - val_accuracy: 0.7623\n",
      "Epoch 126/200\n",
      "37/37 [==============================] - 0s 5ms/step - loss: 0.2164 - accuracy: 0.9402 - val_loss: 0.9367 - val_accuracy: 0.7705\n",
      "Epoch 127/200\n",
      "37/37 [==============================] - 0s 5ms/step - loss: 0.2112 - accuracy: 0.9371 - val_loss: 0.9292 - val_accuracy: 0.7705\n",
      "Epoch 128/200\n",
      "37/37 [==============================] - 0s 5ms/step - loss: 0.2203 - accuracy: 0.9345 - val_loss: 0.9241 - val_accuracy: 0.7869\n",
      "Epoch 129/200\n",
      "37/37 [==============================] - 0s 5ms/step - loss: 0.2098 - accuracy: 0.9337 - val_loss: 0.9485 - val_accuracy: 0.7951\n"
     ]
    }
   ],
   "source": [
    "# Train the model\n",
    "history = model.fit(\n",
    "    x = X_train,\n",
    "    y = y_train,\n",
    "    batch_size = batch_size,\n",
    "    epochs = epochs,\n",
    "    validation_data = (X_val, y_val),\n",
    "    callbacks = [\n",
    "        tfk.callbacks.EarlyStopping(monitor='val_accuracy', mode='max', patience=50, restore_best_weights=True),\n",
    "        tfk.callbacks.ReduceLROnPlateau(monitor='val_accuracy', mode='max', patience=10, factor=0.5, min_lr=1e-5)\n",
    "    ]\n",
    ").history"
   ]
  },
  {
   "cell_type": "code",
   "execution_count": 15,
   "id": "d93af527",
   "metadata": {
    "execution": {
     "iopub.execute_input": "2022-12-15T19:42:03.971829Z",
     "iopub.status.busy": "2022-12-15T19:42:03.970267Z",
     "iopub.status.idle": "2022-12-15T19:42:08.998836Z",
     "shell.execute_reply": "2022-12-15T19:42:08.997800Z"
    },
    "papermill": {
     "duration": 5.067822,
     "end_time": "2022-12-15T19:42:09.001127",
     "exception": false,
     "start_time": "2022-12-15T19:42:03.933305",
     "status": "completed"
    },
    "tags": []
   },
   "outputs": [
    {
     "data": {
      "image/png": "[encoded data removed]",
      "text/plain": [
       "<Figure size 1224x288 with 1 Axes>"
      ]
     },
     "metadata": {
      "needs_background": "light"
     },
     "output_type": "display_data"
    },
    {
     "data": {
      "image/png": "[encoded data removed]",
      "text/plain": [
       "<Figure size 1224x288 with 1 Axes>"
      ]
     },
     "metadata": {
      "needs_background": "light"
     },
     "output_type": "display_data"
    },
    {
     "data": {
      "image/png": "[encoded data removed]",
      "text/plain": [
       "<Figure size 1224x288 with 1 Axes>"
      ]
     },
     "metadata": {
      "needs_background": "light"
     },
     "output_type": "display_data"
    }
   ],
   "source": [
    "# Show plots\n",
    "best_epoch = np.argmax(history['val_accuracy'])\n",
    "plt.figure(figsize=(17,4))\n",
    "plt.plot(history['loss'], label='Training loss', alpha=.8, color='#ff7f0e')\n",
    "plt.plot(history['val_loss'], label='Validation loss', alpha=.9, color='#5a9aa5')\n",
    "plt.axvline(x=best_epoch, label='Best epoch', alpha=.3, ls='--', color='#5a9aa5')\n",
    "plt.title('Categorical Crossentropy')\n",
    "plt.legend()\n",
    "plt.grid(alpha=.3)\n",
    "plt.show()\n",
    "\n",
    "plt.figure(figsize=(17,4))\n",
    "plt.plot(history['accuracy'], label='Training accuracy', alpha=.8, color='#ff7f0e')\n",
    "plt.plot(history['val_accuracy'], label='Validation accuracy', alpha=.9, color='#5a9aa5')\n",
    "plt.axvline(x=best_epoch, label='Best epoch', alpha=.3, ls='--', color='#5a9aa5')\n",
    "plt.title('Accuracy')\n",
    "plt.legend()\n",
    "plt.grid(alpha=.3)\n",
    "plt.show()\n",
    "\n",
    "plt.figure(figsize=(17,4))\n",
    "plt.plot(history['lr'], label='Learning Rate', alpha=.8, color='#ff7f0e')\n",
    "plt.axvline(x=best_epoch, label='Best epoch', alpha=.3, ls='--', color='#5a9aa5')\n",
    "plt.legend()\n",
    "plt.grid(alpha=.3)\n",
    "plt.show()"
   ]
  },
  {
   "cell_type": "code",
   "execution_count": 16,
   "id": "21512995",
   "metadata": {
    "execution": {
     "iopub.execute_input": "2022-12-15T19:42:09.076969Z",
     "iopub.status.busy": "2022-12-15T19:42:09.076645Z",
     "iopub.status.idle": "2022-12-15T19:42:09.321832Z",
     "shell.execute_reply": "2022-12-15T19:42:09.320827Z"
    },
    "papermill": {
     "duration": 0.287316,
     "end_time": "2022-12-15T19:42:09.323960",
     "exception": false,
     "start_time": "2022-12-15T19:42:09.036644",
     "status": "completed"
    },
    "tags": []
   },
   "outputs": [
    {
     "data": {
      "text/plain": [
       "(122, 12)"
      ]
     },
     "execution_count": 16,
     "metadata": {},
     "output_type": "execute_result"
    }
   ],
   "source": [
    "# Predict the validation set with the 1DCNN\n",
    "predictions = model.predict(X_val)\n",
    "predictions.shape"
   ]
  },
  {
   "cell_type": "code",
   "execution_count": 17,
   "id": "dad33a80",
   "metadata": {
    "execution": {
     "iopub.execute_input": "2022-12-15T19:42:09.396205Z",
     "iopub.status.busy": "2022-12-15T19:42:09.395399Z",
     "iopub.status.idle": "2022-12-15T19:42:09.716033Z",
     "shell.execute_reply": "2022-12-15T19:42:09.715173Z"
    },
    "papermill": {
     "duration": 0.358648,
     "end_time": "2022-12-15T19:42:09.718198",
     "exception": false,
     "start_time": "2022-12-15T19:42:09.359550",
     "status": "completed"
    },
    "tags": []
   },
   "outputs": [
    {
     "name": "stderr",
     "output_type": "stream",
     "text": [
      "/opt/conda/lib/python3.7/site-packages/sklearn/metrics/_classification.py:1318: UndefinedMetricWarning: Precision is ill-defined and being set to 0.0 in labels with no predicted samples. Use `zero_division` parameter to control this behavior.\n",
      "  _warn_prf(average, modifier, msg_start, len(result))\n"
     ]
    },
    {
     "name": "stdout",
     "output_type": "stream",
     "text": [
      "Accuracy: 0.8115\n",
      "Precision: 0.8542\n",
      "Recall: 0.7507\n",
      "F1: 0.781\n"
     ]
    },
    {
     "data": {
      "image/png": "[encoded data removed]",
      "text/plain": [
       "<Figure size 720x576 with 2 Axes>"
      ]
     },
     "metadata": {
      "needs_background": "light"
     },
     "output_type": "display_data"
    }
   ],
   "source": [
    "# Compute the confusion matrix\n",
    "cm = confusion_matrix(np.argmax(y_val, axis=-1), np.argmax(predictions, axis=-1))\n",
    "\n",
    "# Compute the classification metrics\n",
    "accuracy = accuracy_score(np.argmax(y_val, axis=-1), np.argmax(predictions, axis=-1))\n",
    "precision = precision_score(np.argmax(y_val, axis=-1), np.argmax(predictions, axis=-1), average='macro')\n",
    "recall = recall_score(np.argmax(y_val, axis=-1), np.argmax(predictions, axis=-1), average='macro')\n",
    "f1 = f1_score(np.argmax(y_val, axis=-1), np.argmax(predictions, axis=-1), average='macro')\n",
    "print('Accuracy:',accuracy.round(4))\n",
    "print('Precision:',precision.round(4))\n",
    "print('Recall:',recall.round(4))\n",
    "print('F1:',f1.round(4))\n",
    "\n",
    "# Plot the confusion matrix\n",
    "plt.figure(figsize=(10,8))\n",
    "sns.heatmap(cm.T, cmap='Blues', xticklabels=list(label_mapping.keys()), yticklabels=list(label_mapping.keys()))\n",
    "plt.xlabel('True labels')\n",
    "plt.ylabel('Predicted labels')\n",
    "plt.show()"
   ]
  },
  {
   "cell_type": "code",
   "execution_count": 18,
   "id": "6fd5d663",
   "metadata": {
    "execution": {
     "iopub.execute_input": "2022-12-15T19:42:09.791155Z",
     "iopub.status.busy": "2022-12-15T19:42:09.790833Z",
     "iopub.status.idle": "2022-12-15T19:42:11.257802Z",
     "shell.execute_reply": "2022-12-15T19:42:11.256848Z"
    },
    "papermill": {
     "duration": 1.506722,
     "end_time": "2022-12-15T19:42:11.260538",
     "exception": false,
     "start_time": "2022-12-15T19:42:09.753816",
     "status": "completed"
    },
    "tags": []
   },
   "outputs": [
    {
     "name": "stderr",
     "output_type": "stream",
     "text": [
      "2022-12-15 19:42:10.276856: W tensorflow/python/util/util.cc:348] Sets are not currently considered sequences, but this may change in the future, so consider avoiding using them.\n"
     ]
    }
   ],
   "source": [
    "# Save the model\n",
    "model.save(\"1DCNN\")"
   ]
  },
  {
   "cell_type": "code",
   "execution_count": 19,
   "id": "72645525",
   "metadata": {
    "execution": {
     "iopub.execute_input": "2022-12-15T19:42:11.333178Z",
     "iopub.status.busy": "2022-12-15T19:42:11.332864Z",
     "iopub.status.idle": "2022-12-15T19:42:11.337743Z",
     "shell.execute_reply": "2022-12-15T19:42:11.336830Z"
    },
    "papermill": {
     "duration": 0.043252,
     "end_time": "2022-12-15T19:42:11.339645",
     "exception": false,
     "start_time": "2022-12-15T19:42:11.296393",
     "status": "completed"
    },
    "tags": []
   },
   "outputs": [],
   "source": [
    "# Save the scaler\n",
    "dump(scaler, open('scaler.pkl', 'wb'))"
   ]
  },
  {
   "cell_type": "code",
   "execution_count": 20,
   "id": "dd225f1b",
   "metadata": {
    "execution": {
     "iopub.execute_input": "2022-12-15T19:42:11.411130Z",
     "iopub.status.busy": "2022-12-15T19:42:11.410834Z",
     "iopub.status.idle": "2022-12-15T19:42:11.415494Z",
     "shell.execute_reply": "2022-12-15T19:42:11.414673Z"
    },
    "papermill": {
     "duration": 0.042986,
     "end_time": "2022-12-15T19:42:11.417544",
     "exception": false,
     "start_time": "2022-12-15T19:42:11.374558",
     "status": "completed"
    },
    "tags": []
   },
   "outputs": [],
   "source": [
    "# Load the model\n",
    "#model = tfk.models.load_model()"
   ]
  }
 ],
 "metadata": {
  "kernelspec": {
   "display_name": "Python 3",
   "language": "python",
   "name": "python3"
  },
  "language_info": {
   "codemirror_mode": {
    "name": "ipython",
    "version": 3
   },
   "file_extension": ".py",
   "mimetype": "text/x-python",
   "name": "python",
   "nbconvert_exporter": "python",
   "pygments_lexer": "ipython3",
   "version": "3.7.12"
  },
  "papermill": {
   "default_parameters": {},
   "duration": 77.082717,
   "end_time": "2022-12-15T19:42:15.057432",
   "environment_variables": {},
   "exception": null,
   "input_path": "__notebook__.ipynb",
   "output_path": "__notebook__.ipynb",
   "parameters": {},
   "start_time": "2022-12-15T19:40:57.974715",
   "version": "2.3.4"
  }
 },
 "nbformat": 4,
 "nbformat_minor": 5
}
