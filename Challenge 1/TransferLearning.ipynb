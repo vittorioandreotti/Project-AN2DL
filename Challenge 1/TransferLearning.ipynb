{
 "cells": [
  {
   "cell_type": "markdown",
   "id": "c4e65873",
   "metadata": {
    "papermill": {
     "duration": 0.010817,
     "end_time": "2022-11-24T18:40:28.330381",
     "exception": false,
     "start_time": "2022-11-24T18:40:28.319564",
     "status": "completed"
    },
    "tags": []
   },
   "source": [
    "### Import Libraries"
   ]
  },
  {
   "cell_type": "code",
   "execution_count": null,
   "id": "a75280d9",
   "metadata": {
    "_cell_guid": "b1076dfc-b9ad-4769-8c92-a6c4dae69d19",
    "_uuid": "8f2839f25d086af736a60e9eeb907d3b93b6e0e5",
    "execution": {
     "iopub.execute_input": "2022-11-24T18:40:28.351409Z",
     "iopub.status.busy": "2022-11-24T18:40:28.350916Z",
     "iopub.status.idle": "2022-11-24T18:43:19.096715Z",
     "shell.execute_reply": "2022-11-24T18:43:19.095428Z"
    },
    "papermill": {
     "duration": 170.759217,
     "end_time": "2022-11-24T18:43:19.099616",
     "exception": false,
     "start_time": "2022-11-24T18:40:28.340399",
     "status": "completed"
    },
    "tags": []
   },
   "outputs": [],
   "source": [
    "!pip install -U setuptools pip\n",
    "!apt install --allow-change-held-packages libcudnn8=8.1.0.77-1+cuda11.2 -y\n",
    "!pip install -U tensorflow==2.11.0\n",
    "!pip install numpy --upgrade --ignore-installed"
   ]
  },
  {
   "cell_type": "code",
   "execution_count": null,
   "id": "ecb8deba",
   "metadata": {
    "_cell_guid": "b1076dfc-b9ad-4769-8c92-a6c4dae69d19",
    "_uuid": "8f2839f25d086af736a60e9eeb907d3b93b6e0e5",
    "execution": {
     "iopub.execute_input": "2022-11-24T18:43:19.159483Z",
     "iopub.status.busy": "2022-11-24T18:43:19.157706Z",
     "iopub.status.idle": "2022-11-24T18:43:24.098657Z",
     "shell.execute_reply": "2022-11-24T18:43:24.097396Z"
    },
    "papermill": {
     "duration": 4.974282,
     "end_time": "2022-11-24T18:43:24.101524",
     "exception": false,
     "start_time": "2022-11-24T18:43:19.127242",
     "status": "completed"
    },
    "tags": []
   },
   "outputs": [],
   "source": [
    "import tensorflow as tf\n",
    "import numpy as np\n",
    "import os\n",
    "import random\n",
    "import pandas as pd\n",
    "import seaborn as sns\n",
    "import matplotlib as mpl\n",
    "import matplotlib.pyplot as plt\n",
    "import sklearn as skl\n",
    "import skimage as ski\n",
    "from sklearn.model_selection import train_test_split\n",
    "from sklearn.metrics import accuracy_score, f1_score, precision_score, recall_score\n",
    "from sklearn.metrics import confusion_matrix, classification_report\n",
    "from PIL import Image\n",
    "from tensorflow.keras.preprocessing.image import ImageDataGenerator\n",
    "tfk = tf.keras\n",
    "tfkl = tf.keras.layers\n",
    "print(tf.__version__)\n",
    "\n",
    "from tensorflow.keras.applications import convnext\n"
   ]
  },
  {
   "cell_type": "markdown",
   "id": "6ea28c20",
   "metadata": {
    "papermill": {
     "duration": 0.041206,
     "end_time": "2022-11-24T18:43:24.187062",
     "exception": false,
     "start_time": "2022-11-24T18:43:24.145856",
     "status": "completed"
    },
    "tags": []
   },
   "source": [
    "### Set seed for reproducibility"
   ]
  },
  {
   "cell_type": "code",
   "execution_count": 3,
   "id": "95b69188",
   "metadata": {
    "execution": {
     "iopub.execute_input": "2022-11-24T18:43:24.269758Z",
     "iopub.status.busy": "2022-11-24T18:43:24.268852Z",
     "iopub.status.idle": "2022-11-24T18:43:24.277788Z",
     "shell.execute_reply": "2022-11-24T18:43:24.276758Z"
    },
    "papermill": {
     "duration": 0.051838,
     "end_time": "2022-11-24T18:43:24.280212",
     "exception": false,
     "start_time": "2022-11-24T18:43:24.228374",
     "status": "completed"
    },
    "tags": []
   },
   "outputs": [],
   "source": [
    "# Random seed for reproducibility\n",
    "seed = 42\n",
    "random.seed(seed)\n",
    "os.environ['PYTHONHASHSEED'] = str(seed)\n",
    "np.random.seed(seed)\n",
    "tf.random.set_seed(seed)\n",
    "tf.compat.v1.set_random_seed(seed)"
   ]
  },
  {
   "cell_type": "markdown",
   "id": "ee0f603c",
   "metadata": {
    "papermill": {
     "duration": 0.039573,
     "end_time": "2022-11-24T18:43:24.360808",
     "exception": false,
     "start_time": "2022-11-24T18:43:24.321235",
     "status": "completed"
    },
    "tags": []
   },
   "source": [
    "# Dataset"
   ]
  },
  {
   "cell_type": "code",
   "execution_count": 4,
   "id": "7bb30b87",
   "metadata": {
    "execution": {
     "iopub.execute_input": "2022-11-24T18:43:24.443710Z",
     "iopub.status.busy": "2022-11-24T18:43:24.443352Z",
     "iopub.status.idle": "2022-11-24T18:43:24.448449Z",
     "shell.execute_reply": "2022-11-24T18:43:24.447432Z"
    },
    "papermill": {
     "duration": 0.049565,
     "end_time": "2022-11-24T18:43:24.451081",
     "exception": false,
     "start_time": "2022-11-24T18:43:24.401516",
     "status": "completed"
    },
    "tags": []
   },
   "outputs": [],
   "source": [
    "dataset_dir = '/kaggle/input/dataset2-dup/training_data_split_duplicate'\n",
    "dataset_dir_train = dataset_dir + '/training'\n",
    "dataset_dir_valid = dataset_dir + '/validation'"
   ]
  },
  {
   "cell_type": "code",
   "execution_count": 5,
   "id": "1d257a22",
   "metadata": {
    "execution": {
     "iopub.execute_input": "2022-11-24T18:43:24.539104Z",
     "iopub.status.busy": "2022-11-24T18:43:24.538789Z",
     "iopub.status.idle": "2022-11-24T18:43:24.544946Z",
     "shell.execute_reply": "2022-11-24T18:43:24.543984Z"
    },
    "papermill": {
     "duration": 0.059731,
     "end_time": "2022-11-24T18:43:24.549366",
     "exception": false,
     "start_time": "2022-11-24T18:43:24.489635",
     "status": "completed"
    },
    "tags": []
   },
   "outputs": [],
   "source": [
    "# Labels\n",
    "labels = {0: 'Species1',       # 0\n",
    "          1: 'Species2',       # 1\n",
    "          2: 'Species3',       # 2\n",
    "          3: 'Species4',       # 3\n",
    "          4: 'Species5',       # 4\n",
    "          5: 'Species6',       # 5\n",
    "          6: 'Species7',       # 6\n",
    "          7: 'Species8',       # 7\n",
    "         }"
   ]
  },
  {
   "cell_type": "code",
   "execution_count": 6,
   "id": "06f2e3b4",
   "metadata": {
    "execution": {
     "iopub.execute_input": "2022-11-24T18:43:24.606482Z",
     "iopub.status.busy": "2022-11-24T18:43:24.606205Z",
     "iopub.status.idle": "2022-11-24T18:43:25.030103Z",
     "shell.execute_reply": "2022-11-24T18:43:25.029201Z"
    },
    "papermill": {
     "duration": 0.454573,
     "end_time": "2022-11-24T18:43:25.032382",
     "exception": false,
     "start_time": "2022-11-24T18:43:24.577809",
     "status": "completed"
    },
    "tags": []
   },
   "outputs": [
    {
     "name": "stdout",
     "output_type": "stream",
     "text": [
      "Found 3727 images belonging to 8 classes.\n",
      "Found 351 images belonging to 8 classes.\n"
     ]
    }
   ],
   "source": [
    "# Create an instance of ImageDataGenerator WITH Data Augmentation for training set\n",
    "train_data_gen = ImageDataGenerator(brightness_range=[0.5, 1.2],\n",
    "                                        channel_shift_range=50,\n",
    "                                        horizontal_flip=True,\n",
    "                                        vertical_flip=True,\n",
    "                                        rotation_range=90,\n",
    "                                        width_shift_range=50,\n",
    "                                        height_shift_range=50,\n",
    "                                        zoom_range = 0.1,\n",
    "                                        fill_mode='reflect')\n",
    "\n",
    "# Create an instance of ImageDataGenerator WITHOUT Data Augmentation for validation set\n",
    "valid_data_gen = ImageDataGenerator()\n",
    "\n",
    "\n",
    "train_gen = train_data_gen.flow_from_directory(directory=dataset_dir_train,\n",
    "                                              target_size=(96,96),\n",
    "                                              color_mode='rgb',\n",
    "                                              classes=None,\n",
    "                                              class_mode='categorical',\n",
    "                                              batch_size=16,\n",
    "                                              shuffle=True,\n",
    "                                              seed=seed)\n",
    "\n",
    "valid_gen = valid_data_gen.flow_from_directory(directory=dataset_dir_valid,\n",
    "                                              target_size=(96,96),\n",
    "                                              color_mode='rgb',\n",
    "                                              classes=None,\n",
    "                                              class_mode='categorical',\n",
    "                                              batch_size=16,\n",
    "                                              shuffle=False,\n",
    "                                              seed=seed)"
   ]
  },
  {
   "cell_type": "code",
   "execution_count": 7,
   "id": "fc3eb1a4",
   "metadata": {
    "execution": {
     "iopub.execute_input": "2022-11-24T18:43:25.088990Z",
     "iopub.status.busy": "2022-11-24T18:43:25.088696Z",
     "iopub.status.idle": "2022-11-24T18:44:12.463755Z",
     "shell.execute_reply": "2022-11-24T18:44:12.461905Z"
    },
    "papermill": {
     "duration": 47.405396,
     "end_time": "2022-11-24T18:44:12.466021",
     "exception": false,
     "start_time": "2022-11-24T18:43:25.060625",
     "status": "completed"
    },
    "tags": []
   },
   "outputs": [
    {
     "name": "stdout",
     "output_type": "stream",
     "text": [
      "(3727, 96, 96, 3)\n",
      "(3727, 8)\n",
      "(351, 96, 96, 3)\n",
      "(351, 8)\n"
     ]
    }
   ],
   "source": [
    "# Numpy arrays for dataset\n",
    "\n",
    "train_gen.reset()\n",
    "X_train = np.concatenate([train_gen.next()[0] for i in range(train_gen.__len__())])\n",
    "y_train = np.concatenate([train_gen.next()[1] for i in range(train_gen.__len__())])\n",
    "print(X_train.shape)\n",
    "print(y_train.shape)\n",
    "\n",
    "valid_gen.reset()\n",
    "X_val = np.concatenate([valid_gen.next()[0] for i in range(valid_gen.__len__())])\n",
    "y_val = np.concatenate([valid_gen.next()[1] for i in range(valid_gen.__len__())])\n",
    "print(X_val.shape)\n",
    "print(y_val.shape)"
   ]
  },
  {
   "cell_type": "markdown",
   "id": "1934f1f3",
   "metadata": {
    "papermill": {
     "duration": 0.02691,
     "end_time": "2022-11-24T18:44:12.520537",
     "exception": false,
     "start_time": "2022-11-24T18:44:12.493627",
     "status": "completed"
    },
    "tags": []
   },
   "source": [
    "### Model metadata"
   ]
  },
  {
   "cell_type": "code",
   "execution_count": 8,
   "id": "35a72890",
   "metadata": {
    "execution": {
     "iopub.execute_input": "2022-11-24T18:44:12.604633Z",
     "iopub.status.busy": "2022-11-24T18:44:12.602904Z",
     "iopub.status.idle": "2022-11-24T18:44:12.616105Z",
     "shell.execute_reply": "2022-11-24T18:44:12.614700Z"
    },
    "papermill": {
     "duration": 0.07105,
     "end_time": "2022-11-24T18:44:12.618779",
     "exception": false,
     "start_time": "2022-11-24T18:44:12.547729",
     "status": "completed"
    },
    "tags": []
   },
   "outputs": [],
   "source": [
    "input_shape = (96,96,3)\n",
    "batch_size = 16\n",
    "epochs = 200\n",
    "l2_lambda = 2e-5"
   ]
  },
  {
   "cell_type": "markdown",
   "id": "4747ef11",
   "metadata": {
    "papermill": {
     "duration": 0.038987,
     "end_time": "2022-11-24T18:44:12.707190",
     "exception": false,
     "start_time": "2022-11-24T18:44:12.668203",
     "status": "completed"
    },
    "tags": []
   },
   "source": [
    "# Transfer learning"
   ]
  },
  {
   "cell_type": "code",
   "execution_count": null,
   "id": "8f46f36e",
   "metadata": {
    "execution": {
     "iopub.execute_input": "2022-11-24T18:44:12.786433Z",
     "iopub.status.busy": "2022-11-24T18:44:12.786005Z",
     "iopub.status.idle": "2022-11-24T18:44:22.640397Z",
     "shell.execute_reply": "2022-11-24T18:44:22.637991Z"
    },
    "papermill": {
     "duration": 9.897047,
     "end_time": "2022-11-24T18:44:22.643251",
     "exception": false,
     "start_time": "2022-11-24T18:44:12.746204",
     "status": "completed"
    },
    "tags": []
   },
   "outputs": [],
   "source": [
    "base_model = convnext.ConvNeXtBase(\n",
    "    include_top=False,\n",
    "    weights='imagenet',\n",
    "    input_shape=(96,96,3)\n",
    "    );"
   ]
  },
  {
   "cell_type": "code",
   "execution_count": 10,
   "id": "e9789ec3",
   "metadata": {
    "execution": {
     "iopub.execute_input": "2022-11-24T18:44:22.748507Z",
     "iopub.status.busy": "2022-11-24T18:44:22.748164Z",
     "iopub.status.idle": "2022-11-24T18:44:22.757768Z",
     "shell.execute_reply": "2022-11-24T18:44:22.756600Z"
    },
    "papermill": {
     "duration": 0.055013,
     "end_time": "2022-11-24T18:44:22.760524",
     "exception": false,
     "start_time": "2022-11-24T18:44:22.705511",
     "status": "completed"
    },
    "tags": []
   },
   "outputs": [],
   "source": [
    "def build_model():\n",
    "    tf.random.set_seed(seed)\n",
    "    base_model.trainable=False\n",
    "\n",
    "    x = base_model.output\n",
    "    \n",
    "    x = tfkl.GlobalAveragePooling2D(name='GlobalAveragePooling')(x)\n",
    "    \n",
    "    x = tfkl.Dropout(rate=0.3, seed=seed, name='Dropout1')(x)\n",
    "    \n",
    "    x = tfkl.Dense(\n",
    "            units = 256,\n",
    "            activation = 'sigmoid',\n",
    "            kernel_initializer = tfk.initializers.HeUniform(seed),\n",
    "            kernel_regularizer = tf.keras.regularizers.l2(l2_lambda),\n",
    "            name = 'Dense'\n",
    "            )(x)\n",
    "    \n",
    "    x = tfkl.Dropout(rate=0.4, seed=seed, name='Dropout2')(x)\n",
    "    \n",
    "    output_layer = tfkl.Dense(\n",
    "        units = 8, \n",
    "        activation = 'softmax', \n",
    "        kernel_initializer = tfk.initializers.GlorotUniform(seed),\n",
    "        name = 'Output'\n",
    "    )(x)\n",
    "\n",
    "    model = tfk.Model(inputs=base_model.input, outputs=output_layer, name='model')\n",
    "    \n",
    "    model.compile(loss=tfk.losses.CategoricalCrossentropy(),\n",
    "                  optimizer=tfk.optimizers.Adam(learning_rate=1e-4), \n",
    "                  metrics='accuracy')\n",
    "    \n",
    "    return model"
   ]
  },
  {
   "cell_type": "code",
   "execution_count": 11,
   "id": "85adf6b5",
   "metadata": {
    "execution": {
     "iopub.execute_input": "2022-11-24T18:44:22.824035Z",
     "iopub.status.busy": "2022-11-24T18:44:22.823678Z",
     "iopub.status.idle": "2022-11-24T18:44:23.769421Z",
     "shell.execute_reply": "2022-11-24T18:44:23.768477Z"
    },
    "papermill": {
     "duration": 1.473598,
     "end_time": "2022-11-24T18:44:24.264286",
     "exception": false,
     "start_time": "2022-11-24T18:44:22.790688",
     "status": "completed"
    },
    "tags": []
   },
   "outputs": [
    {
     "name": "stdout",
     "output_type": "stream",
     "text": [
      "Model: \"model\"\n",
      "__________________________________________________________________________________________________\n",
      " Layer (type)                   Output Shape         Param #     Connected to                     \n",
      "==================================================================================================\n",
      " input_1 (InputLayer)           [(None, 96, 96, 3)]  0           []                               \n",
      "                                                                                                  \n",
      " convnext_base_prestem_normaliz  (None, 96, 96, 3)   0           ['input_1[0][0]']                \n",
      " ation (Normalization)                                                                            \n",
      "                                                                                                  \n",
      " convnext_base_stem (Sequential  (None, 24, 24, 128)  6528       ['convnext_base_prestem_normaliza\n",
      " )                                                               tion[0][0]']                     \n",
      "                                                                                                  \n",
      " convnext_base_stage_0_block_0_  (None, 24, 24, 128)  6400       ['convnext_base_stem[0][0]']     \n",
      " depthwise_conv (Conv2D)                                                                          \n",
      "                                                                                                  \n",
      " convnext_base_stage_0_block_0_  (None, 24, 24, 128)  256        ['convnext_base_stage_0_block_0_d\n",
      " layernorm (LayerNormalization)                                  epthwise_conv[0][0]']            \n",
      "                                                                                                  \n",
      " convnext_base_stage_0_block_0_  (None, 24, 24, 512)  66048      ['convnext_base_stage_0_block_0_l\n",
      " pointwise_conv_1 (Dense)                                        ayernorm[0][0]']                 \n",
      "                                                                                                  \n",
      " convnext_base_stage_0_block_0_  (None, 24, 24, 512)  0          ['convnext_base_stage_0_block_0_p\n",
      " gelu (Activation)                                               ointwise_conv_1[0][0]']          \n",
      "                                                                                                  \n",
      " convnext_base_stage_0_block_0_  (None, 24, 24, 128)  65664      ['convnext_base_stage_0_block_0_g\n",
      " pointwise_conv_2 (Dense)                                        elu[0][0]']                      \n",
      "                                                                                                  \n",
      " convnext_base_stage_0_block_0_  (None, 24, 24, 128)  128        ['convnext_base_stage_0_block_0_p\n",
      " layer_scale (LayerScale)                                        ointwise_conv_2[0][0]']          \n",
      "                                                                                                  \n",
      " convnext_base_stage_0_block_0_  (None, 24, 24, 128)  0          ['convnext_base_stage_0_block_0_l\n",
      " identity (Activation)                                           ayer_scale[0][0]']               \n",
      "                                                                                                  \n",
      " tf.__operators__.add (TFOpLamb  (None, 24, 24, 128)  0          ['convnext_base_stem[0][0]',     \n",
      " da)                                                              'convnext_base_stage_0_block_0_i\n",
      "                                                                 dentity[0][0]']                  \n",
      "                                                                                                  \n",
      " convnext_base_stage_0_block_1_  (None, 24, 24, 128)  6400       ['tf.__operators__.add[0][0]']   \n",
      " depthwise_conv (Conv2D)                                                                          \n",
      "                                                                                                  \n",
      " convnext_base_stage_0_block_1_  (None, 24, 24, 128)  256        ['convnext_base_stage_0_block_1_d\n",
      " layernorm (LayerNormalization)                                  epthwise_conv[0][0]']            \n",
      "                                                                                                  \n",
      " convnext_base_stage_0_block_1_  (None, 24, 24, 512)  66048      ['convnext_base_stage_0_block_1_l\n",
      " pointwise_conv_1 (Dense)                                        ayernorm[0][0]']                 \n",
      "                                                                                                  \n",
      " convnext_base_stage_0_block_1_  (None, 24, 24, 512)  0          ['convnext_base_stage_0_block_1_p\n",
      " gelu (Activation)                                               ointwise_conv_1[0][0]']          \n",
      "                                                                                                  \n",
      " convnext_base_stage_0_block_1_  (None, 24, 24, 128)  65664      ['convnext_base_stage_0_block_1_g\n",
      " pointwise_conv_2 (Dense)                                        elu[0][0]']                      \n",
      "                                                                                                  \n",
      " convnext_base_stage_0_block_1_  (None, 24, 24, 128)  128        ['convnext_base_stage_0_block_1_p\n",
      " layer_scale (LayerScale)                                        ointwise_conv_2[0][0]']          \n",
      "                                                                                                  \n",
      " convnext_base_stage_0_block_1_  (None, 24, 24, 128)  0          ['convnext_base_stage_0_block_1_l\n",
      " identity (Activation)                                           ayer_scale[0][0]']               \n",
      "                                                                                                  \n",
      " tf.__operators__.add_1 (TFOpLa  (None, 24, 24, 128)  0          ['tf.__operators__.add[0][0]',   \n",
      " mbda)                                                            'convnext_base_stage_0_block_1_i\n",
      "                                                                 dentity[0][0]']                  \n",
      "                                                                                                  \n",
      " convnext_base_stage_0_block_2_  (None, 24, 24, 128)  6400       ['tf.__operators__.add_1[0][0]'] \n",
      " depthwise_conv (Conv2D)                                                                          \n",
      "                                                                                                  \n",
      " convnext_base_stage_0_block_2_  (None, 24, 24, 128)  256        ['convnext_base_stage_0_block_2_d\n",
      " layernorm (LayerNormalization)                                  epthwise_conv[0][0]']            \n",
      "                                                                                                  \n",
      " convnext_base_stage_0_block_2_  (None, 24, 24, 512)  66048      ['convnext_base_stage_0_block_2_l\n",
      " pointwise_conv_1 (Dense)                                        ayernorm[0][0]']                 \n",
      "                                                                                                  \n",
      " convnext_base_stage_0_block_2_  (None, 24, 24, 512)  0          ['convnext_base_stage_0_block_2_p\n",
      " gelu (Activation)                                               ointwise_conv_1[0][0]']          \n",
      "                                                                                                  \n",
      " convnext_base_stage_0_block_2_  (None, 24, 24, 128)  65664      ['convnext_base_stage_0_block_2_g\n",
      " pointwise_conv_2 (Dense)                                        elu[0][0]']                      \n",
      "                                                                                                  \n",
      " convnext_base_stage_0_block_2_  (None, 24, 24, 128)  128        ['convnext_base_stage_0_block_2_p\n",
      " layer_scale (LayerScale)                                        ointwise_conv_2[0][0]']          \n",
      "                                                                                                  \n",
      " convnext_base_stage_0_block_2_  (None, 24, 24, 128)  0          ['convnext_base_stage_0_block_2_l\n",
      " identity (Activation)                                           ayer_scale[0][0]']               \n",
      "                                                                                                  \n",
      " tf.__operators__.add_2 (TFOpLa  (None, 24, 24, 128)  0          ['tf.__operators__.add_1[0][0]', \n",
      " mbda)                                                            'convnext_base_stage_0_block_2_i\n",
      "                                                                 dentity[0][0]']                  \n",
      "                                                                                                  \n",
      " convnext_base_downsampling_blo  (None, 12, 12, 256)  131584     ['tf.__operators__.add_2[0][0]'] \n",
      " ck_0 (Sequential)                                                                                \n",
      "                                                                                                  \n",
      " convnext_base_stage_1_block_0_  (None, 12, 12, 256)  12800      ['convnext_base_downsampling_bloc\n",
      " depthwise_conv (Conv2D)                                         k_0[0][0]']                      \n",
      "                                                                                                  \n",
      " convnext_base_stage_1_block_0_  (None, 12, 12, 256)  512        ['convnext_base_stage_1_block_0_d\n",
      " layernorm (LayerNormalization)                                  epthwise_conv[0][0]']            \n",
      "                                                                                                  \n",
      " convnext_base_stage_1_block_0_  (None, 12, 12, 1024  263168     ['convnext_base_stage_1_block_0_l\n",
      " pointwise_conv_1 (Dense)       )                                ayernorm[0][0]']                 \n",
      "                                                                                                  \n",
      " convnext_base_stage_1_block_0_  (None, 12, 12, 1024  0          ['convnext_base_stage_1_block_0_p\n",
      " gelu (Activation)              )                                ointwise_conv_1[0][0]']          \n",
      "                                                                                                  \n",
      " convnext_base_stage_1_block_0_  (None, 12, 12, 256)  262400     ['convnext_base_stage_1_block_0_g\n",
      " pointwise_conv_2 (Dense)                                        elu[0][0]']                      \n",
      "                                                                                                  \n",
      " convnext_base_stage_1_block_0_  (None, 12, 12, 256)  256        ['convnext_base_stage_1_block_0_p\n",
      " layer_scale (LayerScale)                                        ointwise_conv_2[0][0]']          \n",
      "                                                                                                  \n",
      " convnext_base_stage_1_block_0_  (None, 12, 12, 256)  0          ['convnext_base_stage_1_block_0_l\n",
      " identity (Activation)                                           ayer_scale[0][0]']               \n",
      "                                                                                                  \n",
      " tf.__operators__.add_3 (TFOpLa  (None, 12, 12, 256)  0          ['convnext_base_downsampling_bloc\n",
      " mbda)                                                           k_0[0][0]',                      \n",
      "                                                                  'convnext_base_stage_1_block_0_i\n",
      "                                                                 dentity[0][0]']                  \n",
      "                                                                                                  \n",
      " convnext_base_stage_1_block_1_  (None, 12, 12, 256)  12800      ['tf.__operators__.add_3[0][0]'] \n",
      " depthwise_conv (Conv2D)                                                                          \n",
      "                                                                                                  \n",
      " convnext_base_stage_1_block_1_  (None, 12, 12, 256)  512        ['convnext_base_stage_1_block_1_d\n",
      " layernorm (LayerNormalization)                                  epthwise_conv[0][0]']            \n",
      "                                                                                                  \n",
      " convnext_base_stage_1_block_1_  (None, 12, 12, 1024  263168     ['convnext_base_stage_1_block_1_l\n",
      " pointwise_conv_1 (Dense)       )                                ayernorm[0][0]']                 \n",
      "                                                                                                  \n",
      " convnext_base_stage_1_block_1_  (None, 12, 12, 1024  0          ['convnext_base_stage_1_block_1_p\n",
      " gelu (Activation)              )                                ointwise_conv_1[0][0]']          \n",
      "                                                                                                  \n",
      " convnext_base_stage_1_block_1_  (None, 12, 12, 256)  262400     ['convnext_base_stage_1_block_1_g\n",
      " pointwise_conv_2 (Dense)                                        elu[0][0]']                      \n",
      "                                                                                                  \n",
      " convnext_base_stage_1_block_1_  (None, 12, 12, 256)  256        ['convnext_base_stage_1_block_1_p\n",
      " layer_scale (LayerScale)                                        ointwise_conv_2[0][0]']          \n",
      "                                                                                                  \n",
      " convnext_base_stage_1_block_1_  (None, 12, 12, 256)  0          ['convnext_base_stage_1_block_1_l\n",
      " identity (Activation)                                           ayer_scale[0][0]']               \n",
      "                                                                                                  \n",
      " tf.__operators__.add_4 (TFOpLa  (None, 12, 12, 256)  0          ['tf.__operators__.add_3[0][0]', \n",
      " mbda)                                                            'convnext_base_stage_1_block_1_i\n",
      "                                                                 dentity[0][0]']                  \n",
      "                                                                                                  \n",
      " convnext_base_stage_1_block_2_  (None, 12, 12, 256)  12800      ['tf.__operators__.add_4[0][0]'] \n",
      " depthwise_conv (Conv2D)                                                                          \n",
      "                                                                                                  \n",
      " convnext_base_stage_1_block_2_  (None, 12, 12, 256)  512        ['convnext_base_stage_1_block_2_d\n",
      " layernorm (LayerNormalization)                                  epthwise_conv[0][0]']            \n",
      "                                                                                                  \n",
      " convnext_base_stage_1_block_2_  (None, 12, 12, 1024  263168     ['convnext_base_stage_1_block_2_l\n",
      " pointwise_conv_1 (Dense)       )                                ayernorm[0][0]']                 \n",
      "                                                                                                  \n",
      " convnext_base_stage_1_block_2_  (None, 12, 12, 1024  0          ['convnext_base_stage_1_block_2_p\n",
      " gelu (Activation)              )                                ointwise_conv_1[0][0]']          \n",
      "                                                                                                  \n",
      " convnext_base_stage_1_block_2_  (None, 12, 12, 256)  262400     ['convnext_base_stage_1_block_2_g\n",
      " pointwise_conv_2 (Dense)                                        elu[0][0]']                      \n",
      "                                                                                                  \n",
      " convnext_base_stage_1_block_2_  (None, 12, 12, 256)  256        ['convnext_base_stage_1_block_2_p\n",
      " layer_scale (LayerScale)                                        ointwise_conv_2[0][0]']          \n",
      "                                                                                                  \n",
      " convnext_base_stage_1_block_2_  (None, 12, 12, 256)  0          ['convnext_base_stage_1_block_2_l\n",
      " identity (Activation)                                           ayer_scale[0][0]']               \n",
      "                                                                                                  \n",
      " tf.__operators__.add_5 (TFOpLa  (None, 12, 12, 256)  0          ['tf.__operators__.add_4[0][0]', \n",
      " mbda)                                                            'convnext_base_stage_1_block_2_i\n",
      "                                                                 dentity[0][0]']                  \n",
      "                                                                                                  \n",
      " convnext_base_downsampling_blo  (None, 6, 6, 512)   525312      ['tf.__operators__.add_5[0][0]'] \n",
      " ck_1 (Sequential)                                                                                \n",
      "                                                                                                  \n",
      " convnext_base_stage_2_block_0_  (None, 6, 6, 512)   25600       ['convnext_base_downsampling_bloc\n",
      " depthwise_conv (Conv2D)                                         k_1[0][0]']                      \n",
      "                                                                                                  \n",
      " convnext_base_stage_2_block_0_  (None, 6, 6, 512)   1024        ['convnext_base_stage_2_block_0_d\n",
      " layernorm (LayerNormalization)                                  epthwise_conv[0][0]']            \n",
      "                                                                                                  \n",
      " convnext_base_stage_2_block_0_  (None, 6, 6, 2048)  1050624     ['convnext_base_stage_2_block_0_l\n",
      " pointwise_conv_1 (Dense)                                        ayernorm[0][0]']                 \n",
      "                                                                                                  \n",
      " convnext_base_stage_2_block_0_  (None, 6, 6, 2048)  0           ['convnext_base_stage_2_block_0_p\n",
      " gelu (Activation)                                               ointwise_conv_1[0][0]']          \n",
      "                                                                                                  \n",
      " convnext_base_stage_2_block_0_  (None, 6, 6, 512)   1049088     ['convnext_base_stage_2_block_0_g\n",
      " pointwise_conv_2 (Dense)                                        elu[0][0]']                      \n",
      "                                                                                                  \n",
      " convnext_base_stage_2_block_0_  (None, 6, 6, 512)   512         ['convnext_base_stage_2_block_0_p\n",
      " layer_scale (LayerScale)                                        ointwise_conv_2[0][0]']          \n",
      "                                                                                                  \n",
      " convnext_base_stage_2_block_0_  (None, 6, 6, 512)   0           ['convnext_base_stage_2_block_0_l\n",
      " identity (Activation)                                           ayer_scale[0][0]']               \n",
      "                                                                                                  \n",
      " tf.__operators__.add_6 (TFOpLa  (None, 6, 6, 512)   0           ['convnext_base_downsampling_bloc\n",
      " mbda)                                                           k_1[0][0]',                      \n",
      "                                                                  'convnext_base_stage_2_block_0_i\n",
      "                                                                 dentity[0][0]']                  \n",
      "                                                                                                  \n",
      " convnext_base_stage_2_block_1_  (None, 6, 6, 512)   25600       ['tf.__operators__.add_6[0][0]'] \n",
      " depthwise_conv (Conv2D)                                                                          \n",
      "                                                                                                  \n",
      " convnext_base_stage_2_block_1_  (None, 6, 6, 512)   1024        ['convnext_base_stage_2_block_1_d\n",
      " layernorm (LayerNormalization)                                  epthwise_conv[0][0]']            \n",
      "                                                                                                  \n",
      " convnext_base_stage_2_block_1_  (None, 6, 6, 2048)  1050624     ['convnext_base_stage_2_block_1_l\n",
      " pointwise_conv_1 (Dense)                                        ayernorm[0][0]']                 \n",
      "                                                                                                  \n",
      " convnext_base_stage_2_block_1_  (None, 6, 6, 2048)  0           ['convnext_base_stage_2_block_1_p\n",
      " gelu (Activation)                                               ointwise_conv_1[0][0]']          \n",
      "                                                                                                  \n",
      " convnext_base_stage_2_block_1_  (None, 6, 6, 512)   1049088     ['convnext_base_stage_2_block_1_g\n",
      " pointwise_conv_2 (Dense)                                        elu[0][0]']                      \n",
      "                                                                                                  \n",
      " convnext_base_stage_2_block_1_  (None, 6, 6, 512)   512         ['convnext_base_stage_2_block_1_p\n",
      " layer_scale (LayerScale)                                        ointwise_conv_2[0][0]']          \n",
      "                                                                                                  \n",
      " convnext_base_stage_2_block_1_  (None, 6, 6, 512)   0           ['convnext_base_stage_2_block_1_l\n",
      " identity (Activation)                                           ayer_scale[0][0]']               \n",
      "                                                                                                  \n",
      " tf.__operators__.add_7 (TFOpLa  (None, 6, 6, 512)   0           ['tf.__operators__.add_6[0][0]', \n",
      " mbda)                                                            'convnext_base_stage_2_block_1_i\n",
      "                                                                 dentity[0][0]']                  \n",
      "                                                                                                  \n",
      " convnext_base_stage_2_block_2_  (None, 6, 6, 512)   25600       ['tf.__operators__.add_7[0][0]'] \n",
      " depthwise_conv (Conv2D)                                                                          \n",
      "                                                                                                  \n",
      " convnext_base_stage_2_block_2_  (None, 6, 6, 512)   1024        ['convnext_base_stage_2_block_2_d\n",
      " layernorm (LayerNormalization)                                  epthwise_conv[0][0]']            \n",
      "                                                                                                  \n",
      " convnext_base_stage_2_block_2_  (None, 6, 6, 2048)  1050624     ['convnext_base_stage_2_block_2_l\n",
      " pointwise_conv_1 (Dense)                                        ayernorm[0][0]']                 \n",
      "                                                                                                  \n",
      " convnext_base_stage_2_block_2_  (None, 6, 6, 2048)  0           ['convnext_base_stage_2_block_2_p\n",
      " gelu (Activation)                                               ointwise_conv_1[0][0]']          \n",
      "                                                                                                  \n",
      " convnext_base_stage_2_block_2_  (None, 6, 6, 512)   1049088     ['convnext_base_stage_2_block_2_g\n",
      " pointwise_conv_2 (Dense)                                        elu[0][0]']                      \n",
      "                                                                                                  \n",
      " convnext_base_stage_2_block_2_  (None, 6, 6, 512)   512         ['convnext_base_stage_2_block_2_p\n",
      " layer_scale (LayerScale)                                        ointwise_conv_2[0][0]']          \n",
      "                                                                                                  \n",
      " convnext_base_stage_2_block_2_  (None, 6, 6, 512)   0           ['convnext_base_stage_2_block_2_l\n",
      " identity (Activation)                                           ayer_scale[0][0]']               \n",
      "                                                                                                  \n",
      " tf.__operators__.add_8 (TFOpLa  (None, 6, 6, 512)   0           ['tf.__operators__.add_7[0][0]', \n",
      " mbda)                                                            'convnext_base_stage_2_block_2_i\n",
      "                                                                 dentity[0][0]']                  \n",
      "                                                                                                  \n",
      " convnext_base_stage_2_block_3_  (None, 6, 6, 512)   25600       ['tf.__operators__.add_8[0][0]'] \n",
      " depthwise_conv (Conv2D)                                                                          \n",
      "                                                                                                  \n",
      " convnext_base_stage_2_block_3_  (None, 6, 6, 512)   1024        ['convnext_base_stage_2_block_3_d\n",
      " layernorm (LayerNormalization)                                  epthwise_conv[0][0]']            \n",
      "                                                                                                  \n",
      " convnext_base_stage_2_block_3_  (None, 6, 6, 2048)  1050624     ['convnext_base_stage_2_block_3_l\n",
      " pointwise_conv_1 (Dense)                                        ayernorm[0][0]']                 \n",
      "                                                                                                  \n",
      " convnext_base_stage_2_block_3_  (None, 6, 6, 2048)  0           ['convnext_base_stage_2_block_3_p\n",
      " gelu (Activation)                                               ointwise_conv_1[0][0]']          \n",
      "                                                                                                  \n",
      " convnext_base_stage_2_block_3_  (None, 6, 6, 512)   1049088     ['convnext_base_stage_2_block_3_g\n",
      " pointwise_conv_2 (Dense)                                        elu[0][0]']                      \n",
      "                                                                                                  \n",
      " convnext_base_stage_2_block_3_  (None, 6, 6, 512)   512         ['convnext_base_stage_2_block_3_p\n",
      " layer_scale (LayerScale)                                        ointwise_conv_2[0][0]']          \n",
      "                                                                                                  \n",
      " convnext_base_stage_2_block_3_  (None, 6, 6, 512)   0           ['convnext_base_stage_2_block_3_l\n",
      " identity (Activation)                                           ayer_scale[0][0]']               \n",
      "                                                                                                  \n",
      " tf.__operators__.add_9 (TFOpLa  (None, 6, 6, 512)   0           ['tf.__operators__.add_8[0][0]', \n",
      " mbda)                                                            'convnext_base_stage_2_block_3_i\n",
      "                                                                 dentity[0][0]']                  \n",
      "                                                                                                  \n",
      " convnext_base_stage_2_block_4_  (None, 6, 6, 512)   25600       ['tf.__operators__.add_9[0][0]'] \n",
      " depthwise_conv (Conv2D)                                                                          \n",
      "                                                                                                  \n",
      " convnext_base_stage_2_block_4_  (None, 6, 6, 512)   1024        ['convnext_base_stage_2_block_4_d\n",
      " layernorm (LayerNormalization)                                  epthwise_conv[0][0]']            \n",
      "                                                                                                  \n",
      " convnext_base_stage_2_block_4_  (None, 6, 6, 2048)  1050624     ['convnext_base_stage_2_block_4_l\n",
      " pointwise_conv_1 (Dense)                                        ayernorm[0][0]']                 \n",
      "                                                                                                  \n",
      " convnext_base_stage_2_block_4_  (None, 6, 6, 2048)  0           ['convnext_base_stage_2_block_4_p\n",
      " gelu (Activation)                                               ointwise_conv_1[0][0]']          \n",
      "                                                                                                  \n",
      " convnext_base_stage_2_block_4_  (None, 6, 6, 512)   1049088     ['convnext_base_stage_2_block_4_g\n",
      " pointwise_conv_2 (Dense)                                        elu[0][0]']                      \n",
      "                                                                                                  \n",
      " convnext_base_stage_2_block_4_  (None, 6, 6, 512)   512         ['convnext_base_stage_2_block_4_p\n",
      " layer_scale (LayerScale)                                        ointwise_conv_2[0][0]']          \n",
      "                                                                                                  \n",
      " convnext_base_stage_2_block_4_  (None, 6, 6, 512)   0           ['convnext_base_stage_2_block_4_l\n",
      " identity (Activation)                                           ayer_scale[0][0]']               \n",
      "                                                                                                  \n",
      " tf.__operators__.add_10 (TFOpL  (None, 6, 6, 512)   0           ['tf.__operators__.add_9[0][0]', \n",
      " ambda)                                                           'convnext_base_stage_2_block_4_i\n",
      "                                                                 dentity[0][0]']                  \n",
      "                                                                                                  \n",
      " convnext_base_stage_2_block_5_  (None, 6, 6, 512)   25600       ['tf.__operators__.add_10[0][0]']\n",
      " depthwise_conv (Conv2D)                                                                          \n",
      "                                                                                                  \n",
      " convnext_base_stage_2_block_5_  (None, 6, 6, 512)   1024        ['convnext_base_stage_2_block_5_d\n",
      " layernorm (LayerNormalization)                                  epthwise_conv[0][0]']            \n",
      "                                                                                                  \n",
      " convnext_base_stage_2_block_5_  (None, 6, 6, 2048)  1050624     ['convnext_base_stage_2_block_5_l\n",
      " pointwise_conv_1 (Dense)                                        ayernorm[0][0]']                 \n",
      "                                                                                                  \n",
      " convnext_base_stage_2_block_5_  (None, 6, 6, 2048)  0           ['convnext_base_stage_2_block_5_p\n",
      " gelu (Activation)                                               ointwise_conv_1[0][0]']          \n",
      "                                                                                                  \n",
      " convnext_base_stage_2_block_5_  (None, 6, 6, 512)   1049088     ['convnext_base_stage_2_block_5_g\n",
      " pointwise_conv_2 (Dense)                                        elu[0][0]']                      \n",
      "                                                                                                  \n",
      " convnext_base_stage_2_block_5_  (None, 6, 6, 512)   512         ['convnext_base_stage_2_block_5_p\n",
      " layer_scale (LayerScale)                                        ointwise_conv_2[0][0]']          \n",
      "                                                                                                  \n",
      " convnext_base_stage_2_block_5_  (None, 6, 6, 512)   0           ['convnext_base_stage_2_block_5_l\n",
      " identity (Activation)                                           ayer_scale[0][0]']               \n",
      "                                                                                                  \n",
      " tf.__operators__.add_11 (TFOpL  (None, 6, 6, 512)   0           ['tf.__operators__.add_10[0][0]',\n",
      " ambda)                                                           'convnext_base_stage_2_block_5_i\n",
      "                                                                 dentity[0][0]']                  \n",
      "                                                                                                  \n",
      " convnext_base_stage_2_block_6_  (None, 6, 6, 512)   25600       ['tf.__operators__.add_11[0][0]']\n",
      " depthwise_conv (Conv2D)                                                                          \n",
      "                                                                                                  \n",
      " convnext_base_stage_2_block_6_  (None, 6, 6, 512)   1024        ['convnext_base_stage_2_block_6_d\n",
      " layernorm (LayerNormalization)                                  epthwise_conv[0][0]']            \n",
      "                                                                                                  \n",
      " convnext_base_stage_2_block_6_  (None, 6, 6, 2048)  1050624     ['convnext_base_stage_2_block_6_l\n",
      " pointwise_conv_1 (Dense)                                        ayernorm[0][0]']                 \n",
      "                                                                                                  \n",
      " convnext_base_stage_2_block_6_  (None, 6, 6, 2048)  0           ['convnext_base_stage_2_block_6_p\n",
      " gelu (Activation)                                               ointwise_conv_1[0][0]']          \n",
      "                                                                                                  \n",
      " convnext_base_stage_2_block_6_  (None, 6, 6, 512)   1049088     ['convnext_base_stage_2_block_6_g\n",
      " pointwise_conv_2 (Dense)                                        elu[0][0]']                      \n",
      "                                                                                                  \n",
      " convnext_base_stage_2_block_6_  (None, 6, 6, 512)   512         ['convnext_base_stage_2_block_6_p\n",
      " layer_scale (LayerScale)                                        ointwise_conv_2[0][0]']          \n",
      "                                                                                                  \n",
      " convnext_base_stage_2_block_6_  (None, 6, 6, 512)   0           ['convnext_base_stage_2_block_6_l\n",
      " identity (Activation)                                           ayer_scale[0][0]']               \n",
      "                                                                                                  \n",
      " tf.__operators__.add_12 (TFOpL  (None, 6, 6, 512)   0           ['tf.__operators__.add_11[0][0]',\n",
      " ambda)                                                           'convnext_base_stage_2_block_6_i\n",
      "                                                                 dentity[0][0]']                  \n",
      "                                                                                                  \n",
      " convnext_base_stage_2_block_7_  (None, 6, 6, 512)   25600       ['tf.__operators__.add_12[0][0]']\n",
      " depthwise_conv (Conv2D)                                                                          \n",
      "                                                                                                  \n",
      " convnext_base_stage_2_block_7_  (None, 6, 6, 512)   1024        ['convnext_base_stage_2_block_7_d\n",
      " layernorm (LayerNormalization)                                  epthwise_conv[0][0]']            \n",
      "                                                                                                  \n",
      " convnext_base_stage_2_block_7_  (None, 6, 6, 2048)  1050624     ['convnext_base_stage_2_block_7_l\n",
      " pointwise_conv_1 (Dense)                                        ayernorm[0][0]']                 \n",
      "                                                                                                  \n",
      " convnext_base_stage_2_block_7_  (None, 6, 6, 2048)  0           ['convnext_base_stage_2_block_7_p\n",
      " gelu (Activation)                                               ointwise_conv_1[0][0]']          \n",
      "                                                                                                  \n",
      " convnext_base_stage_2_block_7_  (None, 6, 6, 512)   1049088     ['convnext_base_stage_2_block_7_g\n",
      " pointwise_conv_2 (Dense)                                        elu[0][0]']                      \n",
      "                                                                                                  \n",
      " convnext_base_stage_2_block_7_  (None, 6, 6, 512)   512         ['convnext_base_stage_2_block_7_p\n",
      " layer_scale (LayerScale)                                        ointwise_conv_2[0][0]']          \n",
      "                                                                                                  \n",
      " convnext_base_stage_2_block_7_  (None, 6, 6, 512)   0           ['convnext_base_stage_2_block_7_l\n",
      " identity (Activation)                                           ayer_scale[0][0]']               \n",
      "                                                                                                  \n",
      " tf.__operators__.add_13 (TFOpL  (None, 6, 6, 512)   0           ['tf.__operators__.add_12[0][0]',\n",
      " ambda)                                                           'convnext_base_stage_2_block_7_i\n",
      "                                                                 dentity[0][0]']                  \n",
      "                                                                                                  \n",
      " convnext_base_stage_2_block_8_  (None, 6, 6, 512)   25600       ['tf.__operators__.add_13[0][0]']\n",
      " depthwise_conv (Conv2D)                                                                          \n",
      "                                                                                                  \n",
      " convnext_base_stage_2_block_8_  (None, 6, 6, 512)   1024        ['convnext_base_stage_2_block_8_d\n",
      " layernorm (LayerNormalization)                                  epthwise_conv[0][0]']            \n",
      "                                                                                                  \n",
      " convnext_base_stage_2_block_8_  (None, 6, 6, 2048)  1050624     ['convnext_base_stage_2_block_8_l\n",
      " pointwise_conv_1 (Dense)                                        ayernorm[0][0]']                 \n",
      "                                                                                                  \n",
      " convnext_base_stage_2_block_8_  (None, 6, 6, 2048)  0           ['convnext_base_stage_2_block_8_p\n",
      " gelu (Activation)                                               ointwise_conv_1[0][0]']          \n",
      "                                                                                                  \n",
      " convnext_base_stage_2_block_8_  (None, 6, 6, 512)   1049088     ['convnext_base_stage_2_block_8_g\n",
      " pointwise_conv_2 (Dense)                                        elu[0][0]']                      \n",
      "                                                                                                  \n",
      " convnext_base_stage_2_block_8_  (None, 6, 6, 512)   512         ['convnext_base_stage_2_block_8_p\n",
      " layer_scale (LayerScale)                                        ointwise_conv_2[0][0]']          \n",
      "                                                                                                  \n",
      " convnext_base_stage_2_block_8_  (None, 6, 6, 512)   0           ['convnext_base_stage_2_block_8_l\n",
      " identity (Activation)                                           ayer_scale[0][0]']               \n",
      "                                                                                                  \n",
      " tf.__operators__.add_14 (TFOpL  (None, 6, 6, 512)   0           ['tf.__operators__.add_13[0][0]',\n",
      " ambda)                                                           'convnext_base_stage_2_block_8_i\n",
      "                                                                 dentity[0][0]']                  \n",
      "                                                                                                  \n",
      " convnext_base_stage_2_block_9_  (None, 6, 6, 512)   25600       ['tf.__operators__.add_14[0][0]']\n",
      " depthwise_conv (Conv2D)                                                                          \n",
      "                                                                                                  \n",
      " convnext_base_stage_2_block_9_  (None, 6, 6, 512)   1024        ['convnext_base_stage_2_block_9_d\n",
      " layernorm (LayerNormalization)                                  epthwise_conv[0][0]']            \n",
      "                                                                                                  \n",
      " convnext_base_stage_2_block_9_  (None, 6, 6, 2048)  1050624     ['convnext_base_stage_2_block_9_l\n",
      " pointwise_conv_1 (Dense)                                        ayernorm[0][0]']                 \n",
      "                                                                                                  \n",
      " convnext_base_stage_2_block_9_  (None, 6, 6, 2048)  0           ['convnext_base_stage_2_block_9_p\n",
      " gelu (Activation)                                               ointwise_conv_1[0][0]']          \n",
      "                                                                                                  \n",
      " convnext_base_stage_2_block_9_  (None, 6, 6, 512)   1049088     ['convnext_base_stage_2_block_9_g\n",
      " pointwise_conv_2 (Dense)                                        elu[0][0]']                      \n",
      "                                                                                                  \n",
      " convnext_base_stage_2_block_9_  (None, 6, 6, 512)   512         ['convnext_base_stage_2_block_9_p\n",
      " layer_scale (LayerScale)                                        ointwise_conv_2[0][0]']          \n",
      "                                                                                                  \n",
      " convnext_base_stage_2_block_9_  (None, 6, 6, 512)   0           ['convnext_base_stage_2_block_9_l\n",
      " identity (Activation)                                           ayer_scale[0][0]']               \n",
      "                                                                                                  \n",
      " tf.__operators__.add_15 (TFOpL  (None, 6, 6, 512)   0           ['tf.__operators__.add_14[0][0]',\n",
      " ambda)                                                           'convnext_base_stage_2_block_9_i\n",
      "                                                                 dentity[0][0]']                  \n",
      "                                                                                                  \n",
      " convnext_base_stage_2_block_10  (None, 6, 6, 512)   25600       ['tf.__operators__.add_15[0][0]']\n",
      " _depthwise_conv (Conv2D)                                                                         \n",
      "                                                                                                  \n",
      " convnext_base_stage_2_block_10  (None, 6, 6, 512)   1024        ['convnext_base_stage_2_block_10_\n",
      " _layernorm (LayerNormalization                                  depthwise_conv[0][0]']           \n",
      " )                                                                                                \n",
      "                                                                                                  \n",
      " convnext_base_stage_2_block_10  (None, 6, 6, 2048)  1050624     ['convnext_base_stage_2_block_10_\n",
      " _pointwise_conv_1 (Dense)                                       layernorm[0][0]']                \n",
      "                                                                                                  \n",
      " convnext_base_stage_2_block_10  (None, 6, 6, 2048)  0           ['convnext_base_stage_2_block_10_\n",
      " _gelu (Activation)                                              pointwise_conv_1[0][0]']         \n",
      "                                                                                                  \n",
      " convnext_base_stage_2_block_10  (None, 6, 6, 512)   1049088     ['convnext_base_stage_2_block_10_\n",
      " _pointwise_conv_2 (Dense)                                       gelu[0][0]']                     \n",
      "                                                                                                  \n",
      " convnext_base_stage_2_block_10  (None, 6, 6, 512)   512         ['convnext_base_stage_2_block_10_\n",
      " _layer_scale (LayerScale)                                       pointwise_conv_2[0][0]']         \n",
      "                                                                                                  \n",
      " convnext_base_stage_2_block_10  (None, 6, 6, 512)   0           ['convnext_base_stage_2_block_10_\n",
      " _identity (Activation)                                          layer_scale[0][0]']              \n",
      "                                                                                                  \n",
      " tf.__operators__.add_16 (TFOpL  (None, 6, 6, 512)   0           ['tf.__operators__.add_15[0][0]',\n",
      " ambda)                                                           'convnext_base_stage_2_block_10_\n",
      "                                                                 identity[0][0]']                 \n",
      "                                                                                                  \n",
      " convnext_base_stage_2_block_11  (None, 6, 6, 512)   25600       ['tf.__operators__.add_16[0][0]']\n",
      " _depthwise_conv (Conv2D)                                                                         \n",
      "                                                                                                  \n",
      " convnext_base_stage_2_block_11  (None, 6, 6, 512)   1024        ['convnext_base_stage_2_block_11_\n",
      " _layernorm (LayerNormalization                                  depthwise_conv[0][0]']           \n",
      " )                                                                                                \n",
      "                                                                                                  \n",
      " convnext_base_stage_2_block_11  (None, 6, 6, 2048)  1050624     ['convnext_base_stage_2_block_11_\n",
      " _pointwise_conv_1 (Dense)                                       layernorm[0][0]']                \n",
      "                                                                                                  \n",
      " convnext_base_stage_2_block_11  (None, 6, 6, 2048)  0           ['convnext_base_stage_2_block_11_\n",
      " _gelu (Activation)                                              pointwise_conv_1[0][0]']         \n",
      "                                                                                                  \n",
      " convnext_base_stage_2_block_11  (None, 6, 6, 512)   1049088     ['convnext_base_stage_2_block_11_\n",
      " _pointwise_conv_2 (Dense)                                       gelu[0][0]']                     \n",
      "                                                                                                  \n",
      " convnext_base_stage_2_block_11  (None, 6, 6, 512)   512         ['convnext_base_stage_2_block_11_\n",
      " _layer_scale (LayerScale)                                       pointwise_conv_2[0][0]']         \n",
      "                                                                                                  \n",
      " convnext_base_stage_2_block_11  (None, 6, 6, 512)   0           ['convnext_base_stage_2_block_11_\n",
      " _identity (Activation)                                          layer_scale[0][0]']              \n",
      "                                                                                                  \n",
      " tf.__operators__.add_17 (TFOpL  (None, 6, 6, 512)   0           ['tf.__operators__.add_16[0][0]',\n",
      " ambda)                                                           'convnext_base_stage_2_block_11_\n",
      "                                                                 identity[0][0]']                 \n",
      "                                                                                                  \n",
      " convnext_base_stage_2_block_12  (None, 6, 6, 512)   25600       ['tf.__operators__.add_17[0][0]']\n",
      " _depthwise_conv (Conv2D)                                                                         \n",
      "                                                                                                  \n",
      " convnext_base_stage_2_block_12  (None, 6, 6, 512)   1024        ['convnext_base_stage_2_block_12_\n",
      " _layernorm (LayerNormalization                                  depthwise_conv[0][0]']           \n",
      " )                                                                                                \n",
      "                                                                                                  \n",
      " convnext_base_stage_2_block_12  (None, 6, 6, 2048)  1050624     ['convnext_base_stage_2_block_12_\n",
      " _pointwise_conv_1 (Dense)                                       layernorm[0][0]']                \n",
      "                                                                                                  \n",
      " convnext_base_stage_2_block_12  (None, 6, 6, 2048)  0           ['convnext_base_stage_2_block_12_\n",
      " _gelu (Activation)                                              pointwise_conv_1[0][0]']         \n",
      "                                                                                                  \n",
      " convnext_base_stage_2_block_12  (None, 6, 6, 512)   1049088     ['convnext_base_stage_2_block_12_\n",
      " _pointwise_conv_2 (Dense)                                       gelu[0][0]']                     \n",
      "                                                                                                  \n",
      " convnext_base_stage_2_block_12  (None, 6, 6, 512)   512         ['convnext_base_stage_2_block_12_\n",
      " _layer_scale (LayerScale)                                       pointwise_conv_2[0][0]']         \n",
      "                                                                                                  \n",
      " convnext_base_stage_2_block_12  (None, 6, 6, 512)   0           ['convnext_base_stage_2_block_12_\n",
      " _identity (Activation)                                          layer_scale[0][0]']              \n",
      "                                                                                                  \n",
      " tf.__operators__.add_18 (TFOpL  (None, 6, 6, 512)   0           ['tf.__operators__.add_17[0][0]',\n",
      " ambda)                                                           'convnext_base_stage_2_block_12_\n",
      "                                                                 identity[0][0]']                 \n",
      "                                                                                                  \n",
      " convnext_base_stage_2_block_13  (None, 6, 6, 512)   25600       ['tf.__operators__.add_18[0][0]']\n",
      " _depthwise_conv (Conv2D)                                                                         \n",
      "                                                                                                  \n",
      " convnext_base_stage_2_block_13  (None, 6, 6, 512)   1024        ['convnext_base_stage_2_block_13_\n",
      " _layernorm (LayerNormalization                                  depthwise_conv[0][0]']           \n",
      " )                                                                                                \n",
      "                                                                                                  \n",
      " convnext_base_stage_2_block_13  (None, 6, 6, 2048)  1050624     ['convnext_base_stage_2_block_13_\n",
      " _pointwise_conv_1 (Dense)                                       layernorm[0][0]']                \n",
      "                                                                                                  \n",
      " convnext_base_stage_2_block_13  (None, 6, 6, 2048)  0           ['convnext_base_stage_2_block_13_\n",
      " _gelu (Activation)                                              pointwise_conv_1[0][0]']         \n",
      "                                                                                                  \n",
      " convnext_base_stage_2_block_13  (None, 6, 6, 512)   1049088     ['convnext_base_stage_2_block_13_\n",
      " _pointwise_conv_2 (Dense)                                       gelu[0][0]']                     \n",
      "                                                                                                  \n",
      " convnext_base_stage_2_block_13  (None, 6, 6, 512)   512         ['convnext_base_stage_2_block_13_\n",
      " _layer_scale (LayerScale)                                       pointwise_conv_2[0][0]']         \n",
      "                                                                                                  \n",
      " convnext_base_stage_2_block_13  (None, 6, 6, 512)   0           ['convnext_base_stage_2_block_13_\n",
      " _identity (Activation)                                          layer_scale[0][0]']              \n",
      "                                                                                                  \n",
      " tf.__operators__.add_19 (TFOpL  (None, 6, 6, 512)   0           ['tf.__operators__.add_18[0][0]',\n",
      " ambda)                                                           'convnext_base_stage_2_block_13_\n",
      "                                                                 identity[0][0]']                 \n",
      "                                                                                                  \n",
      " convnext_base_stage_2_block_14  (None, 6, 6, 512)   25600       ['tf.__operators__.add_19[0][0]']\n",
      " _depthwise_conv (Conv2D)                                                                         \n",
      "                                                                                                  \n",
      " convnext_base_stage_2_block_14  (None, 6, 6, 512)   1024        ['convnext_base_stage_2_block_14_\n",
      " _layernorm (LayerNormalization                                  depthwise_conv[0][0]']           \n",
      " )                                                                                                \n",
      "                                                                                                  \n",
      " convnext_base_stage_2_block_14  (None, 6, 6, 2048)  1050624     ['convnext_base_stage_2_block_14_\n",
      " _pointwise_conv_1 (Dense)                                       layernorm[0][0]']                \n",
      "                                                                                                  \n",
      " convnext_base_stage_2_block_14  (None, 6, 6, 2048)  0           ['convnext_base_stage_2_block_14_\n",
      " _gelu (Activation)                                              pointwise_conv_1[0][0]']         \n",
      "                                                                                                  \n",
      " convnext_base_stage_2_block_14  (None, 6, 6, 512)   1049088     ['convnext_base_stage_2_block_14_\n",
      " _pointwise_conv_2 (Dense)                                       gelu[0][0]']                     \n",
      "                                                                                                  \n",
      " convnext_base_stage_2_block_14  (None, 6, 6, 512)   512         ['convnext_base_stage_2_block_14_\n",
      " _layer_scale (LayerScale)                                       pointwise_conv_2[0][0]']         \n",
      "                                                                                                  \n",
      " convnext_base_stage_2_block_14  (None, 6, 6, 512)   0           ['convnext_base_stage_2_block_14_\n",
      " _identity (Activation)                                          layer_scale[0][0]']              \n",
      "                                                                                                  \n",
      " tf.__operators__.add_20 (TFOpL  (None, 6, 6, 512)   0           ['tf.__operators__.add_19[0][0]',\n",
      " ambda)                                                           'convnext_base_stage_2_block_14_\n",
      "                                                                 identity[0][0]']                 \n",
      "                                                                                                  \n",
      " convnext_base_stage_2_block_15  (None, 6, 6, 512)   25600       ['tf.__operators__.add_20[0][0]']\n",
      " _depthwise_conv (Conv2D)                                                                         \n",
      "                                                                                                  \n",
      " convnext_base_stage_2_block_15  (None, 6, 6, 512)   1024        ['convnext_base_stage_2_block_15_\n",
      " _layernorm (LayerNormalization                                  depthwise_conv[0][0]']           \n",
      " )                                                                                                \n",
      "                                                                                                  \n",
      " convnext_base_stage_2_block_15  (None, 6, 6, 2048)  1050624     ['convnext_base_stage_2_block_15_\n",
      " _pointwise_conv_1 (Dense)                                       layernorm[0][0]']                \n",
      "                                                                                                  \n",
      " convnext_base_stage_2_block_15  (None, 6, 6, 2048)  0           ['convnext_base_stage_2_block_15_\n",
      " _gelu (Activation)                                              pointwise_conv_1[0][0]']         \n",
      "                                                                                                  \n",
      " convnext_base_stage_2_block_15  (None, 6, 6, 512)   1049088     ['convnext_base_stage_2_block_15_\n",
      " _pointwise_conv_2 (Dense)                                       gelu[0][0]']                     \n",
      "                                                                                                  \n",
      " convnext_base_stage_2_block_15  (None, 6, 6, 512)   512         ['convnext_base_stage_2_block_15_\n",
      " _layer_scale (LayerScale)                                       pointwise_conv_2[0][0]']         \n",
      "                                                                                                  \n",
      " convnext_base_stage_2_block_15  (None, 6, 6, 512)   0           ['convnext_base_stage_2_block_15_\n",
      " _identity (Activation)                                          layer_scale[0][0]']              \n",
      "                                                                                                  \n",
      " tf.__operators__.add_21 (TFOpL  (None, 6, 6, 512)   0           ['tf.__operators__.add_20[0][0]',\n",
      " ambda)                                                           'convnext_base_stage_2_block_15_\n",
      "                                                                 identity[0][0]']                 \n",
      "                                                                                                  \n",
      " convnext_base_stage_2_block_16  (None, 6, 6, 512)   25600       ['tf.__operators__.add_21[0][0]']\n",
      " _depthwise_conv (Conv2D)                                                                         \n",
      "                                                                                                  \n",
      " convnext_base_stage_2_block_16  (None, 6, 6, 512)   1024        ['convnext_base_stage_2_block_16_\n",
      " _layernorm (LayerNormalization                                  depthwise_conv[0][0]']           \n",
      " )                                                                                                \n",
      "                                                                                                  \n",
      " convnext_base_stage_2_block_16  (None, 6, 6, 2048)  1050624     ['convnext_base_stage_2_block_16_\n",
      " _pointwise_conv_1 (Dense)                                       layernorm[0][0]']                \n",
      "                                                                                                  \n",
      " convnext_base_stage_2_block_16  (None, 6, 6, 2048)  0           ['convnext_base_stage_2_block_16_\n",
      " _gelu (Activation)                                              pointwise_conv_1[0][0]']         \n",
      "                                                                                                  \n",
      " convnext_base_stage_2_block_16  (None, 6, 6, 512)   1049088     ['convnext_base_stage_2_block_16_\n",
      " _pointwise_conv_2 (Dense)                                       gelu[0][0]']                     \n",
      "                                                                                                  \n",
      " convnext_base_stage_2_block_16  (None, 6, 6, 512)   512         ['convnext_base_stage_2_block_16_\n",
      " _layer_scale (LayerScale)                                       pointwise_conv_2[0][0]']         \n",
      "                                                                                                  \n",
      " convnext_base_stage_2_block_16  (None, 6, 6, 512)   0           ['convnext_base_stage_2_block_16_\n",
      " _identity (Activation)                                          layer_scale[0][0]']              \n",
      "                                                                                                  \n",
      " tf.__operators__.add_22 (TFOpL  (None, 6, 6, 512)   0           ['tf.__operators__.add_21[0][0]',\n",
      " ambda)                                                           'convnext_base_stage_2_block_16_\n",
      "                                                                 identity[0][0]']                 \n",
      "                                                                                                  \n",
      " convnext_base_stage_2_block_17  (None, 6, 6, 512)   25600       ['tf.__operators__.add_22[0][0]']\n",
      " _depthwise_conv (Conv2D)                                                                         \n",
      "                                                                                                  \n",
      " convnext_base_stage_2_block_17  (None, 6, 6, 512)   1024        ['convnext_base_stage_2_block_17_\n",
      " _layernorm (LayerNormalization                                  depthwise_conv[0][0]']           \n",
      " )                                                                                                \n",
      "                                                                                                  \n",
      " convnext_base_stage_2_block_17  (None, 6, 6, 2048)  1050624     ['convnext_base_stage_2_block_17_\n",
      " _pointwise_conv_1 (Dense)                                       layernorm[0][0]']                \n",
      "                                                                                                  \n",
      " convnext_base_stage_2_block_17  (None, 6, 6, 2048)  0           ['convnext_base_stage_2_block_17_\n",
      " _gelu (Activation)                                              pointwise_conv_1[0][0]']         \n",
      "                                                                                                  \n",
      " convnext_base_stage_2_block_17  (None, 6, 6, 512)   1049088     ['convnext_base_stage_2_block_17_\n",
      " _pointwise_conv_2 (Dense)                                       gelu[0][0]']                     \n",
      "                                                                                                  \n",
      " convnext_base_stage_2_block_17  (None, 6, 6, 512)   512         ['convnext_base_stage_2_block_17_\n",
      " _layer_scale (LayerScale)                                       pointwise_conv_2[0][0]']         \n",
      "                                                                                                  \n",
      " convnext_base_stage_2_block_17  (None, 6, 6, 512)   0           ['convnext_base_stage_2_block_17_\n",
      " _identity (Activation)                                          layer_scale[0][0]']              \n",
      "                                                                                                  \n",
      " tf.__operators__.add_23 (TFOpL  (None, 6, 6, 512)   0           ['tf.__operators__.add_22[0][0]',\n",
      " ambda)                                                           'convnext_base_stage_2_block_17_\n",
      "                                                                 identity[0][0]']                 \n",
      "                                                                                                  \n",
      " convnext_base_stage_2_block_18  (None, 6, 6, 512)   25600       ['tf.__operators__.add_23[0][0]']\n",
      " _depthwise_conv (Conv2D)                                                                         \n",
      "                                                                                                  \n",
      " convnext_base_stage_2_block_18  (None, 6, 6, 512)   1024        ['convnext_base_stage_2_block_18_\n",
      " _layernorm (LayerNormalization                                  depthwise_conv[0][0]']           \n",
      " )                                                                                                \n",
      "                                                                                                  \n",
      " convnext_base_stage_2_block_18  (None, 6, 6, 2048)  1050624     ['convnext_base_stage_2_block_18_\n",
      " _pointwise_conv_1 (Dense)                                       layernorm[0][0]']                \n",
      "                                                                                                  \n",
      " convnext_base_stage_2_block_18  (None, 6, 6, 2048)  0           ['convnext_base_stage_2_block_18_\n",
      " _gelu (Activation)                                              pointwise_conv_1[0][0]']         \n",
      "                                                                                                  \n",
      " convnext_base_stage_2_block_18  (None, 6, 6, 512)   1049088     ['convnext_base_stage_2_block_18_\n",
      " _pointwise_conv_2 (Dense)                                       gelu[0][0]']                     \n",
      "                                                                                                  \n",
      " convnext_base_stage_2_block_18  (None, 6, 6, 512)   512         ['convnext_base_stage_2_block_18_\n",
      " _layer_scale (LayerScale)                                       pointwise_conv_2[0][0]']         \n",
      "                                                                                                  \n",
      " convnext_base_stage_2_block_18  (None, 6, 6, 512)   0           ['convnext_base_stage_2_block_18_\n",
      " _identity (Activation)                                          layer_scale[0][0]']              \n",
      "                                                                                                  \n",
      " tf.__operators__.add_24 (TFOpL  (None, 6, 6, 512)   0           ['tf.__operators__.add_23[0][0]',\n",
      " ambda)                                                           'convnext_base_stage_2_block_18_\n",
      "                                                                 identity[0][0]']                 \n",
      "                                                                                                  \n",
      " convnext_base_stage_2_block_19  (None, 6, 6, 512)   25600       ['tf.__operators__.add_24[0][0]']\n",
      " _depthwise_conv (Conv2D)                                                                         \n",
      "                                                                                                  \n",
      " convnext_base_stage_2_block_19  (None, 6, 6, 512)   1024        ['convnext_base_stage_2_block_19_\n",
      " _layernorm (LayerNormalization                                  depthwise_conv[0][0]']           \n",
      " )                                                                                                \n",
      "                                                                                                  \n",
      " convnext_base_stage_2_block_19  (None, 6, 6, 2048)  1050624     ['convnext_base_stage_2_block_19_\n",
      " _pointwise_conv_1 (Dense)                                       layernorm[0][0]']                \n",
      "                                                                                                  \n",
      " convnext_base_stage_2_block_19  (None, 6, 6, 2048)  0           ['convnext_base_stage_2_block_19_\n",
      " _gelu (Activation)                                              pointwise_conv_1[0][0]']         \n",
      "                                                                                                  \n",
      " convnext_base_stage_2_block_19  (None, 6, 6, 512)   1049088     ['convnext_base_stage_2_block_19_\n",
      " _pointwise_conv_2 (Dense)                                       gelu[0][0]']                     \n",
      "                                                                                                  \n",
      " convnext_base_stage_2_block_19  (None, 6, 6, 512)   512         ['convnext_base_stage_2_block_19_\n",
      " _layer_scale (LayerScale)                                       pointwise_conv_2[0][0]']         \n",
      "                                                                                                  \n",
      " convnext_base_stage_2_block_19  (None, 6, 6, 512)   0           ['convnext_base_stage_2_block_19_\n",
      " _identity (Activation)                                          layer_scale[0][0]']              \n",
      "                                                                                                  \n",
      " tf.__operators__.add_25 (TFOpL  (None, 6, 6, 512)   0           ['tf.__operators__.add_24[0][0]',\n",
      " ambda)                                                           'convnext_base_stage_2_block_19_\n",
      "                                                                 identity[0][0]']                 \n",
      "                                                                                                  \n",
      " convnext_base_stage_2_block_20  (None, 6, 6, 512)   25600       ['tf.__operators__.add_25[0][0]']\n",
      " _depthwise_conv (Conv2D)                                                                         \n",
      "                                                                                                  \n",
      " convnext_base_stage_2_block_20  (None, 6, 6, 512)   1024        ['convnext_base_stage_2_block_20_\n",
      " _layernorm (LayerNormalization                                  depthwise_conv[0][0]']           \n",
      " )                                                                                                \n",
      "                                                                                                  \n",
      " convnext_base_stage_2_block_20  (None, 6, 6, 2048)  1050624     ['convnext_base_stage_2_block_20_\n",
      " _pointwise_conv_1 (Dense)                                       layernorm[0][0]']                \n",
      "                                                                                                  \n",
      " convnext_base_stage_2_block_20  (None, 6, 6, 2048)  0           ['convnext_base_stage_2_block_20_\n",
      " _gelu (Activation)                                              pointwise_conv_1[0][0]']         \n",
      "                                                                                                  \n",
      " convnext_base_stage_2_block_20  (None, 6, 6, 512)   1049088     ['convnext_base_stage_2_block_20_\n",
      " _pointwise_conv_2 (Dense)                                       gelu[0][0]']                     \n",
      "                                                                                                  \n",
      " convnext_base_stage_2_block_20  (None, 6, 6, 512)   512         ['convnext_base_stage_2_block_20_\n",
      " _layer_scale (LayerScale)                                       pointwise_conv_2[0][0]']         \n",
      "                                                                                                  \n",
      " convnext_base_stage_2_block_20  (None, 6, 6, 512)   0           ['convnext_base_stage_2_block_20_\n",
      " _identity (Activation)                                          layer_scale[0][0]']              \n",
      "                                                                                                  \n",
      " tf.__operators__.add_26 (TFOpL  (None, 6, 6, 512)   0           ['tf.__operators__.add_25[0][0]',\n",
      " ambda)                                                           'convnext_base_stage_2_block_20_\n",
      "                                                                 identity[0][0]']                 \n",
      "                                                                                                  \n",
      " convnext_base_stage_2_block_21  (None, 6, 6, 512)   25600       ['tf.__operators__.add_26[0][0]']\n",
      " _depthwise_conv (Conv2D)                                                                         \n",
      "                                                                                                  \n",
      " convnext_base_stage_2_block_21  (None, 6, 6, 512)   1024        ['convnext_base_stage_2_block_21_\n",
      " _layernorm (LayerNormalization                                  depthwise_conv[0][0]']           \n",
      " )                                                                                                \n",
      "                                                                                                  \n",
      " convnext_base_stage_2_block_21  (None, 6, 6, 2048)  1050624     ['convnext_base_stage_2_block_21_\n",
      " _pointwise_conv_1 (Dense)                                       layernorm[0][0]']                \n",
      "                                                                                                  \n",
      " convnext_base_stage_2_block_21  (None, 6, 6, 2048)  0           ['convnext_base_stage_2_block_21_\n",
      " _gelu (Activation)                                              pointwise_conv_1[0][0]']         \n",
      "                                                                                                  \n",
      " convnext_base_stage_2_block_21  (None, 6, 6, 512)   1049088     ['convnext_base_stage_2_block_21_\n",
      " _pointwise_conv_2 (Dense)                                       gelu[0][0]']                     \n",
      "                                                                                                  \n",
      " convnext_base_stage_2_block_21  (None, 6, 6, 512)   512         ['convnext_base_stage_2_block_21_\n",
      " _layer_scale (LayerScale)                                       pointwise_conv_2[0][0]']         \n",
      "                                                                                                  \n",
      " convnext_base_stage_2_block_21  (None, 6, 6, 512)   0           ['convnext_base_stage_2_block_21_\n",
      " _identity (Activation)                                          layer_scale[0][0]']              \n",
      "                                                                                                  \n",
      " tf.__operators__.add_27 (TFOpL  (None, 6, 6, 512)   0           ['tf.__operators__.add_26[0][0]',\n",
      " ambda)                                                           'convnext_base_stage_2_block_21_\n",
      "                                                                 identity[0][0]']                 \n",
      "                                                                                                  \n",
      " convnext_base_stage_2_block_22  (None, 6, 6, 512)   25600       ['tf.__operators__.add_27[0][0]']\n",
      " _depthwise_conv (Conv2D)                                                                         \n",
      "                                                                                                  \n",
      " convnext_base_stage_2_block_22  (None, 6, 6, 512)   1024        ['convnext_base_stage_2_block_22_\n",
      " _layernorm (LayerNormalization                                  depthwise_conv[0][0]']           \n",
      " )                                                                                                \n",
      "                                                                                                  \n",
      " convnext_base_stage_2_block_22  (None, 6, 6, 2048)  1050624     ['convnext_base_stage_2_block_22_\n",
      " _pointwise_conv_1 (Dense)                                       layernorm[0][0]']                \n",
      "                                                                                                  \n",
      " convnext_base_stage_2_block_22  (None, 6, 6, 2048)  0           ['convnext_base_stage_2_block_22_\n",
      " _gelu (Activation)                                              pointwise_conv_1[0][0]']         \n",
      "                                                                                                  \n",
      " convnext_base_stage_2_block_22  (None, 6, 6, 512)   1049088     ['convnext_base_stage_2_block_22_\n",
      " _pointwise_conv_2 (Dense)                                       gelu[0][0]']                     \n",
      "                                                                                                  \n",
      " convnext_base_stage_2_block_22  (None, 6, 6, 512)   512         ['convnext_base_stage_2_block_22_\n",
      " _layer_scale (LayerScale)                                       pointwise_conv_2[0][0]']         \n",
      "                                                                                                  \n",
      " convnext_base_stage_2_block_22  (None, 6, 6, 512)   0           ['convnext_base_stage_2_block_22_\n",
      " _identity (Activation)                                          layer_scale[0][0]']              \n",
      "                                                                                                  \n",
      " tf.__operators__.add_28 (TFOpL  (None, 6, 6, 512)   0           ['tf.__operators__.add_27[0][0]',\n",
      " ambda)                                                           'convnext_base_stage_2_block_22_\n",
      "                                                                 identity[0][0]']                 \n",
      "                                                                                                  \n",
      " convnext_base_stage_2_block_23  (None, 6, 6, 512)   25600       ['tf.__operators__.add_28[0][0]']\n",
      " _depthwise_conv (Conv2D)                                                                         \n",
      "                                                                                                  \n",
      " convnext_base_stage_2_block_23  (None, 6, 6, 512)   1024        ['convnext_base_stage_2_block_23_\n",
      " _layernorm (LayerNormalization                                  depthwise_conv[0][0]']           \n",
      " )                                                                                                \n",
      "                                                                                                  \n",
      " convnext_base_stage_2_block_23  (None, 6, 6, 2048)  1050624     ['convnext_base_stage_2_block_23_\n",
      " _pointwise_conv_1 (Dense)                                       layernorm[0][0]']                \n",
      "                                                                                                  \n",
      " convnext_base_stage_2_block_23  (None, 6, 6, 2048)  0           ['convnext_base_stage_2_block_23_\n",
      " _gelu (Activation)                                              pointwise_conv_1[0][0]']         \n",
      "                                                                                                  \n",
      " convnext_base_stage_2_block_23  (None, 6, 6, 512)   1049088     ['convnext_base_stage_2_block_23_\n",
      " _pointwise_conv_2 (Dense)                                       gelu[0][0]']                     \n",
      "                                                                                                  \n",
      " convnext_base_stage_2_block_23  (None, 6, 6, 512)   512         ['convnext_base_stage_2_block_23_\n",
      " _layer_scale (LayerScale)                                       pointwise_conv_2[0][0]']         \n",
      "                                                                                                  \n",
      " convnext_base_stage_2_block_23  (None, 6, 6, 512)   0           ['convnext_base_stage_2_block_23_\n",
      " _identity (Activation)                                          layer_scale[0][0]']              \n",
      "                                                                                                  \n",
      " tf.__operators__.add_29 (TFOpL  (None, 6, 6, 512)   0           ['tf.__operators__.add_28[0][0]',\n",
      " ambda)                                                           'convnext_base_stage_2_block_23_\n",
      "                                                                 identity[0][0]']                 \n",
      "                                                                                                  \n",
      " convnext_base_stage_2_block_24  (None, 6, 6, 512)   25600       ['tf.__operators__.add_29[0][0]']\n",
      " _depthwise_conv (Conv2D)                                                                         \n",
      "                                                                                                  \n",
      " convnext_base_stage_2_block_24  (None, 6, 6, 512)   1024        ['convnext_base_stage_2_block_24_\n",
      " _layernorm (LayerNormalization                                  depthwise_conv[0][0]']           \n",
      " )                                                                                                \n",
      "                                                                                                  \n",
      " convnext_base_stage_2_block_24  (None, 6, 6, 2048)  1050624     ['convnext_base_stage_2_block_24_\n",
      " _pointwise_conv_1 (Dense)                                       layernorm[0][0]']                \n",
      "                                                                                                  \n",
      " convnext_base_stage_2_block_24  (None, 6, 6, 2048)  0           ['convnext_base_stage_2_block_24_\n",
      " _gelu (Activation)                                              pointwise_conv_1[0][0]']         \n",
      "                                                                                                  \n",
      " convnext_base_stage_2_block_24  (None, 6, 6, 512)   1049088     ['convnext_base_stage_2_block_24_\n",
      " _pointwise_conv_2 (Dense)                                       gelu[0][0]']                     \n",
      "                                                                                                  \n",
      " convnext_base_stage_2_block_24  (None, 6, 6, 512)   512         ['convnext_base_stage_2_block_24_\n",
      " _layer_scale (LayerScale)                                       pointwise_conv_2[0][0]']         \n",
      "                                                                                                  \n",
      " convnext_base_stage_2_block_24  (None, 6, 6, 512)   0           ['convnext_base_stage_2_block_24_\n",
      " _identity (Activation)                                          layer_scale[0][0]']              \n",
      "                                                                                                  \n",
      " tf.__operators__.add_30 (TFOpL  (None, 6, 6, 512)   0           ['tf.__operators__.add_29[0][0]',\n",
      " ambda)                                                           'convnext_base_stage_2_block_24_\n",
      "                                                                 identity[0][0]']                 \n",
      "                                                                                                  \n",
      " convnext_base_stage_2_block_25  (None, 6, 6, 512)   25600       ['tf.__operators__.add_30[0][0]']\n",
      " _depthwise_conv (Conv2D)                                                                         \n",
      "                                                                                                  \n",
      " convnext_base_stage_2_block_25  (None, 6, 6, 512)   1024        ['convnext_base_stage_2_block_25_\n",
      " _layernorm (LayerNormalization                                  depthwise_conv[0][0]']           \n",
      " )                                                                                                \n",
      "                                                                                                  \n",
      " convnext_base_stage_2_block_25  (None, 6, 6, 2048)  1050624     ['convnext_base_stage_2_block_25_\n",
      " _pointwise_conv_1 (Dense)                                       layernorm[0][0]']                \n",
      "                                                                                                  \n",
      " convnext_base_stage_2_block_25  (None, 6, 6, 2048)  0           ['convnext_base_stage_2_block_25_\n",
      " _gelu (Activation)                                              pointwise_conv_1[0][0]']         \n",
      "                                                                                                  \n",
      " convnext_base_stage_2_block_25  (None, 6, 6, 512)   1049088     ['convnext_base_stage_2_block_25_\n",
      " _pointwise_conv_2 (Dense)                                       gelu[0][0]']                     \n",
      "                                                                                                  \n",
      " convnext_base_stage_2_block_25  (None, 6, 6, 512)   512         ['convnext_base_stage_2_block_25_\n",
      " _layer_scale (LayerScale)                                       pointwise_conv_2[0][0]']         \n",
      "                                                                                                  \n",
      " convnext_base_stage_2_block_25  (None, 6, 6, 512)   0           ['convnext_base_stage_2_block_25_\n",
      " _identity (Activation)                                          layer_scale[0][0]']              \n",
      "                                                                                                  \n",
      " tf.__operators__.add_31 (TFOpL  (None, 6, 6, 512)   0           ['tf.__operators__.add_30[0][0]',\n",
      " ambda)                                                           'convnext_base_stage_2_block_25_\n",
      "                                                                 identity[0][0]']                 \n",
      "                                                                                                  \n",
      " convnext_base_stage_2_block_26  (None, 6, 6, 512)   25600       ['tf.__operators__.add_31[0][0]']\n",
      " _depthwise_conv (Conv2D)                                                                         \n",
      "                                                                                                  \n",
      " convnext_base_stage_2_block_26  (None, 6, 6, 512)   1024        ['convnext_base_stage_2_block_26_\n",
      " _layernorm (LayerNormalization                                  depthwise_conv[0][0]']           \n",
      " )                                                                                                \n",
      "                                                                                                  \n",
      " convnext_base_stage_2_block_26  (None, 6, 6, 2048)  1050624     ['convnext_base_stage_2_block_26_\n",
      " _pointwise_conv_1 (Dense)                                       layernorm[0][0]']                \n",
      "                                                                                                  \n",
      " convnext_base_stage_2_block_26  (None, 6, 6, 2048)  0           ['convnext_base_stage_2_block_26_\n",
      " _gelu (Activation)                                              pointwise_conv_1[0][0]']         \n",
      "                                                                                                  \n",
      " convnext_base_stage_2_block_26  (None, 6, 6, 512)   1049088     ['convnext_base_stage_2_block_26_\n",
      " _pointwise_conv_2 (Dense)                                       gelu[0][0]']                     \n",
      "                                                                                                  \n",
      " convnext_base_stage_2_block_26  (None, 6, 6, 512)   512         ['convnext_base_stage_2_block_26_\n",
      " _layer_scale (LayerScale)                                       pointwise_conv_2[0][0]']         \n",
      "                                                                                                  \n",
      " convnext_base_stage_2_block_26  (None, 6, 6, 512)   0           ['convnext_base_stage_2_block_26_\n",
      " _identity (Activation)                                          layer_scale[0][0]']              \n",
      "                                                                                                  \n",
      " tf.__operators__.add_32 (TFOpL  (None, 6, 6, 512)   0           ['tf.__operators__.add_31[0][0]',\n",
      " ambda)                                                           'convnext_base_stage_2_block_26_\n",
      "                                                                 identity[0][0]']                 \n",
      "                                                                                                  \n",
      " convnext_base_downsampling_blo  (None, 3, 3, 1024)  2099200     ['tf.__operators__.add_32[0][0]']\n",
      " ck_2 (Sequential)                                                                                \n",
      "                                                                                                  \n",
      " convnext_base_stage_3_block_0_  (None, 3, 3, 1024)  51200       ['convnext_base_downsampling_bloc\n",
      " depthwise_conv (Conv2D)                                         k_2[0][0]']                      \n",
      "                                                                                                  \n",
      " convnext_base_stage_3_block_0_  (None, 3, 3, 1024)  2048        ['convnext_base_stage_3_block_0_d\n",
      " layernorm (LayerNormalization)                                  epthwise_conv[0][0]']            \n",
      "                                                                                                  \n",
      " convnext_base_stage_3_block_0_  (None, 3, 3, 4096)  4198400     ['convnext_base_stage_3_block_0_l\n",
      " pointwise_conv_1 (Dense)                                        ayernorm[0][0]']                 \n",
      "                                                                                                  \n",
      " convnext_base_stage_3_block_0_  (None, 3, 3, 4096)  0           ['convnext_base_stage_3_block_0_p\n",
      " gelu (Activation)                                               ointwise_conv_1[0][0]']          \n",
      "                                                                                                  \n",
      " convnext_base_stage_3_block_0_  (None, 3, 3, 1024)  4195328     ['convnext_base_stage_3_block_0_g\n",
      " pointwise_conv_2 (Dense)                                        elu[0][0]']                      \n",
      "                                                                                                  \n",
      " convnext_base_stage_3_block_0_  (None, 3, 3, 1024)  1024        ['convnext_base_stage_3_block_0_p\n",
      " layer_scale (LayerScale)                                        ointwise_conv_2[0][0]']          \n",
      "                                                                                                  \n",
      " convnext_base_stage_3_block_0_  (None, 3, 3, 1024)  0           ['convnext_base_stage_3_block_0_l\n",
      " identity (Activation)                                           ayer_scale[0][0]']               \n",
      "                                                                                                  \n",
      " tf.__operators__.add_33 (TFOpL  (None, 3, 3, 1024)  0           ['convnext_base_downsampling_bloc\n",
      " ambda)                                                          k_2[0][0]',                      \n",
      "                                                                  'convnext_base_stage_3_block_0_i\n",
      "                                                                 dentity[0][0]']                  \n",
      "                                                                                                  \n",
      " convnext_base_stage_3_block_1_  (None, 3, 3, 1024)  51200       ['tf.__operators__.add_33[0][0]']\n",
      " depthwise_conv (Conv2D)                                                                          \n",
      "                                                                                                  \n",
      " convnext_base_stage_3_block_1_  (None, 3, 3, 1024)  2048        ['convnext_base_stage_3_block_1_d\n",
      " layernorm (LayerNormalization)                                  epthwise_conv[0][0]']            \n",
      "                                                                                                  \n",
      " convnext_base_stage_3_block_1_  (None, 3, 3, 4096)  4198400     ['convnext_base_stage_3_block_1_l\n",
      " pointwise_conv_1 (Dense)                                        ayernorm[0][0]']                 \n",
      "                                                                                                  \n",
      " convnext_base_stage_3_block_1_  (None, 3, 3, 4096)  0           ['convnext_base_stage_3_block_1_p\n",
      " gelu (Activation)                                               ointwise_conv_1[0][0]']          \n",
      "                                                                                                  \n",
      " convnext_base_stage_3_block_1_  (None, 3, 3, 1024)  4195328     ['convnext_base_stage_3_block_1_g\n",
      " pointwise_conv_2 (Dense)                                        elu[0][0]']                      \n",
      "                                                                                                  \n",
      " convnext_base_stage_3_block_1_  (None, 3, 3, 1024)  1024        ['convnext_base_stage_3_block_1_p\n",
      " layer_scale (LayerScale)                                        ointwise_conv_2[0][0]']          \n",
      "                                                                                                  \n",
      " convnext_base_stage_3_block_1_  (None, 3, 3, 1024)  0           ['convnext_base_stage_3_block_1_l\n",
      " identity (Activation)                                           ayer_scale[0][0]']               \n",
      "                                                                                                  \n",
      " tf.__operators__.add_34 (TFOpL  (None, 3, 3, 1024)  0           ['tf.__operators__.add_33[0][0]',\n",
      " ambda)                                                           'convnext_base_stage_3_block_1_i\n",
      "                                                                 dentity[0][0]']                  \n",
      "                                                                                                  \n",
      " convnext_base_stage_3_block_2_  (None, 3, 3, 1024)  51200       ['tf.__operators__.add_34[0][0]']\n",
      " depthwise_conv (Conv2D)                                                                          \n",
      "                                                                                                  \n",
      " convnext_base_stage_3_block_2_  (None, 3, 3, 1024)  2048        ['convnext_base_stage_3_block_2_d\n",
      " layernorm (LayerNormalization)                                  epthwise_conv[0][0]']            \n",
      "                                                                                                  \n",
      " convnext_base_stage_3_block_2_  (None, 3, 3, 4096)  4198400     ['convnext_base_stage_3_block_2_l\n",
      " pointwise_conv_1 (Dense)                                        ayernorm[0][0]']                 \n",
      "                                                                                                  \n",
      " convnext_base_stage_3_block_2_  (None, 3, 3, 4096)  0           ['convnext_base_stage_3_block_2_p\n",
      " gelu (Activation)                                               ointwise_conv_1[0][0]']          \n",
      "                                                                                                  \n",
      " convnext_base_stage_3_block_2_  (None, 3, 3, 1024)  4195328     ['convnext_base_stage_3_block_2_g\n",
      " pointwise_conv_2 (Dense)                                        elu[0][0]']                      \n",
      "                                                                                                  \n",
      " convnext_base_stage_3_block_2_  (None, 3, 3, 1024)  1024        ['convnext_base_stage_3_block_2_p\n",
      " layer_scale (LayerScale)                                        ointwise_conv_2[0][0]']          \n",
      "                                                                                                  \n",
      " convnext_base_stage_3_block_2_  (None, 3, 3, 1024)  0           ['convnext_base_stage_3_block_2_l\n",
      " identity (Activation)                                           ayer_scale[0][0]']               \n",
      "                                                                                                  \n",
      " tf.__operators__.add_35 (TFOpL  (None, 3, 3, 1024)  0           ['tf.__operators__.add_34[0][0]',\n",
      " ambda)                                                           'convnext_base_stage_3_block_2_i\n",
      "                                                                 dentity[0][0]']                  \n",
      "                                                                                                  \n",
      " layer_normalization (LayerNorm  (None, 3, 3, 1024)  2048        ['tf.__operators__.add_35[0][0]']\n",
      " alization)                                                                                       \n",
      "                                                                                                  \n",
      " GlobalAveragePooling (GlobalAv  (None, 1024)        0           ['layer_normalization[0][0]']    \n",
      " eragePooling2D)                                                                                  \n",
      "                                                                                                  \n",
      " Dropout1 (Dropout)             (None, 1024)         0           ['GlobalAveragePooling[0][0]']   \n",
      "                                                                                                  \n",
      " Dense (Dense)                  (None, 256)          262400      ['Dropout1[0][0]']               \n",
      "                                                                                                  \n",
      " Dropout2 (Dropout)             (None, 256)          0           ['Dense[0][0]']                  \n",
      "                                                                                                  \n",
      " Output (Dense)                 (None, 8)            2056        ['Dropout2[0][0]']               \n",
      "                                                                                                  \n",
      "==================================================================================================\n",
      "Total params: 87,830,920\n",
      "Trainable params: 264,456\n",
      "Non-trainable params: 87,566,464\n",
      "__________________________________________________________________________________________________\n"
     ]
    }
   ],
   "source": [
    "model = build_model()\n",
    "model.summary()"
   ]
  },
  {
   "cell_type": "code",
   "execution_count": 12,
   "id": "4d53a12c",
   "metadata": {
    "execution": {
     "iopub.execute_input": "2022-11-24T18:44:24.428300Z",
     "iopub.status.busy": "2022-11-24T18:44:24.427915Z",
     "iopub.status.idle": "2022-11-24T19:14:40.663027Z",
     "shell.execute_reply": "2022-11-24T19:14:40.661923Z"
    },
    "papermill": {
     "duration": 1816.31795,
     "end_time": "2022-11-24T19:14:40.665379",
     "exception": false,
     "start_time": "2022-11-24T18:44:24.347429",
     "status": "completed"
    },
    "tags": []
   },
   "outputs": [
    {
     "name": "stdout",
     "output_type": "stream",
     "text": [
      "Epoch 1/200\n"
     ]
    },
    {
     "name": "stderr",
     "output_type": "stream",
     "text": [
      "2022-11-24 18:44:45.330171: W tensorflow/compiler/xla/stream_executor/gpu/asm_compiler.cc:115] *** WARNING *** You are using ptxas 11.0.221, which is older than 11.1. ptxas before 11.1 is known to miscompile XLA code, leading to incorrect results or invalid-address errors.\n",
      "\n",
      "You may not need to update to CUDA 11.1; cherry-picking the ptxas binary is often sufficient.\n",
      "2022-11-24 18:44:46.875039: W tensorflow/compiler/xla/stream_executor/gpu/asm_compiler.cc:115] *** WARNING *** You are using ptxas 11.0.221, which is older than 11.1. ptxas before 11.1 is known to miscompile XLA code, leading to incorrect results or invalid-address errors.\n",
      "\n",
      "You may not need to update to CUDA 11.1; cherry-picking the ptxas binary is often sufficient.\n",
      "2022-11-24 18:44:46.942577: W tensorflow/compiler/xla/stream_executor/gpu/asm_compiler.cc:115] *** WARNING *** You are using ptxas 11.0.221, which is older than 11.1. ptxas before 11.1 is known to miscompile XLA code, leading to incorrect results or invalid-address errors.\n",
      "\n",
      "You may not need to update to CUDA 11.1; cherry-picking the ptxas binary is often sufficient.\n",
      "2022-11-24 18:44:47.182936: W tensorflow/compiler/xla/stream_executor/gpu/asm_compiler.cc:115] *** WARNING *** You are using ptxas 11.0.221, which is older than 11.1. ptxas before 11.1 is known to miscompile XLA code, leading to incorrect results or invalid-address errors.\n",
      "\n",
      "You may not need to update to CUDA 11.1; cherry-picking the ptxas binary is often sufficient.\n",
      "2022-11-24 18:44:47.532682: W tensorflow/compiler/xla/stream_executor/gpu/asm_compiler.cc:115] *** WARNING *** You are using ptxas 11.0.221, which is older than 11.1. ptxas before 11.1 is known to miscompile XLA code, leading to incorrect results or invalid-address errors.\n",
      "\n",
      "You may not need to update to CUDA 11.1; cherry-picking the ptxas binary is often sufficient.\n",
      "2022-11-24 18:44:47.865231: W tensorflow/compiler/xla/stream_executor/gpu/asm_compiler.cc:115] *** WARNING *** You are using ptxas 11.0.221, which is older than 11.1. ptxas before 11.1 is known to miscompile XLA code, leading to incorrect results or invalid-address errors.\n",
      "\n",
      "You may not need to update to CUDA 11.1; cherry-picking the ptxas binary is often sufficient.\n",
      "2022-11-24 18:44:49.352759: W tensorflow/compiler/xla/stream_executor/gpu/asm_compiler.cc:115] *** WARNING *** You are using ptxas 11.0.221, which is older than 11.1. ptxas before 11.1 is known to miscompile XLA code, leading to incorrect results or invalid-address errors.\n",
      "\n",
      "You may not need to update to CUDA 11.1; cherry-picking the ptxas binary is often sufficient.\n",
      "2022-11-24 18:44:49.568396: W tensorflow/compiler/xla/stream_executor/gpu/asm_compiler.cc:115] *** WARNING *** You are using ptxas 11.0.221, which is older than 11.1. ptxas before 11.1 is known to miscompile XLA code, leading to incorrect results or invalid-address errors.\n",
      "\n",
      "You may not need to update to CUDA 11.1; cherry-picking the ptxas binary is often sufficient.\n",
      "2022-11-24 18:44:49.721554: W tensorflow/compiler/xla/stream_executor/gpu/asm_compiler.cc:115] *** WARNING *** You are using ptxas 11.0.221, which is older than 11.1. ptxas before 11.1 is known to miscompile XLA code, leading to incorrect results or invalid-address errors.\n",
      "\n",
      "You may not need to update to CUDA 11.1; cherry-picking the ptxas binary is often sufficient.\n"
     ]
    },
    {
     "name": "stdout",
     "output_type": "stream",
     "text": [
      "  1/233 [..............................] - ETA: 1:38:20 - loss: 2.2608 - accuracy: 0.0625"
     ]
    },
    {
     "name": "stderr",
     "output_type": "stream",
     "text": [
      "2022-11-24 18:44:49.866539: W tensorflow/compiler/xla/stream_executor/gpu/asm_compiler.cc:115] *** WARNING *** You are using ptxas 11.0.221, which is older than 11.1. ptxas before 11.1 is known to miscompile XLA code, leading to incorrect results or invalid-address errors.\n",
      "\n",
      "You may not need to update to CUDA 11.1; cherry-picking the ptxas binary is often sufficient.\n"
     ]
    },
    {
     "name": "stdout",
     "output_type": "stream",
     "text": [
      "144/233 [=================>............] - ETA: 10s - loss: 2.1261 - accuracy: 0.1879"
     ]
    },
    {
     "name": "stderr",
     "output_type": "stream",
     "text": [
      "2022-11-24 18:45:07.091729: W tensorflow/compiler/xla/stream_executor/gpu/asm_compiler.cc:115] *** WARNING *** You are using ptxas 11.0.221, which is older than 11.1. ptxas before 11.1 is known to miscompile XLA code, leading to incorrect results or invalid-address errors.\n",
      "\n",
      "You may not need to update to CUDA 11.1; cherry-picking the ptxas binary is often sufficient.\n",
      "2022-11-24 18:45:07.375197: W tensorflow/compiler/xla/stream_executor/gpu/asm_compiler.cc:115] *** WARNING *** You are using ptxas 11.0.221, which is older than 11.1. ptxas before 11.1 is known to miscompile XLA code, leading to incorrect results or invalid-address errors.\n",
      "\n",
      "You may not need to update to CUDA 11.1; cherry-picking the ptxas binary is often sufficient.\n",
      "2022-11-24 18:45:07.665569: W tensorflow/compiler/xla/stream_executor/gpu/asm_compiler.cc:115] *** WARNING *** You are using ptxas 11.0.221, which is older than 11.1. ptxas before 11.1 is known to miscompile XLA code, leading to incorrect results or invalid-address errors.\n",
      "\n",
      "You may not need to update to CUDA 11.1; cherry-picking the ptxas binary is often sufficient.\n"
     ]
    },
    {
     "name": "stdout",
     "output_type": "stream",
     "text": [
      "145/233 [=================>............] - ETA: 11s - loss: 2.1257 - accuracy: 0.1880"
     ]
    },
    {
     "name": "stderr",
     "output_type": "stream",
     "text": [
      "2022-11-24 18:45:09.098153: W tensorflow/compiler/xla/stream_executor/gpu/asm_compiler.cc:115] *** WARNING *** You are using ptxas 11.0.221, which is older than 11.1. ptxas before 11.1 is known to miscompile XLA code, leading to incorrect results or invalid-address errors.\n",
      "\n",
      "You may not need to update to CUDA 11.1; cherry-picking the ptxas binary is often sufficient.\n"
     ]
    },
    {
     "name": "stdout",
     "output_type": "stream",
     "text": [
      "233/233 [==============================] - 66s 173ms/step - loss: 2.0129 - accuracy: 0.2380 - val_loss: 1.5519 - val_accuracy: 0.4929\n",
      "Epoch 2/200\n",
      "233/233 [==============================] - 31s 130ms/step - loss: 1.6307 - accuracy: 0.3939 - val_loss: 1.3090 - val_accuracy: 0.5983\n",
      "Epoch 3/200\n",
      "233/233 [==============================] - 30s 129ms/step - loss: 1.4844 - accuracy: 0.4615 - val_loss: 1.1643 - val_accuracy: 0.6182\n",
      "Epoch 4/200\n",
      "233/233 [==============================] - 31s 133ms/step - loss: 1.3701 - accuracy: 0.5031 - val_loss: 1.0896 - val_accuracy: 0.6296\n",
      "Epoch 5/200\n",
      "233/233 [==============================] - 31s 133ms/step - loss: 1.3046 - accuracy: 0.5390 - val_loss: 1.0072 - val_accuracy: 0.6496\n",
      "Epoch 6/200\n",
      "233/233 [==============================] - 31s 133ms/step - loss: 1.2361 - accuracy: 0.5474 - val_loss: 0.9528 - val_accuracy: 0.6610\n",
      "Epoch 7/200\n",
      "233/233 [==============================] - 31s 133ms/step - loss: 1.2076 - accuracy: 0.5777 - val_loss: 0.9248 - val_accuracy: 0.6752\n",
      "Epoch 8/200\n",
      "233/233 [==============================] - 31s 132ms/step - loss: 1.1862 - accuracy: 0.5712 - val_loss: 0.8952 - val_accuracy: 0.6866\n",
      "Epoch 9/200\n",
      "233/233 [==============================] - 30s 130ms/step - loss: 1.1474 - accuracy: 0.5852 - val_loss: 0.8780 - val_accuracy: 0.6838\n",
      "Epoch 10/200\n",
      "233/233 [==============================] - 31s 132ms/step - loss: 1.1265 - accuracy: 0.5975 - val_loss: 0.8441 - val_accuracy: 0.7009\n",
      "Epoch 11/200\n",
      "233/233 [==============================] - 31s 133ms/step - loss: 1.0959 - accuracy: 0.6115 - val_loss: 0.8218 - val_accuracy: 0.7151\n",
      "Epoch 12/200\n",
      "233/233 [==============================] - 30s 131ms/step - loss: 1.0855 - accuracy: 0.6155 - val_loss: 0.7956 - val_accuracy: 0.7094\n",
      "Epoch 13/200\n",
      "233/233 [==============================] - 30s 129ms/step - loss: 1.0535 - accuracy: 0.6295 - val_loss: 0.8014 - val_accuracy: 0.7123\n",
      "Epoch 14/200\n",
      "233/233 [==============================] - 31s 133ms/step - loss: 1.0403 - accuracy: 0.6295 - val_loss: 0.7722 - val_accuracy: 0.7350\n",
      "Epoch 15/200\n",
      "233/233 [==============================] - 31s 132ms/step - loss: 1.0336 - accuracy: 0.6329 - val_loss: 0.7697 - val_accuracy: 0.7407\n",
      "Epoch 16/200\n",
      "233/233 [==============================] - 31s 131ms/step - loss: 1.0239 - accuracy: 0.6284 - val_loss: 0.7444 - val_accuracy: 0.7407\n",
      "Epoch 17/200\n",
      "233/233 [==============================] - 31s 131ms/step - loss: 1.0127 - accuracy: 0.6370 - val_loss: 0.7411 - val_accuracy: 0.7407\n",
      "Epoch 18/200\n",
      "233/233 [==============================] - 31s 131ms/step - loss: 0.9908 - accuracy: 0.6509 - val_loss: 0.7316 - val_accuracy: 0.7521\n",
      "Epoch 19/200\n",
      "233/233 [==============================] - 31s 133ms/step - loss: 0.9870 - accuracy: 0.6474 - val_loss: 0.7161 - val_accuracy: 0.7550\n",
      "Epoch 20/200\n",
      "233/233 [==============================] - 31s 132ms/step - loss: 0.9758 - accuracy: 0.6560 - val_loss: 0.7095 - val_accuracy: 0.7635\n",
      "Epoch 21/200\n",
      "233/233 [==============================] - 31s 131ms/step - loss: 0.9759 - accuracy: 0.6469 - val_loss: 0.7034 - val_accuracy: 0.7749\n",
      "Epoch 22/200\n",
      "233/233 [==============================] - 31s 132ms/step - loss: 0.9557 - accuracy: 0.6533 - val_loss: 0.6922 - val_accuracy: 0.7749\n",
      "Epoch 23/200\n",
      "233/233 [==============================] - 30s 130ms/step - loss: 0.9728 - accuracy: 0.6611 - val_loss: 0.6915 - val_accuracy: 0.7806\n",
      "Epoch 24/200\n",
      "233/233 [==============================] - 31s 131ms/step - loss: 0.9656 - accuracy: 0.6496 - val_loss: 0.6874 - val_accuracy: 0.7835\n",
      "Epoch 25/200\n",
      "233/233 [==============================] - 30s 129ms/step - loss: 0.9464 - accuracy: 0.6504 - val_loss: 0.6802 - val_accuracy: 0.7778\n",
      "Epoch 26/200\n",
      "233/233 [==============================] - 31s 131ms/step - loss: 0.9371 - accuracy: 0.6676 - val_loss: 0.6923 - val_accuracy: 0.7778\n",
      "Epoch 27/200\n",
      "233/233 [==============================] - 30s 129ms/step - loss: 0.9407 - accuracy: 0.6697 - val_loss: 0.6766 - val_accuracy: 0.7778\n",
      "Epoch 28/200\n",
      "233/233 [==============================] - 30s 130ms/step - loss: 0.9230 - accuracy: 0.6700 - val_loss: 0.6819 - val_accuracy: 0.7607\n",
      "Epoch 29/200\n",
      "233/233 [==============================] - 31s 132ms/step - loss: 0.9087 - accuracy: 0.6802 - val_loss: 0.6694 - val_accuracy: 0.7835\n",
      "Epoch 30/200\n",
      "233/233 [==============================] - 30s 130ms/step - loss: 0.9014 - accuracy: 0.6710 - val_loss: 0.6632 - val_accuracy: 0.7749\n",
      "Epoch 31/200\n",
      "233/233 [==============================] - 30s 128ms/step - loss: 0.9002 - accuracy: 0.6794 - val_loss: 0.6634 - val_accuracy: 0.7835\n",
      "Epoch 32/200\n",
      "233/233 [==============================] - 31s 131ms/step - loss: 0.9115 - accuracy: 0.6842 - val_loss: 0.6470 - val_accuracy: 0.7892\n",
      "Epoch 33/200\n",
      "233/233 [==============================] - 30s 130ms/step - loss: 0.9149 - accuracy: 0.6719 - val_loss: 0.6469 - val_accuracy: 0.7920\n",
      "Epoch 34/200\n",
      "233/233 [==============================] - 30s 130ms/step - loss: 0.8870 - accuracy: 0.6807 - val_loss: 0.6497 - val_accuracy: 0.7892\n",
      "Epoch 35/200\n",
      "233/233 [==============================] - 31s 133ms/step - loss: 0.9078 - accuracy: 0.6764 - val_loss: 0.6475 - val_accuracy: 0.7863\n",
      "Epoch 36/200\n",
      "233/233 [==============================] - 31s 132ms/step - loss: 0.8878 - accuracy: 0.6818 - val_loss: 0.6429 - val_accuracy: 0.7892\n",
      "Epoch 37/200\n",
      "233/233 [==============================] - 31s 133ms/step - loss: 0.8921 - accuracy: 0.6893 - val_loss: 0.6418 - val_accuracy: 0.7892\n",
      "Epoch 38/200\n",
      "233/233 [==============================] - 31s 133ms/step - loss: 0.8831 - accuracy: 0.6778 - val_loss: 0.6399 - val_accuracy: 0.7806\n",
      "Epoch 39/200\n",
      "233/233 [==============================] - 31s 132ms/step - loss: 0.8614 - accuracy: 0.6904 - val_loss: 0.6326 - val_accuracy: 0.7892\n",
      "Epoch 40/200\n",
      "233/233 [==============================] - 31s 133ms/step - loss: 0.8657 - accuracy: 0.6965 - val_loss: 0.6309 - val_accuracy: 0.7949\n",
      "Epoch 41/200\n",
      "233/233 [==============================] - 31s 133ms/step - loss: 0.8774 - accuracy: 0.6850 - val_loss: 0.6258 - val_accuracy: 0.8006\n",
      "Epoch 42/200\n",
      "233/233 [==============================] - 31s 134ms/step - loss: 0.8513 - accuracy: 0.6957 - val_loss: 0.6273 - val_accuracy: 0.8091\n",
      "Epoch 43/200\n",
      "233/233 [==============================] - 31s 132ms/step - loss: 0.8828 - accuracy: 0.6735 - val_loss: 0.6228 - val_accuracy: 0.8006\n",
      "Epoch 44/200\n",
      "233/233 [==============================] - 30s 130ms/step - loss: 0.8708 - accuracy: 0.6829 - val_loss: 0.6241 - val_accuracy: 0.8063\n",
      "Epoch 45/200\n",
      "233/233 [==============================] - 31s 132ms/step - loss: 0.8514 - accuracy: 0.7008 - val_loss: 0.6279 - val_accuracy: 0.7949\n",
      "Epoch 46/200\n",
      "233/233 [==============================] - 30s 128ms/step - loss: 0.8585 - accuracy: 0.6920 - val_loss: 0.6180 - val_accuracy: 0.8006\n",
      "Epoch 47/200\n",
      "233/233 [==============================] - 31s 131ms/step - loss: 0.8577 - accuracy: 0.6896 - val_loss: 0.6160 - val_accuracy: 0.7892\n",
      "Epoch 48/200\n",
      "233/233 [==============================] - 31s 131ms/step - loss: 0.8507 - accuracy: 0.6880 - val_loss: 0.6171 - val_accuracy: 0.8063\n",
      "Epoch 49/200\n",
      "233/233 [==============================] - 31s 132ms/step - loss: 0.8342 - accuracy: 0.7086 - val_loss: 0.6158 - val_accuracy: 0.7721\n",
      "Epoch 50/200\n",
      "233/233 [==============================] - 31s 131ms/step - loss: 0.8529 - accuracy: 0.6992 - val_loss: 0.6115 - val_accuracy: 0.7806\n",
      "Epoch 51/200\n",
      "233/233 [==============================] - 31s 132ms/step - loss: 0.8425 - accuracy: 0.7062 - val_loss: 0.6066 - val_accuracy: 0.7835\n",
      "Epoch 52/200\n",
      "233/233 [==============================] - 31s 132ms/step - loss: 0.8458 - accuracy: 0.7008 - val_loss: 0.6085 - val_accuracy: 0.7835\n",
      "Epoch 53/200\n",
      "233/233 [==============================] - 31s 134ms/step - loss: 0.8358 - accuracy: 0.7100 - val_loss: 0.6006 - val_accuracy: 0.7835\n",
      "Epoch 54/200\n",
      "233/233 [==============================] - 31s 132ms/step - loss: 0.8342 - accuracy: 0.6976 - val_loss: 0.6023 - val_accuracy: 0.7949\n",
      "Epoch 55/200\n",
      "233/233 [==============================] - 31s 131ms/step - loss: 0.8409 - accuracy: 0.7062 - val_loss: 0.5979 - val_accuracy: 0.7949\n",
      "Epoch 56/200\n",
      "233/233 [==============================] - 31s 131ms/step - loss: 0.8489 - accuracy: 0.6920 - val_loss: 0.5961 - val_accuracy: 0.7749\n",
      "Epoch 57/200\n",
      "233/233 [==============================] - 31s 132ms/step - loss: 0.8325 - accuracy: 0.6984 - val_loss: 0.6068 - val_accuracy: 0.7863\n"
     ]
    }
   ],
   "source": [
    "# Train the model\n",
    "history = model.fit(\n",
    "    x = train_gen,\n",
    "    batch_size = batch_size,\n",
    "    epochs = epochs,\n",
    "    validation_data = valid_gen,\n",
    "    callbacks = [tf.keras.callbacks.EarlyStopping(monitor='val_accuracy', patience=15, restore_best_weights=True)],\n",
    ").history"
   ]
  },
  {
   "cell_type": "code",
   "execution_count": 13,
   "id": "629bc5b7",
   "metadata": {
    "execution": {
     "iopub.execute_input": "2022-11-24T19:14:42.377437Z",
     "iopub.status.busy": "2022-11-24T19:14:42.376147Z",
     "iopub.status.idle": "2022-11-24T19:14:42.651732Z",
     "shell.execute_reply": "2022-11-24T19:14:42.650785Z"
    },
    "papermill": {
     "duration": 1.140185,
     "end_time": "2022-11-24T19:14:42.654018",
     "exception": false,
     "start_time": "2022-11-24T19:14:41.513833",
     "status": "completed"
    },
    "tags": []
   },
   "outputs": [
    {
     "data": {
      "image/png": "[encoded data removed]",
      "text/plain": [
       "<Figure size 1080x360 with 1 Axes>"
      ]
     },
     "metadata": {
      "needs_background": "light"
     },
     "output_type": "display_data"
    }
   ],
   "source": [
    "plt.figure(figsize=(15,5))\n",
    "plt.plot(history['accuracy'], label='Training', alpha=.8)\n",
    "plt.plot(history['val_accuracy'], label='Validation', alpha=.8)\n",
    "plt.title('Accuracy')\n",
    "plt.legend(loc='upper right')\n",
    "plt.grid(alpha=.3)\n",
    "plt.show()"
   ]
  },
  {
   "cell_type": "code",
   "execution_count": 14,
   "id": "758d334d",
   "metadata": {
    "execution": {
     "iopub.execute_input": "2022-11-24T19:14:44.335939Z",
     "iopub.status.busy": "2022-11-24T19:14:44.335552Z",
     "iopub.status.idle": "2022-11-24T19:14:44.568898Z",
     "shell.execute_reply": "2022-11-24T19:14:44.567964Z"
    },
    "papermill": {
     "duration": 1.124621,
     "end_time": "2022-11-24T19:14:44.571406",
     "exception": false,
     "start_time": "2022-11-24T19:14:43.446785",
     "status": "completed"
    },
    "tags": []
   },
   "outputs": [
    {
     "data": {
      "image/png": "[encoded data removed]",
      "text/plain": [
       "<Figure size 1080x360 with 1 Axes>"
      ]
     },
     "metadata": {
      "needs_background": "light"
     },
     "output_type": "display_data"
    }
   ],
   "source": [
    "plt.figure(figsize=(15,5))\n",
    "plt.plot(history['loss'], label='Training', alpha=.8)\n",
    "plt.plot(history['val_loss'], label='Validation', alpha=.8)\n",
    "plt.title('Loss')\n",
    "plt.legend(loc='upper right')\n",
    "plt.grid(alpha=.3)\n",
    "plt.show()"
   ]
  },
  {
   "cell_type": "markdown",
   "id": "f2d773ec",
   "metadata": {
    "papermill": {
     "duration": 0.861193,
     "end_time": "2022-11-24T19:14:46.527851",
     "exception": false,
     "start_time": "2022-11-24T19:14:45.666658",
     "status": "completed"
    },
    "tags": []
   },
   "source": [
    "### Save the model"
   ]
  },
  {
   "cell_type": "code",
   "execution_count": 15,
   "id": "8c155624",
   "metadata": {
    "execution": {
     "iopub.execute_input": "2022-11-24T19:14:48.169562Z",
     "iopub.status.busy": "2022-11-24T19:14:48.169182Z",
     "iopub.status.idle": "2022-11-24T19:15:22.692523Z",
     "shell.execute_reply": "2022-11-24T19:15:22.691442Z"
    },
    "papermill": {
     "duration": 35.330043,
     "end_time": "2022-11-24T19:15:22.695683",
     "exception": false,
     "start_time": "2022-11-24T19:14:47.365640",
     "status": "completed"
    },
    "tags": []
   },
   "outputs": [],
   "source": [
    "# Save the best model\n",
    "model.save('ConvNextBase_tl')\n",
    "del model"
   ]
  },
  {
   "cell_type": "markdown",
   "id": "16d2ef72",
   "metadata": {
    "papermill": {
     "duration": 0.833268,
     "end_time": "2022-11-24T19:15:24.861737",
     "exception": false,
     "start_time": "2022-11-24T19:15:24.028469",
     "status": "completed"
    },
    "tags": []
   },
   "source": [
    "# Fine Tuning"
   ]
  },
  {
   "cell_type": "code",
   "execution_count": 16,
   "id": "ba0474f1",
   "metadata": {
    "execution": {
     "iopub.execute_input": "2022-11-24T19:15:26.623833Z",
     "iopub.status.busy": "2022-11-24T19:15:26.622940Z",
     "iopub.status.idle": "2022-11-24T19:15:41.703303Z",
     "shell.execute_reply": "2022-11-24T19:15:41.702237Z"
    },
    "papermill": {
     "duration": 15.95447,
     "end_time": "2022-11-24T19:15:41.706273",
     "exception": false,
     "start_time": "2022-11-24T19:15:25.751803",
     "status": "completed"
    },
    "tags": []
   },
   "outputs": [],
   "source": [
    "# Re-load the model after transfer learning\n",
    "model = tfk.models.load_model('ConvNextBase_tl')\n",
    "#model.summary()"
   ]
  },
  {
   "cell_type": "code",
   "execution_count": 17,
   "id": "0c54c86c",
   "metadata": {
    "execution": {
     "iopub.execute_input": "2022-11-24T19:15:43.371816Z",
     "iopub.status.busy": "2022-11-24T19:15:43.371416Z",
     "iopub.status.idle": "2022-11-24T19:15:43.403690Z",
     "shell.execute_reply": "2022-11-24T19:15:43.402741Z"
    },
    "papermill": {
     "duration": 0.901436,
     "end_time": "2022-11-24T19:15:43.405851",
     "exception": false,
     "start_time": "2022-11-24T19:15:42.504415",
     "status": "completed"
    },
    "tags": []
   },
   "outputs": [],
   "source": [
    "# Set all layers to True\n",
    "for layer in model.layers:\n",
    "    layer.trainable = True"
   ]
  },
  {
   "cell_type": "code",
   "execution_count": 18,
   "id": "5093967b",
   "metadata": {
    "execution": {
     "iopub.execute_input": "2022-11-24T19:15:45.060167Z",
     "iopub.status.busy": "2022-11-24T19:15:45.059795Z",
     "iopub.status.idle": "2022-11-24T19:15:45.086581Z",
     "shell.execute_reply": "2022-11-24T19:15:45.085692Z"
    },
    "papermill": {
     "duration": 0.837526,
     "end_time": "2022-11-24T19:15:45.088640",
     "exception": false,
     "start_time": "2022-11-24T19:15:44.251114",
     "status": "completed"
    },
    "tags": []
   },
   "outputs": [],
   "source": [
    "model.compile(loss=tfk.losses.CategoricalCrossentropy(), \n",
    "              optimizer=tfk.optimizers.Adam(learning_rate=1e-5),\n",
    "              metrics='accuracy')"
   ]
  },
  {
   "cell_type": "code",
   "execution_count": 19,
   "id": "1d9b1b9d",
   "metadata": {
    "execution": {
     "iopub.execute_input": "2022-11-24T19:15:46.781619Z",
     "iopub.status.busy": "2022-11-24T19:15:46.781245Z",
     "iopub.status.idle": "2022-11-24T20:05:26.718318Z",
     "shell.execute_reply": "2022-11-24T20:05:26.717329Z"
    },
    "papermill": {
     "duration": 2980.770426,
     "end_time": "2022-11-24T20:05:26.720588",
     "exception": false,
     "start_time": "2022-11-24T19:15:45.950162",
     "status": "completed"
    },
    "tags": []
   },
   "outputs": [
    {
     "name": "stdout",
     "output_type": "stream",
     "text": [
      "Epoch 1/200\n"
     ]
    },
    {
     "name": "stderr",
     "output_type": "stream",
     "text": [
      "2022-11-24 19:16:30.367438: W tensorflow/compiler/xla/stream_executor/gpu/asm_compiler.cc:115] *** WARNING *** You are using ptxas 11.0.221, which is older than 11.1. ptxas before 11.1 is known to miscompile XLA code, leading to incorrect results or invalid-address errors.\n",
      "\n",
      "You may not need to update to CUDA 11.1; cherry-picking the ptxas binary is often sufficient.\n",
      "2022-11-24 19:16:30.867870: W tensorflow/compiler/xla/stream_executor/gpu/asm_compiler.cc:115] *** WARNING *** You are using ptxas 11.0.221, which is older than 11.1. ptxas before 11.1 is known to miscompile XLA code, leading to incorrect results or invalid-address errors.\n",
      "\n",
      "You may not need to update to CUDA 11.1; cherry-picking the ptxas binary is often sufficient.\n",
      "2022-11-24 19:16:31.868777: W tensorflow/compiler/xla/stream_executor/gpu/asm_compiler.cc:115] *** WARNING *** You are using ptxas 11.0.221, which is older than 11.1. ptxas before 11.1 is known to miscompile XLA code, leading to incorrect results or invalid-address errors.\n",
      "\n",
      "You may not need to update to CUDA 11.1; cherry-picking the ptxas binary is often sufficient.\n",
      "2022-11-24 19:16:34.689964: W tensorflow/compiler/xla/stream_executor/gpu/asm_compiler.cc:115] *** WARNING *** You are using ptxas 11.0.221, which is older than 11.1. ptxas before 11.1 is known to miscompile XLA code, leading to incorrect results or invalid-address errors.\n",
      "\n",
      "You may not need to update to CUDA 11.1; cherry-picking the ptxas binary is often sufficient.\n",
      "2022-11-24 19:16:34.912164: W tensorflow/compiler/xla/stream_executor/gpu/asm_compiler.cc:115] *** WARNING *** You are using ptxas 11.0.221, which is older than 11.1. ptxas before 11.1 is known to miscompile XLA code, leading to incorrect results or invalid-address errors.\n",
      "\n",
      "You may not need to update to CUDA 11.1; cherry-picking the ptxas binary is often sufficient.\n",
      "2022-11-24 19:16:35.573043: W tensorflow/compiler/xla/stream_executor/gpu/asm_compiler.cc:115] *** WARNING *** You are using ptxas 11.0.221, which is older than 11.1. ptxas before 11.1 is known to miscompile XLA code, leading to incorrect results or invalid-address errors.\n",
      "\n",
      "You may not need to update to CUDA 11.1; cherry-picking the ptxas binary is often sufficient.\n",
      "2022-11-24 19:16:36.336274: W tensorflow/compiler/xla/stream_executor/gpu/asm_compiler.cc:115] *** WARNING *** You are using ptxas 11.0.221, which is older than 11.1. ptxas before 11.1 is known to miscompile XLA code, leading to incorrect results or invalid-address errors.\n",
      "\n",
      "You may not need to update to CUDA 11.1; cherry-picking the ptxas binary is often sufficient.\n",
      "2022-11-24 19:16:36.583889: W tensorflow/compiler/xla/stream_executor/gpu/asm_compiler.cc:115] *** WARNING *** You are using ptxas 11.0.221, which is older than 11.1. ptxas before 11.1 is known to miscompile XLA code, leading to incorrect results or invalid-address errors.\n",
      "\n",
      "You may not need to update to CUDA 11.1; cherry-picking the ptxas binary is often sufficient.\n",
      "2022-11-24 19:16:57.256676: W tensorflow/compiler/xla/stream_executor/gpu/asm_compiler.cc:115] *** WARNING *** You are using ptxas 11.0.221, which is older than 11.1. ptxas before 11.1 is known to miscompile XLA code, leading to incorrect results or invalid-address errors.\n",
      "\n",
      "You may not need to update to CUDA 11.1; cherry-picking the ptxas binary is often sufficient.\n",
      "2022-11-24 19:16:58.927543: W tensorflow/compiler/xla/stream_executor/gpu/asm_compiler.cc:115] *** WARNING *** You are using ptxas 11.0.221, which is older than 11.1. ptxas before 11.1 is known to miscompile XLA code, leading to incorrect results or invalid-address errors.\n",
      "\n",
      "You may not need to update to CUDA 11.1; cherry-picking the ptxas binary is often sufficient.\n",
      "2022-11-24 19:16:59.157724: W tensorflow/compiler/xla/stream_executor/gpu/asm_compiler.cc:115] *** WARNING *** You are using ptxas 11.0.221, which is older than 11.1. ptxas before 11.1 is known to miscompile XLA code, leading to incorrect results or invalid-address errors.\n",
      "\n",
      "You may not need to update to CUDA 11.1; cherry-picking the ptxas binary is often sufficient.\n",
      "2022-11-24 19:17:00.878133: W tensorflow/compiler/xla/stream_executor/gpu/asm_compiler.cc:115] *** WARNING *** You are using ptxas 11.0.221, which is older than 11.1. ptxas before 11.1 is known to miscompile XLA code, leading to incorrect results or invalid-address errors.\n",
      "\n",
      "You may not need to update to CUDA 11.1; cherry-picking the ptxas binary is often sufficient.\n",
      "2022-11-24 19:17:01.755976: W tensorflow/compiler/xla/stream_executor/gpu/asm_compiler.cc:115] *** WARNING *** You are using ptxas 11.0.221, which is older than 11.1. ptxas before 11.1 is known to miscompile XLA code, leading to incorrect results or invalid-address errors.\n",
      "\n",
      "You may not need to update to CUDA 11.1; cherry-picking the ptxas binary is often sufficient.\n",
      "2022-11-24 19:17:01.995474: W tensorflow/compiler/xla/stream_executor/gpu/asm_compiler.cc:115] *** WARNING *** You are using ptxas 11.0.221, which is older than 11.1. ptxas before 11.1 is known to miscompile XLA code, leading to incorrect results or invalid-address errors.\n",
      "\n",
      "You may not need to update to CUDA 11.1; cherry-picking the ptxas binary is often sufficient.\n"
     ]
    },
    {
     "name": "stdout",
     "output_type": "stream",
     "text": [
      " 81/233 [=========>....................] - ETA: 36s - loss: 0.8349 - accuracy: 0.6975"
     ]
    },
    {
     "name": "stderr",
     "output_type": "stream",
     "text": [
      "2022-11-24 19:17:25.473478: W tensorflow/compiler/xla/stream_executor/gpu/asm_compiler.cc:115] *** WARNING *** You are using ptxas 11.0.221, which is older than 11.1. ptxas before 11.1 is known to miscompile XLA code, leading to incorrect results or invalid-address errors.\n",
      "\n",
      "You may not need to update to CUDA 11.1; cherry-picking the ptxas binary is often sufficient.\n",
      "2022-11-24 19:17:26.088014: W tensorflow/compiler/xla/stream_executor/gpu/asm_compiler.cc:115] *** WARNING *** You are using ptxas 11.0.221, which is older than 11.1. ptxas before 11.1 is known to miscompile XLA code, leading to incorrect results or invalid-address errors.\n",
      "\n",
      "You may not need to update to CUDA 11.1; cherry-picking the ptxas binary is often sufficient.\n",
      "2022-11-24 19:17:29.052297: W tensorflow/compiler/xla/stream_executor/gpu/asm_compiler.cc:115] *** WARNING *** You are using ptxas 11.0.221, which is older than 11.1. ptxas before 11.1 is known to miscompile XLA code, leading to incorrect results or invalid-address errors.\n",
      "\n",
      "You may not need to update to CUDA 11.1; cherry-picking the ptxas binary is often sufficient.\n",
      "2022-11-24 19:17:29.692906: W tensorflow/compiler/xla/stream_executor/gpu/asm_compiler.cc:115] *** WARNING *** You are using ptxas 11.0.221, which is older than 11.1. ptxas before 11.1 is known to miscompile XLA code, leading to incorrect results or invalid-address errors.\n",
      "\n",
      "You may not need to update to CUDA 11.1; cherry-picking the ptxas binary is often sufficient.\n"
     ]
    },
    {
     "name": "stdout",
     "output_type": "stream",
     "text": [
      "233/233 [==============================] - 151s 317ms/step - loss: 0.7606 - accuracy: 0.7312 - val_loss: 0.5198 - val_accuracy: 0.8177\n",
      "Epoch 2/200\n",
      "233/233 [==============================] - 59s 254ms/step - loss: 0.6517 - accuracy: 0.7752 - val_loss: 0.4831 - val_accuracy: 0.8205\n",
      "Epoch 3/200\n",
      "233/233 [==============================] - 60s 256ms/step - loss: 0.5861 - accuracy: 0.7937 - val_loss: 0.4707 - val_accuracy: 0.8319\n",
      "Epoch 4/200\n",
      "233/233 [==============================] - 60s 255ms/step - loss: 0.5346 - accuracy: 0.8090 - val_loss: 0.4504 - val_accuracy: 0.8405\n",
      "Epoch 5/200\n",
      "233/233 [==============================] - 60s 259ms/step - loss: 0.4775 - accuracy: 0.8377 - val_loss: 0.4365 - val_accuracy: 0.8490\n",
      "Epoch 6/200\n",
      "233/233 [==============================] - 60s 255ms/step - loss: 0.4489 - accuracy: 0.8492 - val_loss: 0.4233 - val_accuracy: 0.8718\n",
      "Epoch 7/200\n",
      "233/233 [==============================] - 59s 254ms/step - loss: 0.4375 - accuracy: 0.8492 - val_loss: 0.4326 - val_accuracy: 0.8462\n",
      "Epoch 8/200\n",
      "233/233 [==============================] - 60s 256ms/step - loss: 0.4164 - accuracy: 0.8532 - val_loss: 0.3734 - val_accuracy: 0.8746\n",
      "Epoch 9/200\n",
      "233/233 [==============================] - 60s 256ms/step - loss: 0.3636 - accuracy: 0.8782 - val_loss: 0.3877 - val_accuracy: 0.8803\n",
      "Epoch 10/200\n",
      "233/233 [==============================] - 59s 253ms/step - loss: 0.3348 - accuracy: 0.8948 - val_loss: 0.3720 - val_accuracy: 0.8746\n",
      "Epoch 11/200\n",
      "233/233 [==============================] - 59s 254ms/step - loss: 0.3300 - accuracy: 0.8959 - val_loss: 0.3527 - val_accuracy: 0.8803\n",
      "Epoch 12/200\n",
      "233/233 [==============================] - 59s 252ms/step - loss: 0.2957 - accuracy: 0.9056 - val_loss: 0.3416 - val_accuracy: 0.8917\n",
      "Epoch 13/200\n",
      "233/233 [==============================] - 60s 257ms/step - loss: 0.2935 - accuracy: 0.9047 - val_loss: 0.3365 - val_accuracy: 0.8974\n",
      "Epoch 14/200\n",
      "233/233 [==============================] - 59s 254ms/step - loss: 0.2874 - accuracy: 0.9058 - val_loss: 0.3504 - val_accuracy: 0.8974\n",
      "Epoch 15/200\n",
      "233/233 [==============================] - 59s 254ms/step - loss: 0.2686 - accuracy: 0.9133 - val_loss: 0.3279 - val_accuracy: 0.9060\n",
      "Epoch 16/200\n",
      "233/233 [==============================] - 59s 254ms/step - loss: 0.2646 - accuracy: 0.9098 - val_loss: 0.3576 - val_accuracy: 0.8917\n",
      "Epoch 17/200\n",
      "233/233 [==============================] - 59s 253ms/step - loss: 0.2207 - accuracy: 0.9308 - val_loss: 0.3432 - val_accuracy: 0.9088\n",
      "Epoch 18/200\n",
      "233/233 [==============================] - 60s 257ms/step - loss: 0.2192 - accuracy: 0.9300 - val_loss: 0.3087 - val_accuracy: 0.9174\n",
      "Epoch 19/200\n",
      "233/233 [==============================] - 59s 254ms/step - loss: 0.2153 - accuracy: 0.9302 - val_loss: 0.3318 - val_accuracy: 0.9174\n",
      "Epoch 20/200\n",
      "233/233 [==============================] - 60s 257ms/step - loss: 0.2017 - accuracy: 0.9351 - val_loss: 0.3218 - val_accuracy: 0.9031\n",
      "Epoch 21/200\n",
      "233/233 [==============================] - 60s 257ms/step - loss: 0.1832 - accuracy: 0.9383 - val_loss: 0.2903 - val_accuracy: 0.9259\n",
      "Epoch 22/200\n",
      "233/233 [==============================] - 58s 250ms/step - loss: 0.1772 - accuracy: 0.9493 - val_loss: 0.3052 - val_accuracy: 0.9202\n",
      "Epoch 23/200\n",
      "233/233 [==============================] - 58s 250ms/step - loss: 0.1732 - accuracy: 0.9453 - val_loss: 0.2965 - val_accuracy: 0.9231\n",
      "Epoch 24/200\n",
      "233/233 [==============================] - 59s 253ms/step - loss: 0.1750 - accuracy: 0.9463 - val_loss: 0.2999 - val_accuracy: 0.9288\n",
      "Epoch 25/200\n",
      "233/233 [==============================] - 59s 252ms/step - loss: 0.1620 - accuracy: 0.9506 - val_loss: 0.3183 - val_accuracy: 0.9174\n",
      "Epoch 26/200\n",
      "233/233 [==============================] - 59s 254ms/step - loss: 0.1623 - accuracy: 0.9522 - val_loss: 0.2985 - val_accuracy: 0.9174\n",
      "Epoch 27/200\n",
      "233/233 [==============================] - 58s 250ms/step - loss: 0.1501 - accuracy: 0.9589 - val_loss: 0.2961 - val_accuracy: 0.9202\n",
      "Epoch 28/200\n",
      "233/233 [==============================] - 59s 251ms/step - loss: 0.1437 - accuracy: 0.9571 - val_loss: 0.2826 - val_accuracy: 0.9316\n",
      "Epoch 29/200\n",
      "233/233 [==============================] - 59s 253ms/step - loss: 0.1266 - accuracy: 0.9646 - val_loss: 0.2822 - val_accuracy: 0.9288\n",
      "Epoch 30/200\n",
      "233/233 [==============================] - 58s 250ms/step - loss: 0.1326 - accuracy: 0.9638 - val_loss: 0.3135 - val_accuracy: 0.9174\n",
      "Epoch 31/200\n",
      "233/233 [==============================] - 59s 253ms/step - loss: 0.1306 - accuracy: 0.9646 - val_loss: 0.3013 - val_accuracy: 0.9174\n",
      "Epoch 32/200\n",
      "233/233 [==============================] - 59s 251ms/step - loss: 0.1252 - accuracy: 0.9611 - val_loss: 0.2504 - val_accuracy: 0.9430\n",
      "Epoch 33/200\n",
      "233/233 [==============================] - 58s 250ms/step - loss: 0.1172 - accuracy: 0.9694 - val_loss: 0.2671 - val_accuracy: 0.9402\n",
      "Epoch 34/200\n",
      "233/233 [==============================] - 59s 252ms/step - loss: 0.1210 - accuracy: 0.9654 - val_loss: 0.2731 - val_accuracy: 0.9288\n",
      "Epoch 35/200\n",
      "233/233 [==============================] - 59s 251ms/step - loss: 0.1160 - accuracy: 0.9643 - val_loss: 0.2782 - val_accuracy: 0.9345\n",
      "Epoch 36/200\n",
      "233/233 [==============================] - 58s 249ms/step - loss: 0.1188 - accuracy: 0.9643 - val_loss: 0.2905 - val_accuracy: 0.9345\n",
      "Epoch 37/200\n",
      "233/233 [==============================] - 58s 250ms/step - loss: 0.1144 - accuracy: 0.9665 - val_loss: 0.2990 - val_accuracy: 0.9345\n",
      "Epoch 38/200\n",
      "233/233 [==============================] - 58s 251ms/step - loss: 0.1035 - accuracy: 0.9726 - val_loss: 0.2856 - val_accuracy: 0.9373\n",
      "Epoch 39/200\n",
      "233/233 [==============================] - 58s 250ms/step - loss: 0.1044 - accuracy: 0.9721 - val_loss: 0.2936 - val_accuracy: 0.9259\n",
      "Epoch 40/200\n",
      "233/233 [==============================] - 59s 251ms/step - loss: 0.1006 - accuracy: 0.9699 - val_loss: 0.2938 - val_accuracy: 0.9288\n",
      "Epoch 41/200\n",
      "233/233 [==============================] - 59s 252ms/step - loss: 0.0968 - accuracy: 0.9764 - val_loss: 0.2857 - val_accuracy: 0.9316\n",
      "Epoch 42/200\n",
      "233/233 [==============================] - 58s 251ms/step - loss: 0.0966 - accuracy: 0.9713 - val_loss: 0.2689 - val_accuracy: 0.9174\n",
      "Epoch 43/200\n",
      "233/233 [==============================] - 59s 252ms/step - loss: 0.0844 - accuracy: 0.9748 - val_loss: 0.2665 - val_accuracy: 0.9202\n",
      "Epoch 44/200\n",
      "233/233 [==============================] - 58s 250ms/step - loss: 0.0832 - accuracy: 0.9785 - val_loss: 0.2759 - val_accuracy: 0.9316\n",
      "Epoch 45/200\n",
      "233/233 [==============================] - 59s 252ms/step - loss: 0.0833 - accuracy: 0.9791 - val_loss: 0.2731 - val_accuracy: 0.9288\n",
      "Epoch 46/200\n",
      "233/233 [==============================] - 59s 252ms/step - loss: 0.0816 - accuracy: 0.9780 - val_loss: 0.3318 - val_accuracy: 0.9202\n",
      "Epoch 47/200\n",
      "233/233 [==============================] - 59s 252ms/step - loss: 0.0824 - accuracy: 0.9785 - val_loss: 0.3110 - val_accuracy: 0.9316\n"
     ]
    }
   ],
   "source": [
    "# Fine-tune the model\n",
    "history = model.fit(\n",
    "    x = train_gen,\n",
    "    epochs = epochs,\n",
    "    validation_data = valid_gen,\n",
    "    callbacks = [tf.keras.callbacks.EarlyStopping(monitor='val_accuracy', patience=15, restore_best_weights=True)]\n",
    ").history"
   ]
  },
  {
   "cell_type": "markdown",
   "id": "e951ce7a",
   "metadata": {
    "papermill": {
     "duration": 2.023947,
     "end_time": "2022-11-24T20:05:30.153107",
     "exception": false,
     "start_time": "2022-11-24T20:05:28.129160",
     "status": "completed"
    },
    "tags": []
   },
   "source": [
    "### Plot Results"
   ]
  },
  {
   "cell_type": "code",
   "execution_count": 20,
   "id": "51d6588d",
   "metadata": {
    "execution": {
     "iopub.execute_input": "2022-11-24T20:05:33.254761Z",
     "iopub.status.busy": "2022-11-24T20:05:33.254389Z",
     "iopub.status.idle": "2022-11-24T20:05:33.259710Z",
     "shell.execute_reply": "2022-11-24T20:05:33.258715Z"
    },
    "papermill": {
     "duration": 1.647496,
     "end_time": "2022-11-24T20:05:33.262855",
     "exception": false,
     "start_time": "2022-11-24T20:05:31.615359",
     "status": "completed"
    },
    "tags": []
   },
   "outputs": [
    {
     "name": "stdout",
     "output_type": "stream",
     "text": [
      "Max Training accuracy: 0.9790716171264648\n",
      "Max Validation accuracy: 0.9430199265480042\n"
     ]
    }
   ],
   "source": [
    "print(f\"Max Training accuracy: {max(history['accuracy'])}\")\n",
    "print(f\"Max Validation accuracy: {max(history['val_accuracy'])}\")"
   ]
  },
  {
   "cell_type": "code",
   "execution_count": 21,
   "id": "9d1b0432",
   "metadata": {
    "execution": {
     "iopub.execute_input": "2022-11-24T20:05:36.101721Z",
     "iopub.status.busy": "2022-11-24T20:05:36.101142Z",
     "iopub.status.idle": "2022-11-24T20:05:36.313099Z",
     "shell.execute_reply": "2022-11-24T20:05:36.312219Z"
    },
    "papermill": {
     "duration": 1.638945,
     "end_time": "2022-11-24T20:05:36.315265",
     "exception": false,
     "start_time": "2022-11-24T20:05:34.676320",
     "status": "completed"
    },
    "tags": []
   },
   "outputs": [
    {
     "data": {
      "image/png": "[encoded data removed]",
      "text/plain": [
       "<Figure size 1080x360 with 1 Axes>"
      ]
     },
     "metadata": {
      "needs_background": "light"
     },
     "output_type": "display_data"
    }
   ],
   "source": [
    "plt.figure(figsize=(15,5))\n",
    "plt.plot(history['accuracy'], label='Training', alpha=.8)\n",
    "plt.plot(history['val_accuracy'], label='Validation', alpha=.8)\n",
    "plt.title('Accuracy')\n",
    "plt.legend(loc='upper right')\n",
    "plt.grid(alpha=.3)\n",
    "plt.show()"
   ]
  },
  {
   "cell_type": "code",
   "execution_count": 22,
   "id": "97d3062b",
   "metadata": {
    "execution": {
     "iopub.execute_input": "2022-11-24T20:05:39.161377Z",
     "iopub.status.busy": "2022-11-24T20:05:39.160721Z",
     "iopub.status.idle": "2022-11-24T20:05:39.379591Z",
     "shell.execute_reply": "2022-11-24T20:05:39.378701Z"
    },
    "papermill": {
     "duration": 1.650946,
     "end_time": "2022-11-24T20:05:39.381657",
     "exception": false,
     "start_time": "2022-11-24T20:05:37.730711",
     "status": "completed"
    },
    "tags": []
   },
   "outputs": [
    {
     "data": {
      "image/png": "[encoded data removed]",
      "text/plain": [
       "<Figure size 1080x360 with 1 Axes>"
      ]
     },
     "metadata": {
      "needs_background": "light"
     },
     "output_type": "display_data"
    }
   ],
   "source": [
    "plt.figure(figsize=(15,5))\n",
    "plt.plot(history['loss'], label='Training', alpha=.8)\n",
    "plt.plot(history['val_loss'], label='Validation', alpha=.8)\n",
    "plt.title('Loss')\n",
    "plt.legend(loc='upper right')\n",
    "plt.grid(alpha=.3)\n",
    "plt.show()"
   ]
  },
  {
   "cell_type": "markdown",
   "id": "7668080c",
   "metadata": {
    "papermill": {
     "duration": 1.376524,
     "end_time": "2022-11-24T20:05:42.175963",
     "exception": false,
     "start_time": "2022-11-24T20:05:40.799439",
     "status": "completed"
    },
    "tags": []
   },
   "source": [
    "### Confusion Matrix"
   ]
  },
  {
   "cell_type": "code",
   "execution_count": 23,
   "id": "2bd4f433",
   "metadata": {
    "execution": {
     "iopub.execute_input": "2022-11-24T20:05:45.266389Z",
     "iopub.status.busy": "2022-11-24T20:05:45.266002Z",
     "iopub.status.idle": "2022-11-24T20:05:55.048892Z",
     "shell.execute_reply": "2022-11-24T20:05:55.047996Z"
    },
    "papermill": {
     "duration": 11.223489,
     "end_time": "2022-11-24T20:05:55.051036",
     "exception": false,
     "start_time": "2022-11-24T20:05:43.827547",
     "status": "completed"
    },
    "tags": []
   },
   "outputs": [
    {
     "name": "stderr",
     "output_type": "stream",
     "text": [
      "2022-11-24 20:05:48.976891: W tensorflow/compiler/xla/stream_executor/gpu/asm_compiler.cc:115] *** WARNING *** You are using ptxas 11.0.221, which is older than 11.1. ptxas before 11.1 is known to miscompile XLA code, leading to incorrect results or invalid-address errors.\n",
      "\n",
      "You may not need to update to CUDA 11.1; cherry-picking the ptxas binary is often sufficient.\n",
      "2022-11-24 20:05:49.320433: W tensorflow/compiler/xla/stream_executor/gpu/asm_compiler.cc:115] *** WARNING *** You are using ptxas 11.0.221, which is older than 11.1. ptxas before 11.1 is known to miscompile XLA code, leading to incorrect results or invalid-address errors.\n",
      "\n",
      "You may not need to update to CUDA 11.1; cherry-picking the ptxas binary is often sufficient.\n",
      "2022-11-24 20:05:49.646505: W tensorflow/compiler/xla/stream_executor/gpu/asm_compiler.cc:115] *** WARNING *** You are using ptxas 11.0.221, which is older than 11.1. ptxas before 11.1 is known to miscompile XLA code, leading to incorrect results or invalid-address errors.\n",
      "\n",
      "You may not need to update to CUDA 11.1; cherry-picking the ptxas binary is often sufficient.\n"
     ]
    },
    {
     "name": "stdout",
     "output_type": "stream",
     "text": [
      " 1/11 [=>............................] - ETA: 58s"
     ]
    },
    {
     "name": "stderr",
     "output_type": "stream",
     "text": [
      "2022-11-24 20:05:51.071258: W tensorflow/compiler/xla/stream_executor/gpu/asm_compiler.cc:115] *** WARNING *** You are using ptxas 11.0.221, which is older than 11.1. ptxas before 11.1 is known to miscompile XLA code, leading to incorrect results or invalid-address errors.\n",
      "\n",
      "You may not need to update to CUDA 11.1; cherry-picking the ptxas binary is often sufficient.\n"
     ]
    },
    {
     "name": "stdout",
     "output_type": "stream",
     "text": [
      "10/11 [==========================>...] - ETA: 0s"
     ]
    },
    {
     "name": "stderr",
     "output_type": "stream",
     "text": [
      "2022-11-24 20:05:52.437124: W tensorflow/compiler/xla/stream_executor/gpu/asm_compiler.cc:115] *** WARNING *** You are using ptxas 11.0.221, which is older than 11.1. ptxas before 11.1 is known to miscompile XLA code, leading to incorrect results or invalid-address errors.\n",
      "\n",
      "You may not need to update to CUDA 11.1; cherry-picking the ptxas binary is often sufficient.\n",
      "2022-11-24 20:05:52.719444: W tensorflow/compiler/xla/stream_executor/gpu/asm_compiler.cc:115] *** WARNING *** You are using ptxas 11.0.221, which is older than 11.1. ptxas before 11.1 is known to miscompile XLA code, leading to incorrect results or invalid-address errors.\n",
      "\n",
      "You may not need to update to CUDA 11.1; cherry-picking the ptxas binary is often sufficient.\n",
      "2022-11-24 20:05:53.006784: W tensorflow/compiler/xla/stream_executor/gpu/asm_compiler.cc:115] *** WARNING *** You are using ptxas 11.0.221, which is older than 11.1. ptxas before 11.1 is known to miscompile XLA code, leading to incorrect results or invalid-address errors.\n",
      "\n",
      "You may not need to update to CUDA 11.1; cherry-picking the ptxas binary is often sufficient.\n"
     ]
    },
    {
     "name": "stdout",
     "output_type": "stream",
     "text": [
      "11/11 [==============================] - 9s 353ms/step\n"
     ]
    },
    {
     "name": "stderr",
     "output_type": "stream",
     "text": [
      "2022-11-24 20:05:54.601143: W tensorflow/compiler/xla/stream_executor/gpu/asm_compiler.cc:115] *** WARNING *** You are using ptxas 11.0.221, which is older than 11.1. ptxas before 11.1 is known to miscompile XLA code, leading to incorrect results or invalid-address errors.\n",
      "\n",
      "You may not need to update to CUDA 11.1; cherry-picking the ptxas binary is often sufficient.\n"
     ]
    },
    {
     "name": "stdout",
     "output_type": "stream",
     "text": [
      "Accuracy: 0.943\n",
      "Precision: 0.9454\n",
      "Recall: 0.9211\n",
      "F1: 0.9304\n"
     ]
    },
    {
     "data": {
      "image/png": "[encoded data removed]",
      "text/plain": [
       "<Figure size 720x576 with 2 Axes>"
      ]
     },
     "metadata": {
      "needs_background": "light"
     },
     "output_type": "display_data"
    }
   ],
   "source": [
    "# Predict the test set with the CNN\n",
    "predictions = model.predict(X_val)\n",
    "predictions.shape\n",
    "\n",
    "# Compute the confusion matrix\n",
    "cm = confusion_matrix(np.argmax(y_val, axis=-1), np.argmax(predictions, axis=-1))\n",
    "\n",
    "# Compute the classification metrics\n",
    "accuracy = accuracy_score(np.argmax(y_val, axis=-1), np.argmax(predictions, axis=-1))\n",
    "precision = precision_score(np.argmax(y_val, axis=-1), np.argmax(predictions, axis=-1), average='macro')\n",
    "recall = recall_score(np.argmax(y_val, axis=-1), np.argmax(predictions, axis=-1), average='macro')\n",
    "f1 = f1_score(np.argmax(y_val, axis=-1), np.argmax(predictions, axis=-1), average='macro')\n",
    "print('Accuracy:',accuracy.round(4))\n",
    "print('Precision:',precision.round(4))\n",
    "print('Recall:',recall.round(4))\n",
    "print('F1:',f1.round(4))\n",
    "\n",
    "# Plot the confusion matrix\n",
    "plt.figure(figsize=(10,8))\n",
    "sns.heatmap(cm.T, xticklabels=list(labels.values()), yticklabels=list(labels.values()))\n",
    "plt.xlabel('True labels')\n",
    "plt.ylabel('Predicted labels')\n",
    "plt.show()"
   ]
  },
  {
   "cell_type": "code",
   "execution_count": 24,
   "id": "3ca28ed7",
   "metadata": {
    "execution": {
     "iopub.execute_input": "2022-11-24T20:05:57.925419Z",
     "iopub.status.busy": "2022-11-24T20:05:57.925038Z",
     "iopub.status.idle": "2022-11-24T20:05:57.937100Z",
     "shell.execute_reply": "2022-11-24T20:05:57.936010Z"
    },
    "papermill": {
     "duration": 1.436688,
     "end_time": "2022-11-24T20:05:57.939378",
     "exception": false,
     "start_time": "2022-11-24T20:05:56.502690",
     "status": "completed"
    },
    "tags": []
   },
   "outputs": [
    {
     "name": "stdout",
     "output_type": "stream",
     "text": [
      "              precision    recall  f1-score   support\n",
      "\n",
      "           0       0.92      0.67      0.77        18\n",
      "           1       0.96      0.96      0.96        53\n",
      "           2       0.93      0.98      0.95        51\n",
      "           3       0.92      0.92      0.92        51\n",
      "           4       0.96      0.96      0.96        53\n",
      "           5       1.00      0.95      0.98        22\n",
      "           6       0.98      0.98      0.98        53\n",
      "           7       0.89      0.94      0.91        50\n",
      "\n",
      "    accuracy                           0.94       351\n",
      "   macro avg       0.95      0.92      0.93       351\n",
      "weighted avg       0.94      0.94      0.94       351\n",
      "\n"
     ]
    }
   ],
   "source": [
    "# Get the classification report\n",
    "print(classification_report(np.argmax(y_val, axis=-1), np.argmax(predictions, axis=-1)))"
   ]
  },
  {
   "cell_type": "markdown",
   "id": "5e6a22cf",
   "metadata": {
    "papermill": {
     "duration": 1.758877,
     "end_time": "2022-11-24T20:06:01.145122",
     "exception": false,
     "start_time": "2022-11-24T20:05:59.386245",
     "status": "completed"
    },
    "tags": []
   },
   "source": [
    "### Save the model"
   ]
  },
  {
   "cell_type": "code",
   "execution_count": 25,
   "id": "b4af4053",
   "metadata": {
    "execution": {
     "iopub.execute_input": "2022-11-24T20:06:04.225205Z",
     "iopub.status.busy": "2022-11-24T20:06:04.224504Z",
     "iopub.status.idle": "2022-11-24T20:06:37.519541Z",
     "shell.execute_reply": "2022-11-24T20:06:37.518439Z"
    },
    "papermill": {
     "duration": 34.759943,
     "end_time": "2022-11-24T20:06:37.522479",
     "exception": false,
     "start_time": "2022-11-24T20:06:02.762536",
     "status": "completed"
    },
    "tags": []
   },
   "outputs": [],
   "source": [
    "model.save('ConvNextBase_ft', include_optimizer=False)"
   ]
  }
 ],
 "metadata": {
  "kernelspec": {
   "display_name": "Python 3",
   "language": "python",
   "name": "python3"
  },
  "language_info": {
   "codemirror_mode": {
    "name": "ipython",
    "version": 3
   },
   "file_extension": ".py",
   "mimetype": "text/x-python",
   "name": "python",
   "nbconvert_exporter": "python",
   "pygments_lexer": "ipython3",
   "version": "3.7.12"
  },
  "papermill": {
   "default_parameters": {},
   "duration": 5182.524786,
   "end_time": "2022-11-24T20:06:42.258140",
   "environment_variables": {},
   "exception": null,
   "input_path": "__notebook__.ipynb",
   "output_path": "__notebook__.ipynb",
   "parameters": {},
   "start_time": "2022-11-24T18:40:19.733354",
   "version": "2.3.4"
  }
 },
 "nbformat": 4,
 "nbformat_minor": 5
}
